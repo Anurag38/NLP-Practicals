{
  "nbformat": 4,
  "nbformat_minor": 5,
  "metadata": {
    "kernelspec": {
      "display_name": "Python 3",
      "language": "python",
      "name": "python3"
    },
    "language_info": {
      "codemirror_mode": {
        "name": "ipython",
        "version": 3
      },
      "file_extension": ".py",
      "mimetype": "text/x-python",
      "name": "python",
      "nbconvert_exporter": "python",
      "pygments_lexer": "ipython3",
      "version": "3.8.8"
    },
    "colab": {
      "name": "n-gram model.ipynb",
      "provenance": [],
      "include_colab_link": true
    }
  },
  "cells": [
    {
      "cell_type": "markdown",
      "metadata": {
        "id": "view-in-github",
        "colab_type": "text"
      },
      "source": [
        "<a href=\"https://colab.research.google.com/github/Anurag38/NLP-Practicals/blob/main/Practical%202%20-%20N-Gram%20models/n_gram_model.ipynb\" target=\"_parent\"><img src=\"https://colab.research.google.com/assets/colab-badge.svg\" alt=\"Open In Colab\"/></a>"
      ]
    },
    {
      "cell_type": "code",
      "metadata": {
        "id": "689d5f6f-e0be-4745-9e4a-d4c0ce739971"
      },
      "source": [
        "import pandas as pd\n",
        "import requests\n",
        "from bs4 import BeautifulSoup"
      ],
      "id": "689d5f6f-e0be-4745-9e4a-d4c0ce739971",
      "execution_count": null,
      "outputs": []
    },
    {
      "cell_type": "code",
      "metadata": {
        "id": "ffced7c0-756c-48bc-b4fe-c8d5161f9477",
        "outputId": "1408b6e7-388e-4c0e-db13-3e13a09f925a"
      },
      "source": [
        "search_query=\"logitech+keyboard+and+mouse+combo\"\n",
        "base_url=\"https://www.amazon.in/s?k=\"\n",
        "url=base_url+search_query\n",
        "print(url)"
      ],
      "id": "ffced7c0-756c-48bc-b4fe-c8d5161f9477",
      "execution_count": null,
      "outputs": [
        {
          "name": "stdout",
          "output_type": "stream",
          "text": [
            "https://www.amazon.in/s?k=logitech+keyboard+and+mouse+combo\n"
          ]
        }
      ]
    },
    {
      "cell_type": "code",
      "metadata": {
        "id": "7729c1c7-190b-4bed-9360-bff0143cc7fb"
      },
      "source": [
        "header={'User-Agent': 'Mozilla/5.0 (Windows NT 10.0; Win64; x64) AppleWebKit/537.36 (KHTML, like Gecko) Chrome/77.0.3865.90 Safari/537.36','referer':'https://www.amazon.com/s?k=redmi+note+10+pro&crid=18G3A5WZHFYWR&sprefix=redmi+note+10%2Caps%2C417&ref=nb_sb_ss_ts-doa-p_1_13'}"
      ],
      "id": "7729c1c7-190b-4bed-9360-bff0143cc7fb",
      "execution_count": null,
      "outputs": []
    },
    {
      "cell_type": "code",
      "metadata": {
        "id": "319cbd43-48d6-4b49-add0-c790b58cbdc6",
        "outputId": "9ace646c-a924-4ebd-b113-ed9ba88c2137"
      },
      "source": [
        "search_response=requests.get(url,headers=header)\n",
        "search_response.status_code"
      ],
      "id": "319cbd43-48d6-4b49-add0-c790b58cbdc6",
      "execution_count": null,
      "outputs": [
        {
          "data": {
            "text/plain": [
              "200"
            ]
          },
          "execution_count": 110,
          "metadata": {},
          "output_type": "execute_result"
        }
      ]
    },
    {
      "cell_type": "markdown",
      "metadata": {
        "id": "dc3dbcc9-6750-4da0-8dd0-cd1d6f1e719c"
      },
      "source": [
        "## Getting the content of the page"
      ],
      "id": "dc3dbcc9-6750-4da0-8dd0-cd1d6f1e719c"
    },
    {
      "cell_type": "code",
      "metadata": {
        "id": "56f87a74-8c61-4d14-9a19-bc4b527bfbf0"
      },
      "source": [
        "cookie={} \n",
        "def getAmazonSearch(search_query):\n",
        "    url=\"https://www.amazon.com/s?k=\"+search_query\n",
        "    print(url)\n",
        "    page=requests.get(url,headers=header)\n",
        "    if page.status_code==200:\n",
        "        return page\n",
        "    else:\n",
        "        return \"Error\""
      ],
      "id": "56f87a74-8c61-4d14-9a19-bc4b527bfbf0",
      "execution_count": null,
      "outputs": []
    },
    {
      "cell_type": "markdown",
      "metadata": {
        "id": "9e5310ce-15e9-4841-815c-cec35bfe8076"
      },
      "source": [
        "## Getting the content of each product from their respective pages using the data-asin attribute(unique) "
      ],
      "id": "9e5310ce-15e9-4841-815c-cec35bfe8076"
    },
    {
      "cell_type": "code",
      "metadata": {
        "id": "225d3c61-32df-451c-b524-6a7449504836"
      },
      "source": [
        "def Searchasin(asin):\n",
        "    url=\"https://www.amazon.com/dp/\"+asin\n",
        "    print(url)\n",
        "    page=requests.get(url,cookies=cookie,headers=header)\n",
        "    if page.status_code==200:\n",
        "        return page\n",
        "    else:\n",
        "        return \"Error\""
      ],
      "id": "225d3c61-32df-451c-b524-6a7449504836",
      "execution_count": null,
      "outputs": []
    },
    {
      "cell_type": "markdown",
      "metadata": {
        "id": "7fa8e43a-75c4-48f1-8d72-f1ff65aee2b5"
      },
      "source": [
        "## See all review link"
      ],
      "id": "7fa8e43a-75c4-48f1-8d72-f1ff65aee2b5"
    },
    {
      "cell_type": "code",
      "metadata": {
        "id": "70bce5bb-549f-4d8f-8391-50f8b1cd41dd"
      },
      "source": [
        "def Searchreviews(review_link):\n",
        "    url=\"https://www.amazon.com\"+review_link\n",
        "    print(url)\n",
        "    page=requests.get(url,cookies=cookie,headers=header)\n",
        "    if page.status_code==200:\n",
        "        return page\n",
        "    else:\n",
        "        return \"Error\""
      ],
      "id": "70bce5bb-549f-4d8f-8391-50f8b1cd41dd",
      "execution_count": null,
      "outputs": []
    },
    {
      "cell_type": "markdown",
      "metadata": {
        "id": "f8401ea5-eb6f-4edc-b7a7-5fd139ca4c8a"
      },
      "source": [
        "## Individual product extraction"
      ],
      "id": "f8401ea5-eb6f-4edc-b7a7-5fd139ca4c8a"
    },
    {
      "cell_type": "code",
      "metadata": {
        "id": "d8b35d2c-7ab5-4c2e-910a-841c3c40f537",
        "outputId": "ccc619d6-88ed-4e3f-8f89-3976d335862b"
      },
      "source": [
        "product_names=[]\n",
        "response=getAmazonSearch('logitech+keyboard+and+mouse+combo')\n",
        "soup=BeautifulSoup(response.content)\n",
        "for i in soup.findAll(\"span\",{'class':'a-size-medium a-color-base a-text-normal'}): # the tag which is common for all the names of products\n",
        "    product_names.append(i.text) #adding the product names to the list"
      ],
      "id": "d8b35d2c-7ab5-4c2e-910a-841c3c40f537",
      "execution_count": null,
      "outputs": [
        {
          "name": "stdout",
          "output_type": "stream",
          "text": [
            "https://www.amazon.com/s?k=logitech+keyboard+and+mouse+combo\n"
          ]
        }
      ]
    },
    {
      "cell_type": "code",
      "metadata": {
        "id": "59c5e9ea-7d06-46e9-87a9-9f30dd598277",
        "outputId": "26f40fbc-66e6-4dca-eb85-0568ce1a086b"
      },
      "source": [
        "product_names"
      ],
      "id": "59c5e9ea-7d06-46e9-87a9-9f30dd598277",
      "execution_count": null,
      "outputs": [
        {
          "data": {
            "text/plain": [
              "['Amazon Basics Wireless Computer Keyboard and Mouse Combo - Full Size - US Layout (QWERTY)',\n",
              " 'Wireless Keyboard and Mouse, WisFox Full-Size Wireless Mouse and Keyboard Combo, 2.4GHz Silent USB Wireless Keyboard Mouse Combo for PC Desktops Computer, Laptops, Windows (Black)',\n",
              " 'Logitech MK270 Wireless Keyboard and Mouse Combo - Keyboard and Mouse Included, Long Battery Life',\n",
              " 'Logitech MK570 Wireless Wave Ergonomic Keyboard and Mouse Combo',\n",
              " 'Logitech MK345 Wireless Combo Full-Sized Keyboard with Palm Rest and Comfortable Right-Handed Mouse - Black',\n",
              " 'Logitech MK335 Wireless Keyboard and Mouse Combo - Black/Silver',\n",
              " 'Logitech Desktop MK120 Durable, Comfortable, USB Mouse and Keyboard Combo',\n",
              " 'Logitech MK295 Wireless Mouse & Keyboard Combo with SilentTouch Technology, Full Numpad, Advanced Optical Tracking, Lag-Free Wireless, 90% Less Noise - Graphite',\n",
              " 'Logitech MK550 Wireless Wave Keyboard and Mouse Combo - Includes Keyboard and Mouse, Long Battery Life, Ergonomic Wave Design - Black (Discontinued by Manufacturer)',\n",
              " 'Logitech MK235 Wireless Keyboard and Mouse',\n",
              " 'Wireless Keyboard and Mouse Combo, Ultra-Thin 2.4G USB Full Size Keyboard and Mouse Set, Cute 110 Keys Keyboard for PC, Notebook, MacBook, Tablet, Laptop, Windows System (Grey Colorful)',\n",
              " 'Logitech MK850 Performance Wireless Keyboard and Mouse Combo',\n",
              " 'Logitech Media Combo MK200 Full-Size Keyboard and High-Definition Optical Mouse',\n",
              " 'Logitech MK270 Wireless Keyboard and Mouse Combo — Keyboard and Mouse Included, Long Battery life',\n",
              " 'Logitech MK520 Wireless Keyboard and Mouse Combo — Keyboard and Mouse, Long Battery Life, Secure 2.4GHz Connectivity',\n",
              " 'Wireless Keyboard and Mouse Combo Silent, RATEL 2.4GHz Ultra-Thin Full Sized Wireless Keyboard Mouse Set with USB Receiver for Computer, Desktop, PC, Notebook, Laptop (Black)',\n",
              " 'Logitech MK540 Advanced Wireless Keyboard with Wireless Mouse Combo — Full Size Keyboard and Mouse, Long Battery Life, Caps Lock Indicator Light, Hot Keys, Secure 2.4GHz Connectivity (MK540)',\n",
              " 'Logitech MX Master 3 Advanced Wireless Mouse - Graphite & Ergo K860 Wireless Ergonomic Keyboard with Wrist Rest - Split Keyboard Layout for Windows/Mac, Bluetooth or USB Connectivity',\n",
              " 'Logitech MK540 Advanced Wireless Keyboard and Wireless M310 Mouse Combo — Full Size Keyboard and Mouse, Long Battery Life, Caps Lock Indicator Light, Hot Keys, Secure 2.4GHz Connectivity (MK540)',\n",
              " 'Logitech Wireless Desktop MK710 Keyboard & Mouse',\n",
              " 'Macally USB Wired Keyboard and Mouse Combo for Mac and PC - Save Space and Enhance Workflow - Compact Keyboard with 78 Slim Keys and Quiet Click Mouse - Sleek USB Keyboard and Mouse Wired',\n",
              " 'Brookstone Wireless Mouse & Keyboard Bundle- 2 in 1 Desktop Combo with Full-Sized, Low-Profile Keyboard and Mouse with Scroll Wheel (Mac and PC Compatible) (Standard Keyboard & Mouse)']"
            ]
          },
          "execution_count": 115,
          "metadata": {},
          "output_type": "execute_result"
        }
      ]
    },
    {
      "cell_type": "code",
      "metadata": {
        "id": "9a07f091-0819-48db-a4d2-9df239f41e3f",
        "outputId": "b512428c-d31c-4273-a1d4-37d9f1d749c2"
      },
      "source": [
        "len(product_names)"
      ],
      "id": "9a07f091-0819-48db-a4d2-9df239f41e3f",
      "execution_count": null,
      "outputs": [
        {
          "data": {
            "text/plain": [
              "22"
            ]
          },
          "execution_count": 116,
          "metadata": {},
          "output_type": "execute_result"
        }
      ]
    },
    {
      "cell_type": "markdown",
      "metadata": {
        "id": "844de7b1-604c-4479-90c1-2a1781dfb133"
      },
      "source": [
        "## Getting the individual product's data-asin number"
      ],
      "id": "844de7b1-604c-4479-90c1-2a1781dfb133"
    },
    {
      "cell_type": "code",
      "metadata": {
        "id": "ed27ef1e-0f47-4795-a481-0173fe349f02",
        "outputId": "47b371ec-bdce-4b95-adb8-9523cba1af49"
      },
      "source": [
        "data_asin=[]\n",
        "response=getAmazonSearch(search_query)\n",
        "soup=BeautifulSoup(response.content)\n",
        "for i in soup.findAll(\"div\",{'class':\"s-result-item s-asin sg-col-0-of-12 sg-col-16-of-20 sg-col sg-col-12-of-16\"}):\n",
        "    data_asin.append(i['data-asin'])"
      ],
      "id": "ed27ef1e-0f47-4795-a481-0173fe349f02",
      "execution_count": null,
      "outputs": [
        {
          "name": "stdout",
          "output_type": "stream",
          "text": [
            "https://www.amazon.com/s?k=logitech+keyboard+and+mouse+combo\n"
          ]
        }
      ]
    },
    {
      "cell_type": "code",
      "metadata": {
        "id": "91b13495-0e7e-4726-966c-14431a1bfb1f",
        "outputId": "7056b443-080c-4852-806e-748ce4852c3d"
      },
      "source": [
        "data_asin"
      ],
      "id": "91b13495-0e7e-4726-966c-14431a1bfb1f",
      "execution_count": null,
      "outputs": [
        {
          "data": {
            "text/plain": [
              "['B079JLY5M5',\n",
              " 'B0725X7NSJ',\n",
              " 'B00QXT5T3U',\n",
              " 'B072JX77X6',\n",
              " 'B003NREDC8',\n",
              " 'B089KV4YYX',\n",
              " 'B003VAHYNC',\n",
              " 'B01AROOL12',\n",
              " 'B07VD4Q84X',\n",
              " 'B01NAVO5PF',\n",
              " 'B003NR874S',\n",
              " 'B00BP5KOPA',\n",
              " 'B003VANO7C',\n",
              " 'B07K2KPSBQ',\n",
              " 'B08HYV33XJ',\n",
              " 'B07NLHW3D6']"
            ]
          },
          "execution_count": 118,
          "metadata": {},
          "output_type": "execute_result"
        }
      ]
    },
    {
      "cell_type": "code",
      "metadata": {
        "id": "8d3d3370-5562-4141-8e44-058680163093",
        "outputId": "b2dbfb41-fd99-47f9-a12a-ab72435fc8a2"
      },
      "source": [
        "len(data_asin)"
      ],
      "id": "8d3d3370-5562-4141-8e44-058680163093",
      "execution_count": null,
      "outputs": [
        {
          "data": {
            "text/plain": [
              "16"
            ]
          },
          "execution_count": 119,
          "metadata": {},
          "output_type": "execute_result"
        }
      ]
    },
    {
      "cell_type": "markdown",
      "metadata": {
        "id": "e2d8ce9e-6426-4c7b-971b-c2114da069a3"
      },
      "source": [
        "## Passing the data-asin number to get to the see all review page"
      ],
      "id": "e2d8ce9e-6426-4c7b-971b-c2114da069a3"
    },
    {
      "cell_type": "code",
      "metadata": {
        "id": "c3c463a5-3f4a-4968-8d0d-608d4675eb43",
        "outputId": "207be9ee-0624-4a37-c1c5-f3db71fd38d7"
      },
      "source": [
        "link=[]\n",
        "for i in range(len(data_asin)):\n",
        "    response=Searchasin(data_asin[i])\n",
        "    soup=BeautifulSoup(response.content)\n",
        "    for i in soup.findAll(\"a\",{'data-hook':\"see-all-reviews-link-foot\"}):\n",
        "        link.append(i['href'])"
      ],
      "id": "c3c463a5-3f4a-4968-8d0d-608d4675eb43",
      "execution_count": null,
      "outputs": [
        {
          "name": "stdout",
          "output_type": "stream",
          "text": [
            "https://www.amazon.com/dp/B079JLY5M5\n",
            "https://www.amazon.com/dp/B0725X7NSJ\n",
            "https://www.amazon.com/dp/B00QXT5T3U\n",
            "https://www.amazon.com/dp/B072JX77X6\n",
            "https://www.amazon.com/dp/B003NREDC8\n",
            "https://www.amazon.com/dp/B089KV4YYX\n",
            "https://www.amazon.com/dp/B003VAHYNC\n",
            "https://www.amazon.com/dp/B01AROOL12\n",
            "https://www.amazon.com/dp/B07VD4Q84X\n",
            "https://www.amazon.com/dp/B01NAVO5PF\n",
            "https://www.amazon.com/dp/B003NR874S\n",
            "https://www.amazon.com/dp/B00BP5KOPA\n",
            "https://www.amazon.com/dp/B003VANO7C\n",
            "https://www.amazon.com/dp/B07K2KPSBQ\n",
            "https://www.amazon.com/dp/B08HYV33XJ\n",
            "https://www.amazon.com/dp/B07NLHW3D6\n"
          ]
        }
      ]
    },
    {
      "cell_type": "code",
      "metadata": {
        "id": "ec322e0a-e457-4e6b-8149-5aa173f97b94",
        "outputId": "41d5c445-2b3c-48b6-e2d0-8003eed1541a"
      },
      "source": [
        "link"
      ],
      "id": "ec322e0a-e457-4e6b-8149-5aa173f97b94",
      "execution_count": null,
      "outputs": [
        {
          "data": {
            "text/plain": [
              "['/Logitech-MK270-Wireless-Keyboard-Mouse/product-reviews/B079JLY5M5/ref=cm_cr_dp_d_show_all_btm?ie=UTF8&reviewerType=all_reviews',\n",
              " '/Logitech-MK270-Wireless-Keyboard-Mouse/product-reviews/B079JLY5M5/ref=cm_cr_dp_d_show_all_btm?ie=UTF8&reviewerType=all_reviews',\n",
              " '/Logitech-Comfort-Wireless-Keyboard-Optical/product-reviews/B0725X7NSJ/ref=cm_cr_dp_d_show_all_btm?ie=UTF8&reviewerType=all_reviews',\n",
              " '/Logitech-Comfort-Wireless-Keyboard-Optical/product-reviews/B0725X7NSJ/ref=cm_cr_dp_d_show_all_btm?ie=UTF8&reviewerType=all_reviews',\n",
              " '/Logitech-MK345-Wireless-Combo-Right-Handed/product-reviews/B00QXT5T3U/ref=cm_cr_dp_d_show_all_btm?ie=UTF8&reviewerType=all_reviews',\n",
              " '/Logitech-MK345-Wireless-Combo-Right-Handed/product-reviews/B00QXT5T3U/ref=cm_cr_dp_d_show_all_btm?ie=UTF8&reviewerType=all_reviews',\n",
              " '/Logitech-13004-MK335/product-reviews/B072JX77X6/ref=cm_cr_dp_d_show_all_btm?ie=UTF8&reviewerType=all_reviews',\n",
              " '/Logitech-13004-MK335/product-reviews/B072JX77X6/ref=cm_cr_dp_d_show_all_btm?ie=UTF8&reviewerType=all_reviews',\n",
              " '/Logitech-Desktop-Durable-Comfortable-keyboard/product-reviews/B003NREDC8/ref=cm_cr_dp_d_show_all_btm?ie=UTF8&reviewerType=all_reviews',\n",
              " '/Logitech-Desktop-Durable-Comfortable-keyboard/product-reviews/B003NREDC8/ref=cm_cr_dp_d_show_all_btm?ie=UTF8&reviewerType=all_reviews',\n",
              " '/Logitech-Wireless-Keyboard-SilentTouch-Technology/product-reviews/B089KV4YYX/ref=cm_cr_dp_d_show_all_btm?ie=UTF8&reviewerType=all_reviews',\n",
              " '/Logitech-Wireless-Keyboard-SilentTouch-Technology/product-reviews/B089KV4YYX/ref=cm_cr_dp_d_show_all_btm?ie=UTF8&reviewerType=all_reviews',\n",
              " '/Logitech-MK550-Wireless-Keyboard-Mouse/product-reviews/B003VAHYNC/ref=cm_cr_dp_d_show_all_btm?ie=UTF8&reviewerType=all_reviews',\n",
              " '/Logitech-MK550-Wireless-Keyboard-Mouse/product-reviews/B003VAHYNC/ref=cm_cr_dp_d_show_all_btm?ie=UTF8&reviewerType=all_reviews',\n",
              " '/Logitech-MK235-Wireless-Keyboard-Mouse/product-reviews/B01AROOL12/ref=cm_cr_dp_d_show_all_btm?ie=UTF8&reviewerType=all_reviews',\n",
              " '/Logitech-MK235-Wireless-Keyboard-Mouse/product-reviews/B01AROOL12/ref=cm_cr_dp_d_show_all_btm?ie=UTF8&reviewerType=all_reviews',\n",
              " '/Logitech-MK470-Slim-Wireless-Combo/product-reviews/B07VD4Q84X/ref=cm_cr_dp_d_show_all_btm?ie=UTF8&reviewerType=all_reviews',\n",
              " '/Logitech-MK470-Slim-Wireless-Combo/product-reviews/B07VD4Q84X/ref=cm_cr_dp_d_show_all_btm?ie=UTF8&reviewerType=all_reviews',\n",
              " '/Logitech-MK850-Performance-Wireless-Keyboard/product-reviews/B01NAVO5PF/ref=cm_cr_dp_d_show_all_btm?ie=UTF8&reviewerType=all_reviews',\n",
              " '/Logitech-MK850-Performance-Wireless-Keyboard/product-reviews/B01NAVO5PF/ref=cm_cr_dp_d_show_all_btm?ie=UTF8&reviewerType=all_reviews',\n",
              " '/Logitech-Full-Size-Keyboard-High-Definition-Optical/product-reviews/B003NR874S/ref=cm_cr_dp_d_show_all_btm?ie=UTF8&reviewerType=all_reviews',\n",
              " '/Logitech-Full-Size-Keyboard-High-Definition-Optical/product-reviews/B003NR874S/ref=cm_cr_dp_d_show_all_btm?ie=UTF8&reviewerType=all_reviews',\n",
              " '/Logitech-MK270-Wireless-Keyboard-Mouse/product-reviews/B00BP5KOPA/ref=cm_cr_dp_d_show_all_btm?ie=UTF8&reviewerType=all_reviews',\n",
              " '/Logitech-MK270-Wireless-Keyboard-Mouse/product-reviews/B00BP5KOPA/ref=cm_cr_dp_d_show_all_btm?ie=UTF8&reviewerType=all_reviews',\n",
              " '/Logitech-MK520-Wireless-Keyboard-Mouse/product-reviews/B003VANO7C/ref=cm_cr_dp_d_show_all_btm?ie=UTF8&reviewerType=all_reviews',\n",
              " '/Logitech-MK520-Wireless-Keyboard-Mouse/product-reviews/B003VANO7C/ref=cm_cr_dp_d_show_all_btm?ie=UTF8&reviewerType=all_reviews',\n",
              " '/Logitech-S120-Stereo-Speakers-Pack/product-reviews/B07K2KPSBQ/ref=cm_cr_dp_d_show_all_btm?ie=UTF8&reviewerType=all_reviews',\n",
              " '/Logitech-Master-Advanced-Wireless-Mouse/product-reviews/B08HYV33XJ/ref=cm_cr_dp_d_show_all_btm?ie=UTF8&reviewerType=all_reviews',\n",
              " '/Logitech-Master-Advanced-Wireless-Mouse/product-reviews/B08HYV33XJ/ref=cm_cr_dp_d_show_all_btm?ie=UTF8&reviewerType=all_reviews',\n",
              " '/Logitech-Powered-Multimedia-Stereo-Speakers/product-reviews/B07NLHW3D6/ref=cm_cr_dp_d_show_all_btm?ie=UTF8&reviewerType=all_reviews']"
            ]
          },
          "execution_count": 121,
          "metadata": {},
          "output_type": "execute_result"
        }
      ]
    },
    {
      "cell_type": "code",
      "metadata": {
        "id": "52b28d15-de54-4a76-97cd-1a61be272876",
        "outputId": "3a89182f-1b57-4637-ff3c-77191b69307f"
      },
      "source": [
        "reviews=[]\n",
        "for j in range(len(link)):\n",
        "    for k in range(2):\n",
        "        response=Searchreviews(link[j]+'&pageNumber='+str(k))\n",
        "        soup=BeautifulSoup(response.content)\n",
        "        for i in soup.findAll(\"span\",{'data-hook':\"review-body\"}):\n",
        "            reviews.append(i.text)"
      ],
      "id": "52b28d15-de54-4a76-97cd-1a61be272876",
      "execution_count": null,
      "outputs": [
        {
          "name": "stdout",
          "output_type": "stream",
          "text": [
            "https://www.amazon.com/Logitech-MK270-Wireless-Keyboard-Mouse/product-reviews/B079JLY5M5/ref=cm_cr_dp_d_show_all_btm?ie=UTF8&reviewerType=all_reviews&pageNumber=0\n",
            "https://www.amazon.com/Logitech-MK270-Wireless-Keyboard-Mouse/product-reviews/B079JLY5M5/ref=cm_cr_dp_d_show_all_btm?ie=UTF8&reviewerType=all_reviews&pageNumber=1\n",
            "https://www.amazon.com/Logitech-MK270-Wireless-Keyboard-Mouse/product-reviews/B079JLY5M5/ref=cm_cr_dp_d_show_all_btm?ie=UTF8&reviewerType=all_reviews&pageNumber=0\n",
            "https://www.amazon.com/Logitech-MK270-Wireless-Keyboard-Mouse/product-reviews/B079JLY5M5/ref=cm_cr_dp_d_show_all_btm?ie=UTF8&reviewerType=all_reviews&pageNumber=1\n",
            "https://www.amazon.com/Logitech-Comfort-Wireless-Keyboard-Optical/product-reviews/B0725X7NSJ/ref=cm_cr_dp_d_show_all_btm?ie=UTF8&reviewerType=all_reviews&pageNumber=0\n",
            "https://www.amazon.com/Logitech-Comfort-Wireless-Keyboard-Optical/product-reviews/B0725X7NSJ/ref=cm_cr_dp_d_show_all_btm?ie=UTF8&reviewerType=all_reviews&pageNumber=1\n",
            "https://www.amazon.com/Logitech-Comfort-Wireless-Keyboard-Optical/product-reviews/B0725X7NSJ/ref=cm_cr_dp_d_show_all_btm?ie=UTF8&reviewerType=all_reviews&pageNumber=0\n",
            "https://www.amazon.com/Logitech-Comfort-Wireless-Keyboard-Optical/product-reviews/B0725X7NSJ/ref=cm_cr_dp_d_show_all_btm?ie=UTF8&reviewerType=all_reviews&pageNumber=1\n",
            "https://www.amazon.com/Logitech-MK345-Wireless-Combo-Right-Handed/product-reviews/B00QXT5T3U/ref=cm_cr_dp_d_show_all_btm?ie=UTF8&reviewerType=all_reviews&pageNumber=0\n",
            "https://www.amazon.com/Logitech-MK345-Wireless-Combo-Right-Handed/product-reviews/B00QXT5T3U/ref=cm_cr_dp_d_show_all_btm?ie=UTF8&reviewerType=all_reviews&pageNumber=1\n",
            "https://www.amazon.com/Logitech-MK345-Wireless-Combo-Right-Handed/product-reviews/B00QXT5T3U/ref=cm_cr_dp_d_show_all_btm?ie=UTF8&reviewerType=all_reviews&pageNumber=0\n",
            "https://www.amazon.com/Logitech-MK345-Wireless-Combo-Right-Handed/product-reviews/B00QXT5T3U/ref=cm_cr_dp_d_show_all_btm?ie=UTF8&reviewerType=all_reviews&pageNumber=1\n",
            "https://www.amazon.com/Logitech-13004-MK335/product-reviews/B072JX77X6/ref=cm_cr_dp_d_show_all_btm?ie=UTF8&reviewerType=all_reviews&pageNumber=0\n",
            "https://www.amazon.com/Logitech-13004-MK335/product-reviews/B072JX77X6/ref=cm_cr_dp_d_show_all_btm?ie=UTF8&reviewerType=all_reviews&pageNumber=1\n",
            "https://www.amazon.com/Logitech-13004-MK335/product-reviews/B072JX77X6/ref=cm_cr_dp_d_show_all_btm?ie=UTF8&reviewerType=all_reviews&pageNumber=0\n",
            "https://www.amazon.com/Logitech-13004-MK335/product-reviews/B072JX77X6/ref=cm_cr_dp_d_show_all_btm?ie=UTF8&reviewerType=all_reviews&pageNumber=1\n",
            "https://www.amazon.com/Logitech-Desktop-Durable-Comfortable-keyboard/product-reviews/B003NREDC8/ref=cm_cr_dp_d_show_all_btm?ie=UTF8&reviewerType=all_reviews&pageNumber=0\n",
            "https://www.amazon.com/Logitech-Desktop-Durable-Comfortable-keyboard/product-reviews/B003NREDC8/ref=cm_cr_dp_d_show_all_btm?ie=UTF8&reviewerType=all_reviews&pageNumber=1\n",
            "https://www.amazon.com/Logitech-Desktop-Durable-Comfortable-keyboard/product-reviews/B003NREDC8/ref=cm_cr_dp_d_show_all_btm?ie=UTF8&reviewerType=all_reviews&pageNumber=0\n",
            "https://www.amazon.com/Logitech-Desktop-Durable-Comfortable-keyboard/product-reviews/B003NREDC8/ref=cm_cr_dp_d_show_all_btm?ie=UTF8&reviewerType=all_reviews&pageNumber=1\n",
            "https://www.amazon.com/Logitech-Wireless-Keyboard-SilentTouch-Technology/product-reviews/B089KV4YYX/ref=cm_cr_dp_d_show_all_btm?ie=UTF8&reviewerType=all_reviews&pageNumber=0\n",
            "https://www.amazon.com/Logitech-Wireless-Keyboard-SilentTouch-Technology/product-reviews/B089KV4YYX/ref=cm_cr_dp_d_show_all_btm?ie=UTF8&reviewerType=all_reviews&pageNumber=1\n",
            "https://www.amazon.com/Logitech-Wireless-Keyboard-SilentTouch-Technology/product-reviews/B089KV4YYX/ref=cm_cr_dp_d_show_all_btm?ie=UTF8&reviewerType=all_reviews&pageNumber=0\n",
            "https://www.amazon.com/Logitech-Wireless-Keyboard-SilentTouch-Technology/product-reviews/B089KV4YYX/ref=cm_cr_dp_d_show_all_btm?ie=UTF8&reviewerType=all_reviews&pageNumber=1\n",
            "https://www.amazon.com/Logitech-MK550-Wireless-Keyboard-Mouse/product-reviews/B003VAHYNC/ref=cm_cr_dp_d_show_all_btm?ie=UTF8&reviewerType=all_reviews&pageNumber=0\n",
            "https://www.amazon.com/Logitech-MK550-Wireless-Keyboard-Mouse/product-reviews/B003VAHYNC/ref=cm_cr_dp_d_show_all_btm?ie=UTF8&reviewerType=all_reviews&pageNumber=1\n",
            "https://www.amazon.com/Logitech-MK550-Wireless-Keyboard-Mouse/product-reviews/B003VAHYNC/ref=cm_cr_dp_d_show_all_btm?ie=UTF8&reviewerType=all_reviews&pageNumber=0\n",
            "https://www.amazon.com/Logitech-MK550-Wireless-Keyboard-Mouse/product-reviews/B003VAHYNC/ref=cm_cr_dp_d_show_all_btm?ie=UTF8&reviewerType=all_reviews&pageNumber=1\n",
            "https://www.amazon.com/Logitech-MK235-Wireless-Keyboard-Mouse/product-reviews/B01AROOL12/ref=cm_cr_dp_d_show_all_btm?ie=UTF8&reviewerType=all_reviews&pageNumber=0\n",
            "https://www.amazon.com/Logitech-MK235-Wireless-Keyboard-Mouse/product-reviews/B01AROOL12/ref=cm_cr_dp_d_show_all_btm?ie=UTF8&reviewerType=all_reviews&pageNumber=1\n",
            "https://www.amazon.com/Logitech-MK235-Wireless-Keyboard-Mouse/product-reviews/B01AROOL12/ref=cm_cr_dp_d_show_all_btm?ie=UTF8&reviewerType=all_reviews&pageNumber=0\n",
            "https://www.amazon.com/Logitech-MK235-Wireless-Keyboard-Mouse/product-reviews/B01AROOL12/ref=cm_cr_dp_d_show_all_btm?ie=UTF8&reviewerType=all_reviews&pageNumber=1\n",
            "https://www.amazon.com/Logitech-MK470-Slim-Wireless-Combo/product-reviews/B07VD4Q84X/ref=cm_cr_dp_d_show_all_btm?ie=UTF8&reviewerType=all_reviews&pageNumber=0\n",
            "https://www.amazon.com/Logitech-MK470-Slim-Wireless-Combo/product-reviews/B07VD4Q84X/ref=cm_cr_dp_d_show_all_btm?ie=UTF8&reviewerType=all_reviews&pageNumber=1\n",
            "https://www.amazon.com/Logitech-MK470-Slim-Wireless-Combo/product-reviews/B07VD4Q84X/ref=cm_cr_dp_d_show_all_btm?ie=UTF8&reviewerType=all_reviews&pageNumber=0\n",
            "https://www.amazon.com/Logitech-MK470-Slim-Wireless-Combo/product-reviews/B07VD4Q84X/ref=cm_cr_dp_d_show_all_btm?ie=UTF8&reviewerType=all_reviews&pageNumber=1\n",
            "https://www.amazon.com/Logitech-MK850-Performance-Wireless-Keyboard/product-reviews/B01NAVO5PF/ref=cm_cr_dp_d_show_all_btm?ie=UTF8&reviewerType=all_reviews&pageNumber=0\n",
            "https://www.amazon.com/Logitech-MK850-Performance-Wireless-Keyboard/product-reviews/B01NAVO5PF/ref=cm_cr_dp_d_show_all_btm?ie=UTF8&reviewerType=all_reviews&pageNumber=1\n",
            "https://www.amazon.com/Logitech-MK850-Performance-Wireless-Keyboard/product-reviews/B01NAVO5PF/ref=cm_cr_dp_d_show_all_btm?ie=UTF8&reviewerType=all_reviews&pageNumber=0\n",
            "https://www.amazon.com/Logitech-MK850-Performance-Wireless-Keyboard/product-reviews/B01NAVO5PF/ref=cm_cr_dp_d_show_all_btm?ie=UTF8&reviewerType=all_reviews&pageNumber=1\n",
            "https://www.amazon.com/Logitech-Full-Size-Keyboard-High-Definition-Optical/product-reviews/B003NR874S/ref=cm_cr_dp_d_show_all_btm?ie=UTF8&reviewerType=all_reviews&pageNumber=0\n",
            "https://www.amazon.com/Logitech-Full-Size-Keyboard-High-Definition-Optical/product-reviews/B003NR874S/ref=cm_cr_dp_d_show_all_btm?ie=UTF8&reviewerType=all_reviews&pageNumber=1\n",
            "https://www.amazon.com/Logitech-Full-Size-Keyboard-High-Definition-Optical/product-reviews/B003NR874S/ref=cm_cr_dp_d_show_all_btm?ie=UTF8&reviewerType=all_reviews&pageNumber=0\n",
            "https://www.amazon.com/Logitech-Full-Size-Keyboard-High-Definition-Optical/product-reviews/B003NR874S/ref=cm_cr_dp_d_show_all_btm?ie=UTF8&reviewerType=all_reviews&pageNumber=1\n",
            "https://www.amazon.com/Logitech-MK270-Wireless-Keyboard-Mouse/product-reviews/B00BP5KOPA/ref=cm_cr_dp_d_show_all_btm?ie=UTF8&reviewerType=all_reviews&pageNumber=0\n",
            "https://www.amazon.com/Logitech-MK270-Wireless-Keyboard-Mouse/product-reviews/B00BP5KOPA/ref=cm_cr_dp_d_show_all_btm?ie=UTF8&reviewerType=all_reviews&pageNumber=1\n",
            "https://www.amazon.com/Logitech-MK270-Wireless-Keyboard-Mouse/product-reviews/B00BP5KOPA/ref=cm_cr_dp_d_show_all_btm?ie=UTF8&reviewerType=all_reviews&pageNumber=0\n",
            "https://www.amazon.com/Logitech-MK270-Wireless-Keyboard-Mouse/product-reviews/B00BP5KOPA/ref=cm_cr_dp_d_show_all_btm?ie=UTF8&reviewerType=all_reviews&pageNumber=1\n",
            "https://www.amazon.com/Logitech-MK520-Wireless-Keyboard-Mouse/product-reviews/B003VANO7C/ref=cm_cr_dp_d_show_all_btm?ie=UTF8&reviewerType=all_reviews&pageNumber=0\n",
            "https://www.amazon.com/Logitech-MK520-Wireless-Keyboard-Mouse/product-reviews/B003VANO7C/ref=cm_cr_dp_d_show_all_btm?ie=UTF8&reviewerType=all_reviews&pageNumber=1\n",
            "https://www.amazon.com/Logitech-MK520-Wireless-Keyboard-Mouse/product-reviews/B003VANO7C/ref=cm_cr_dp_d_show_all_btm?ie=UTF8&reviewerType=all_reviews&pageNumber=0\n",
            "https://www.amazon.com/Logitech-MK520-Wireless-Keyboard-Mouse/product-reviews/B003VANO7C/ref=cm_cr_dp_d_show_all_btm?ie=UTF8&reviewerType=all_reviews&pageNumber=1\n",
            "https://www.amazon.com/Logitech-S120-Stereo-Speakers-Pack/product-reviews/B07K2KPSBQ/ref=cm_cr_dp_d_show_all_btm?ie=UTF8&reviewerType=all_reviews&pageNumber=0\n",
            "https://www.amazon.com/Logitech-S120-Stereo-Speakers-Pack/product-reviews/B07K2KPSBQ/ref=cm_cr_dp_d_show_all_btm?ie=UTF8&reviewerType=all_reviews&pageNumber=1\n",
            "https://www.amazon.com/Logitech-Master-Advanced-Wireless-Mouse/product-reviews/B08HYV33XJ/ref=cm_cr_dp_d_show_all_btm?ie=UTF8&reviewerType=all_reviews&pageNumber=0\n",
            "https://www.amazon.com/Logitech-Master-Advanced-Wireless-Mouse/product-reviews/B08HYV33XJ/ref=cm_cr_dp_d_show_all_btm?ie=UTF8&reviewerType=all_reviews&pageNumber=1\n",
            "https://www.amazon.com/Logitech-Master-Advanced-Wireless-Mouse/product-reviews/B08HYV33XJ/ref=cm_cr_dp_d_show_all_btm?ie=UTF8&reviewerType=all_reviews&pageNumber=0\n",
            "https://www.amazon.com/Logitech-Master-Advanced-Wireless-Mouse/product-reviews/B08HYV33XJ/ref=cm_cr_dp_d_show_all_btm?ie=UTF8&reviewerType=all_reviews&pageNumber=1\n",
            "https://www.amazon.com/Logitech-Powered-Multimedia-Stereo-Speakers/product-reviews/B07NLHW3D6/ref=cm_cr_dp_d_show_all_btm?ie=UTF8&reviewerType=all_reviews&pageNumber=0\n",
            "https://www.amazon.com/Logitech-Powered-Multimedia-Stereo-Speakers/product-reviews/B07NLHW3D6/ref=cm_cr_dp_d_show_all_btm?ie=UTF8&reviewerType=all_reviews&pageNumber=1\n"
          ]
        }
      ]
    },
    {
      "cell_type": "code",
      "metadata": {
        "id": "66a83abe-00f3-4c95-95d0-8ac1f7361f81",
        "outputId": "2eca8f16-f898-486a-b5eb-fdd2804bee5b"
      },
      "source": [
        "len(reviews)"
      ],
      "id": "66a83abe-00f3-4c95-95d0-8ac1f7361f81",
      "execution_count": null,
      "outputs": [
        {
          "data": {
            "text/plain": [
              "580"
            ]
          },
          "execution_count": 123,
          "metadata": {},
          "output_type": "execute_result"
        }
      ]
    },
    {
      "cell_type": "markdown",
      "metadata": {
        "id": "51a6621a-ec3c-4bb0-bd1f-6e43a5a6361c"
      },
      "source": [
        "## Getting the reviews into a json file"
      ],
      "id": "51a6621a-ec3c-4bb0-bd1f-6e43a5a6361c"
    },
    {
      "cell_type": "markdown",
      "metadata": {
        "id": "cca3dfe3-a673-4a9f-8ea1-4d8d1ad05310"
      },
      "source": [
        "# Currently markdown change to code\n",
        "import json\n",
        "json_file = json.dumps(reviews)\n",
        "json_file"
      ],
      "id": "cca3dfe3-a673-4a9f-8ea1-4d8d1ad05310"
    },
    {
      "cell_type": "markdown",
      "metadata": {
        "id": "8a168d5a-f191-40f3-a479-4f693796b1d5"
      },
      "source": [
        "## Saving the reviews in a json file"
      ],
      "id": "8a168d5a-f191-40f3-a479-4f693796b1d5"
    },
    {
      "cell_type": "code",
      "metadata": {
        "id": "a6c500b0-6cc7-424f-a0d1-9157b77fcbbe"
      },
      "source": [
        "with open(\"amazon.json\", \"w\") as outfile:\n",
        "    outfile.write(json_file)"
      ],
      "id": "a6c500b0-6cc7-424f-a0d1-9157b77fcbbe",
      "execution_count": null,
      "outputs": []
    },
    {
      "cell_type": "markdown",
      "metadata": {
        "id": "a04d174b-d8b7-416d-8bcf-35bd5e4b9e4f"
      },
      "source": [
        "## Saving the reviews in a csv file"
      ],
      "id": "a04d174b-d8b7-416d-8bcf-35bd5e4b9e4f"
    },
    {
      "cell_type": "code",
      "metadata": {
        "id": "6743118d-1f69-4428-a897-8de7465dfdfe",
        "outputId": "38dd0841-4bac-4bc6-dd0c-a67e68dec82c"
      },
      "source": [
        "import pandas as pd\n",
        "df = pd.read_json(\"amazon.json\")\n",
        "df.to_csv(\"amazon_review.csv\")\n",
        "df.head()"
      ],
      "id": "6743118d-1f69-4428-a897-8de7465dfdfe",
      "execution_count": null,
      "outputs": [
        {
          "data": {
            "text/html": [
              "<div>\n",
              "<style scoped>\n",
              "    .dataframe tbody tr th:only-of-type {\n",
              "        vertical-align: middle;\n",
              "    }\n",
              "\n",
              "    .dataframe tbody tr th {\n",
              "        vertical-align: top;\n",
              "    }\n",
              "\n",
              "    .dataframe thead th {\n",
              "        text-align: right;\n",
              "    }\n",
              "</style>\n",
              "<table border=\"1\" class=\"dataframe\">\n",
              "  <thead>\n",
              "    <tr style=\"text-align: right;\">\n",
              "      <th></th>\n",
              "      <th>0</th>\n",
              "    </tr>\n",
              "  </thead>\n",
              "  <tbody>\n",
              "    <tr>\n",
              "      <th>0</th>\n",
              "      <td>\\n\\n  Logitech in their infinite wisdom has dr...</td>\n",
              "    </tr>\n",
              "    <tr>\n",
              "      <th>1</th>\n",
              "      <td>\\n\\n  **UPDATE** A couple of weeks later, I ha...</td>\n",
              "    </tr>\n",
              "    <tr>\n",
              "      <th>2</th>\n",
              "      <td>\\n\\n  I have loved this keyboard. When the spa...</td>\n",
              "    </tr>\n",
              "    <tr>\n",
              "      <th>3</th>\n",
              "      <td>\\n\\n  I already had one of these and am using ...</td>\n",
              "    </tr>\n",
              "    <tr>\n",
              "      <th>4</th>\n",
              "      <td>\\n\\n  User must install Logitech's control cen...</td>\n",
              "    </tr>\n",
              "  </tbody>\n",
              "</table>\n",
              "</div>"
            ],
            "text/plain": [
              "                                                   0\n",
              "0  \\n\\n  Logitech in their infinite wisdom has dr...\n",
              "1  \\n\\n  **UPDATE** A couple of weeks later, I ha...\n",
              "2  \\n\\n  I have loved this keyboard. When the spa...\n",
              "3  \\n\\n  I already had one of these and am using ...\n",
              "4  \\n\\n  User must install Logitech's control cen..."
            ]
          },
          "execution_count": 209,
          "metadata": {},
          "output_type": "execute_result"
        }
      ]
    },
    {
      "cell_type": "code",
      "metadata": {
        "id": "d62a91e5-66ff-4377-90fd-12efd319c391"
      },
      "source": [
        ""
      ],
      "id": "d62a91e5-66ff-4377-90fd-12efd319c391",
      "execution_count": null,
      "outputs": []
    },
    {
      "cell_type": "code",
      "metadata": {
        "id": "72350065-01c1-423e-a847-e6813b4d27ba"
      },
      "source": [
        "import nltk\n",
        "#nltk.download()"
      ],
      "id": "72350065-01c1-423e-a847-e6813b4d27ba",
      "execution_count": null,
      "outputs": []
    },
    {
      "cell_type": "code",
      "metadata": {
        "id": "b200cc68-f4ca-413c-88d6-b8859ccdb427",
        "outputId": "f085d8d5-9829-4254-a4ac-2fa14823a095"
      },
      "source": [
        "df = df.replace('\\n','', regex=True)\n",
        "df.fillna(\"Not Available\")\n",
        "df.rename(columns={0: 'reviews'})"
      ],
      "id": "b200cc68-f4ca-413c-88d6-b8859ccdb427",
      "execution_count": null,
      "outputs": [
        {
          "data": {
            "text/html": [
              "<div>\n",
              "<style scoped>\n",
              "    .dataframe tbody tr th:only-of-type {\n",
              "        vertical-align: middle;\n",
              "    }\n",
              "\n",
              "    .dataframe tbody tr th {\n",
              "        vertical-align: top;\n",
              "    }\n",
              "\n",
              "    .dataframe thead th {\n",
              "        text-align: right;\n",
              "    }\n",
              "</style>\n",
              "<table border=\"1\" class=\"dataframe\">\n",
              "  <thead>\n",
              "    <tr style=\"text-align: right;\">\n",
              "      <th></th>\n",
              "      <th>reviews</th>\n",
              "    </tr>\n",
              "  </thead>\n",
              "  <tbody>\n",
              "    <tr>\n",
              "      <th>0</th>\n",
              "      <td>Logitech in their infinite wisdom has droppe...</td>\n",
              "    </tr>\n",
              "    <tr>\n",
              "      <th>1</th>\n",
              "      <td>**UPDATE** A couple of weeks later, I have a...</td>\n",
              "    </tr>\n",
              "    <tr>\n",
              "      <th>2</th>\n",
              "      <td>I have loved this keyboard. When the space b...</td>\n",
              "    </tr>\n",
              "    <tr>\n",
              "      <th>3</th>\n",
              "      <td>I already had one of these and am using it o...</td>\n",
              "    </tr>\n",
              "    <tr>\n",
              "      <th>4</th>\n",
              "      <td>User must install Logitech's control center ...</td>\n",
              "    </tr>\n",
              "    <tr>\n",
              "      <th>...</th>\n",
              "      <td>...</td>\n",
              "    </tr>\n",
              "    <tr>\n",
              "      <th>575</th>\n",
              "      <td>Early on I noticed that the tracking was fau...</td>\n",
              "    </tr>\n",
              "    <tr>\n",
              "      <th>576</th>\n",
              "      <td>Keys are not as easy to push as in other log...</td>\n",
              "    </tr>\n",
              "    <tr>\n",
              "      <th>577</th>\n",
              "      <td>It is very pleasant having a nice clean new ...</td>\n",
              "    </tr>\n",
              "    <tr>\n",
              "      <th>578</th>\n",
              "      <td>Early on I noticed that the tracking was fau...</td>\n",
              "    </tr>\n",
              "    <tr>\n",
              "      <th>579</th>\n",
              "      <td>Keys are not as easy to push as in other log...</td>\n",
              "    </tr>\n",
              "  </tbody>\n",
              "</table>\n",
              "<p>580 rows × 1 columns</p>\n",
              "</div>"
            ],
            "text/plain": [
              "                                               reviews\n",
              "0      Logitech in their infinite wisdom has droppe...\n",
              "1      **UPDATE** A couple of weeks later, I have a...\n",
              "2      I have loved this keyboard. When the space b...\n",
              "3      I already had one of these and am using it o...\n",
              "4      User must install Logitech's control center ...\n",
              "..                                                 ...\n",
              "575    Early on I noticed that the tracking was fau...\n",
              "576    Keys are not as easy to push as in other log...\n",
              "577    It is very pleasant having a nice clean new ...\n",
              "578    Early on I noticed that the tracking was fau...\n",
              "579    Keys are not as easy to push as in other log...\n",
              "\n",
              "[580 rows x 1 columns]"
            ]
          },
          "execution_count": 211,
          "metadata": {},
          "output_type": "execute_result"
        }
      ]
    },
    {
      "cell_type": "markdown",
      "metadata": {
        "id": "d6dc3b79-4155-4c87-b178-1c2fd7e9e361"
      },
      "source": [
        "## Tokenizing"
      ],
      "id": "d6dc3b79-4155-4c87-b178-1c2fd7e9e361"
    },
    {
      "cell_type": "code",
      "metadata": {
        "id": "b9156230-9877-4c47-97a7-f9ae28020c94"
      },
      "source": [
        "from nltk.tokenize import word_tokenize, RegexpTokenizer"
      ],
      "id": "b9156230-9877-4c47-97a7-f9ae28020c94",
      "execution_count": null,
      "outputs": []
    },
    {
      "cell_type": "code",
      "metadata": {
        "id": "3f5a73df-6642-4509-93d3-a7941cad34db",
        "outputId": "a0fb22fd-9322-4173-98d7-a3ce0fc2f12c"
      },
      "source": [
        "words = []\n",
        "for i in df[0]:\n",
        "    tokenizer = RegexpTokenizer(r'\\w+')\n",
        "    word = tokenizer.tokenize(i)\n",
        "    words.extend(word)\n",
        "words = [x.lower() for x in words]\n",
        "words[:20]"
      ],
      "id": "3f5a73df-6642-4509-93d3-a7941cad34db",
      "execution_count": null,
      "outputs": [
        {
          "data": {
            "text/plain": [
              "['logitech',\n",
              " 'in',\n",
              " 'their',\n",
              " 'infinite',\n",
              " 'wisdom',\n",
              " 'has',\n",
              " 'dropped',\n",
              " 'the',\n",
              " 'unifying',\n",
              " 'dongle',\n",
              " 'from',\n",
              " 'this',\n",
              " 'product',\n",
              " 'instead',\n",
              " 'you',\n",
              " 'get',\n",
              " 'a',\n",
              " 'single',\n",
              " 'dongle',\n",
              " 'that']"
            ]
          },
          "execution_count": 213,
          "metadata": {},
          "output_type": "execute_result"
        }
      ]
    },
    {
      "cell_type": "markdown",
      "metadata": {
        "id": "1b15fd39-8f34-4813-a97d-a78accc76da1"
      },
      "source": [
        "unique_words = []\n",
        "for i in frequency:\n",
        "    unique_words.append(i)\n",
        "\n",
        "print(unique_words[:20])\n",
        "len(unique_words)"
      ],
      "id": "1b15fd39-8f34-4813-a97d-a78accc76da1"
    },
    {
      "cell_type": "markdown",
      "metadata": {
        "id": "4869daaf-97d6-4d45-a028-12fcd0759182"
      },
      "source": [
        "## Lemmatizing"
      ],
      "id": "4869daaf-97d6-4d45-a028-12fcd0759182"
    },
    {
      "cell_type": "markdown",
      "metadata": {
        "id": "f1bf9efd-5c5d-4638-8f32-67e895f95af8"
      },
      "source": [
        "from nltk import WordNetLemmatizer\n",
        "lemmatizer = WordNetLemmatizer()\n",
        "lem_word = []\n",
        "for i in words: \n",
        "    lem_word.append(lemmatizer.lemmatize(i))\n",
        "\n",
        "lem = [lem_word]\n",
        "print(lem)"
      ],
      "id": "f1bf9efd-5c5d-4638-8f32-67e895f95af8"
    },
    {
      "cell_type": "markdown",
      "metadata": {
        "id": "792c2e01-d407-480a-b30b-52574f8d6d17"
      },
      "source": [
        "## Creating N-grams"
      ],
      "id": "792c2e01-d407-480a-b30b-52574f8d6d17"
    },
    {
      "cell_type": "code",
      "metadata": {
        "id": "f5d40ef6-5eba-47c9-9e61-4f821ee95846"
      },
      "source": [
        "from nltk import bigrams, trigrams\n",
        "from collections import Counter, defaultdict"
      ],
      "id": "f5d40ef6-5eba-47c9-9e61-4f821ee95846",
      "execution_count": null,
      "outputs": []
    },
    {
      "cell_type": "markdown",
      "metadata": {
        "id": "cdda88c7-66b5-4eb5-92d7-4b2afa734a7c"
      },
      "source": [
        "### Unigram model"
      ],
      "id": "cdda88c7-66b5-4eb5-92d7-4b2afa734a7c"
    },
    {
      "cell_type": "code",
      "metadata": {
        "id": "9450e4da-124c-4cd5-afba-c2a63dd91845",
        "outputId": "59695302-ce3f-43f8-c6a3-617c02ad6c6c"
      },
      "source": [
        "from nltk import FreqDist\n",
        "frequency = FreqDist(words)\n",
        "frequency"
      ],
      "id": "9450e4da-124c-4cd5-afba-c2a63dd91845",
      "execution_count": null,
      "outputs": [
        {
          "data": {
            "text/plain": [
              "FreqDist({'the': 7796, 'i': 4680, 'and': 3682, 'a': 3540, 'to': 3536, 'it': 3054, 'is': 2350, 'keyboard': 2222, 'this': 1926, 'mouse': 1750, ...})"
            ]
          },
          "execution_count": 216,
          "metadata": {},
          "output_type": "execute_result"
        }
      ]
    },
    {
      "cell_type": "code",
      "metadata": {
        "id": "9a25c072-7afb-4250-86eb-1d97c8e7e545"
      },
      "source": [
        "uni = {w1: 0 for i in lem for w1 in i  }"
      ],
      "id": "9a25c072-7afb-4250-86eb-1d97c8e7e545",
      "execution_count": null,
      "outputs": []
    },
    {
      "cell_type": "markdown",
      "metadata": {
        "id": "c796102f-e7dd-4a16-9b2e-5febba3a5ab0"
      },
      "source": [
        "for sentence in lem:\n",
        "    for w1 in sentence:\n",
        "        uni[w1] += 1 #counting each word's freq\n",
        "print(uni)"
      ],
      "id": "c796102f-e7dd-4a16-9b2e-5febba3a5ab0"
    },
    {
      "cell_type": "markdown",
      "metadata": {
        "id": "efa56402-5cc4-4bf3-8111-ff790f213aff"
      },
      "source": [
        "total_count = float(sum(uni.values()))\n",
        "for w1 in uni:\n",
        "    uni[w1] /= total_count\n",
        "uni"
      ],
      "id": "efa56402-5cc4-4bf3-8111-ff790f213aff"
    },
    {
      "cell_type": "markdown",
      "metadata": {
        "id": "8be9a05a-030d-43f6-9b10-97d9c83bd786"
      },
      "source": [
        "model={k: v for k, v in sorted(uni.items(), key=lambda item: item[1],reverse=True)}\n",
        "model"
      ],
      "id": "8be9a05a-030d-43f6-9b10-97d9c83bd786"
    },
    {
      "cell_type": "markdown",
      "metadata": {
        "id": "1a570636-9a31-4736-a05d-d94a68156e6c"
      },
      "source": [
        "### Bigram model"
      ],
      "id": "1a570636-9a31-4736-a05d-d94a68156e6c"
    },
    {
      "cell_type": "code",
      "metadata": {
        "id": "b6dd1238-5942-48f8-907e-bce86df31760",
        "outputId": "884263f3-7a34-473b-8d1b-2d2ced1c31c4"
      },
      "source": [
        "bigs = list(bigrams(lem_word))\n",
        "bigs[:10]"
      ],
      "id": "b6dd1238-5942-48f8-907e-bce86df31760",
      "execution_count": null,
      "outputs": [
        {
          "data": {
            "text/plain": [
              "[('logitech', 'in'),\n",
              " ('in', 'their'),\n",
              " ('their', 'infinite'),\n",
              " ('infinite', 'wisdom'),\n",
              " ('wisdom', 'ha'),\n",
              " ('ha', 'dropped'),\n",
              " ('dropped', 'the'),\n",
              " ('the', 'unifying'),\n",
              " ('unifying', 'dongle'),\n",
              " ('dongle', 'from')]"
            ]
          },
          "execution_count": 152,
          "metadata": {},
          "output_type": "execute_result"
        }
      ]
    },
    {
      "cell_type": "code",
      "metadata": {
        "id": "310a60aa-728d-4310-a0cc-6f5a493446fc"
      },
      "source": [
        "# Create a placeholder for model\n",
        "bi = defaultdict(lambda: defaultdict(lambda: 0))"
      ],
      "id": "310a60aa-728d-4310-a0cc-6f5a493446fc",
      "execution_count": null,
      "outputs": []
    },
    {
      "cell_type": "code",
      "metadata": {
        "id": "2a441a98-fe0d-4edf-bd6a-ff30b16e79c3"
      },
      "source": [
        "# Count frequency of co-occurance\n",
        "for sentence in lem:\n",
        "    for w1, w2 in bigrams(sentence, pad_right=True, pad_left=True):\n",
        "        bi[(w1)][w2] += 1"
      ],
      "id": "2a441a98-fe0d-4edf-bd6a-ff30b16e79c3",
      "execution_count": null,
      "outputs": []
    },
    {
      "cell_type": "code",
      "metadata": {
        "id": "98ec8f9d-7ae2-423f-92e5-5d5659673372"
      },
      "source": [
        "# Let's transform the counts to probabilities\n",
        "for w1 in bi:\n",
        "    total_count = float(sum(bi[w1].values()))\n",
        "    for w2 in bi[w1]:\n",
        "        bi[w1][w2] /= total_count"
      ],
      "id": "98ec8f9d-7ae2-423f-92e5-5d5659673372",
      "execution_count": null,
      "outputs": []
    },
    {
      "cell_type": "code",
      "metadata": {
        "id": "ea400604-6d39-47d3-8b2f-db04c852f7dd",
        "outputId": "edf4f43b-0ea2-4f89-cbc8-882749fda372"
      },
      "source": [
        "dict(bi[\"dongle\"])"
      ],
      "id": "ea400604-6d39-47d3-8b2f-db04c852f7dd",
      "execution_count": null,
      "outputs": [
        {
          "data": {
            "text/plain": [
              "{'from': 0.05405405405405406,\n",
              " 'that': 0.13513513513513514,\n",
              " 'and': 0.08108108108108109,\n",
              " 'make': 0.02702702702702703,\n",
              " 'is': 0.05405405405405406,\n",
              " 'wa': 0.05405405405405406,\n",
              " 'differently': 0.02702702702702703,\n",
              " 'so': 0.02702702702702703,\n",
              " 'i': 0.08108108108108109,\n",
              " 'into': 0.02702702702702703,\n",
              " 'in': 0.08108108108108109,\n",
              " 'associated': 0.02702702702702703,\n",
              " 'for': 0.05405405405405406,\n",
              " 'kit': 0.02702702702702703,\n",
              " 'would': 0.02702702702702703,\n",
              " 'affixed': 0.02702702702702703,\n",
              " 'though': 0.02702702702702703,\n",
              " 'since': 0.02702702702702703,\n",
              " 'two': 0.02702702702702703,\n",
              " 'to': 0.02702702702702703,\n",
              " 'but': 0.02702702702702703,\n",
              " 'remove': 0.02702702702702703,\n",
              " 'over': 0.02702702702702703}"
            ]
          },
          "execution_count": 156,
          "metadata": {},
          "output_type": "execute_result"
        }
      ]
    },
    {
      "cell_type": "markdown",
      "metadata": {
        "id": "57f4c40e-8639-4d69-94a7-9c282a8f9820"
      },
      "source": [
        "### Trigram model"
      ],
      "id": "57f4c40e-8639-4d69-94a7-9c282a8f9820"
    },
    {
      "cell_type": "code",
      "metadata": {
        "id": "ec1b3398-d1f2-461d-a311-6416cb62328d",
        "outputId": "330b8d92-4e6a-402f-e1d1-6dcd7db900da"
      },
      "source": [
        "trigs = list(trigrams(lem_word))\n",
        "trigs[:10]"
      ],
      "id": "ec1b3398-d1f2-461d-a311-6416cb62328d",
      "execution_count": null,
      "outputs": [
        {
          "data": {
            "text/plain": [
              "[('logitech', 'in', 'their'),\n",
              " ('in', 'their', 'infinite'),\n",
              " ('their', 'infinite', 'wisdom'),\n",
              " ('infinite', 'wisdom', 'ha'),\n",
              " ('wisdom', 'ha', 'dropped'),\n",
              " ('ha', 'dropped', 'the'),\n",
              " ('dropped', 'the', 'unifying'),\n",
              " ('the', 'unifying', 'dongle'),\n",
              " ('unifying', 'dongle', 'from'),\n",
              " ('dongle', 'from', 'this')]"
            ]
          },
          "execution_count": 157,
          "metadata": {},
          "output_type": "execute_result"
        }
      ]
    },
    {
      "cell_type": "code",
      "metadata": {
        "id": "1e5d748a-981d-47f9-bbf4-ac592cee201b"
      },
      "source": [
        "# Create a placeholder for model\n",
        "tri = defaultdict(lambda: defaultdict(lambda: 0))"
      ],
      "id": "1e5d748a-981d-47f9-bbf4-ac592cee201b",
      "execution_count": null,
      "outputs": []
    },
    {
      "cell_type": "code",
      "metadata": {
        "id": "e11566c5-f235-4d1c-8521-7c710a33ccab"
      },
      "source": [
        "# Count frequency of co-occurance\n",
        "for sentence in lem:\n",
        "    for w1, w2, w3 in trigrams(sentence, pad_right=True, pad_left=True):\n",
        "        tri[(w1, w2)][w3] += 1"
      ],
      "id": "e11566c5-f235-4d1c-8521-7c710a33ccab",
      "execution_count": null,
      "outputs": []
    },
    {
      "cell_type": "code",
      "metadata": {
        "id": "0465d66f-aaac-46bb-bd99-e7fd4f4a96d3"
      },
      "source": [
        "# Let's transform the counts to probabilities\n",
        "for w1_w2 in tri:\n",
        "    total_count = float(sum(tri[w1_w2].values()))\n",
        "    for w3 in tri[w1_w2]:\n",
        "        tri[w1_w2][w3] /= total_count"
      ],
      "id": "0465d66f-aaac-46bb-bd99-e7fd4f4a96d3",
      "execution_count": null,
      "outputs": []
    },
    {
      "cell_type": "code",
      "metadata": {
        "id": "e647a624-df7f-4ab8-9e7f-ed71f16e427b",
        "outputId": "5fa79f64-a0a4-44c0-f833-190cab324dd3"
      },
      "source": [
        "dict(tri[\"new\",\"mouse\"])"
      ],
      "id": "e647a624-df7f-4ab8-9e7f-ed71f16e427b",
      "execution_count": null,
      "outputs": [
        {
          "data": {
            "text/plain": [
              "{'pointer': 0.2, 'cannot': 0.2, 'wireless': 0.2, 'so': 0.2, 'and': 0.2}"
            ]
          },
          "execution_count": 161,
          "metadata": {},
          "output_type": "execute_result"
        }
      ]
    },
    {
      "cell_type": "code",
      "metadata": {
        "id": "544facd7-7e5f-40d2-bb29-3b34acc8ee05",
        "outputId": "d932db1c-7185-40ba-9bd8-edd6b2b91191"
      },
      "source": [
        "sentence[:10]"
      ],
      "id": "544facd7-7e5f-40d2-bb29-3b34acc8ee05",
      "execution_count": null,
      "outputs": [
        {
          "data": {
            "text/plain": [
              "['logitech',\n",
              " 'in',\n",
              " 'their',\n",
              " 'infinite',\n",
              " 'wisdom',\n",
              " 'ha',\n",
              " 'dropped',\n",
              " 'the',\n",
              " 'unifying',\n",
              " 'dongle']"
            ]
          },
          "execution_count": 177,
          "metadata": {},
          "output_type": "execute_result"
        }
      ]
    },
    {
      "cell_type": "code",
      "metadata": {
        "id": "d3a055da-4035-4fac-b4ce-3d9d96322114"
      },
      "source": [
        ""
      ],
      "id": "d3a055da-4035-4fac-b4ce-3d9d96322114",
      "execution_count": null,
      "outputs": []
    },
    {
      "cell_type": "code",
      "metadata": {
        "id": "c98917b3-1c67-4e34-99dc-21558418e3ec"
      },
      "source": [
        ""
      ],
      "id": "c98917b3-1c67-4e34-99dc-21558418e3ec",
      "execution_count": null,
      "outputs": []
    },
    {
      "cell_type": "code",
      "metadata": {
        "id": "831879b2-96f2-41e2-8967-a32b17e8243e"
      },
      "source": [
        ""
      ],
      "id": "831879b2-96f2-41e2-8967-a32b17e8243e",
      "execution_count": null,
      "outputs": []
    },
    {
      "cell_type": "code",
      "metadata": {
        "id": "fb270734-fbf0-4ca8-80a2-73c1866fb872"
      },
      "source": [
        ""
      ],
      "id": "fb270734-fbf0-4ca8-80a2-73c1866fb872",
      "execution_count": null,
      "outputs": []
    },
    {
      "cell_type": "code",
      "metadata": {
        "id": "82a5f52c-700e-44eb-9cff-3ce8355ccceb"
      },
      "source": [
        ""
      ],
      "id": "82a5f52c-700e-44eb-9cff-3ce8355ccceb",
      "execution_count": null,
      "outputs": []
    },
    {
      "cell_type": "code",
      "metadata": {
        "id": "fe40bac3-7b5d-4c87-b2a7-b77f7060d51b"
      },
      "source": [
        ""
      ],
      "id": "fe40bac3-7b5d-4c87-b2a7-b77f7060d51b",
      "execution_count": null,
      "outputs": []
    }
  ]
}