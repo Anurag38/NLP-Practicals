{
  "nbformat": 4,
  "nbformat_minor": 0,
  "metadata": {
    "colab": {
      "name": "LSA.ipynb",
      "provenance": [],
      "authorship_tag": "ABX9TyOuvLtMuerBfROnJ8PbkXmI",
      "include_colab_link": true
    },
    "kernelspec": {
      "name": "python3",
      "display_name": "Python 3"
    },
    "language_info": {
      "name": "python"
    }
  },
  "cells": [
    {
      "cell_type": "markdown",
      "metadata": {
        "id": "view-in-github",
        "colab_type": "text"
      },
      "source": [
        "<a href=\"https://colab.research.google.com/github/Anurag38/NLP-Practicals/blob/main/Practical%205%20-%20LSA/LSA.ipynb\" target=\"_parent\"><img src=\"https://colab.research.google.com/assets/colab-badge.svg\" alt=\"Open In Colab\"/></a>"
      ]
    },
    {
      "cell_type": "code",
      "metadata": {
        "id": "e8KVMgDfbKF6",
        "colab": {
          "base_uri": "https://localhost:8080/"
        },
        "outputId": "4d1199da-21f7-453c-db41-f32d5a45ac67"
      },
      "source": [
        "import pandas as pd\n",
        "from sklearn.feature_extraction.text import TfidfVectorizer\n",
        "import nltk\n",
        "from sklearn.decomposition import TruncatedSVD\n",
        "# If nltk stop word is not downloaded\n",
        "nltk.download('stopwords')\n",
        "from nltk.corpus import stopwords\n"
      ],
      "execution_count": 1,
      "outputs": [
        {
          "output_type": "stream",
          "name": "stdout",
          "text": [
            "[nltk_data] Downloading package stopwords to /root/nltk_data...\n",
            "[nltk_data]   Unzipping corpora/stopwords.zip.\n"
          ]
        }
      ]
    },
    {
      "cell_type": "code",
      "metadata": {
        "id": "bSuv4zhsbTgI",
        "colab": {
          "base_uri": "https://localhost:8080/",
          "height": 204
        },
        "outputId": "6cc75975-53b9-41f7-eb8e-e24165a7a99b"
      },
      "source": [
        "# List of documents\n",
        "a1 = \"He is a good dog.\"\n",
        "a2 = \"The dog is too lazy.\"\n",
        "a3 = \"That is a brown cat.\"\n",
        "a4 = \"The cat is very active.\"\n",
        "a5 = \"I have brown cat and dog.\"\n",
        "\n",
        "df = pd.DataFrame()\n",
        "df[\"documents\"] = [a1,a2,a3,a4,a5]\n",
        "df.head()\n"
      ],
      "execution_count": 2,
      "outputs": [
        {
          "output_type": "execute_result",
          "data": {
            "text/html": [
              "<div>\n",
              "<style scoped>\n",
              "    .dataframe tbody tr th:only-of-type {\n",
              "        vertical-align: middle;\n",
              "    }\n",
              "\n",
              "    .dataframe tbody tr th {\n",
              "        vertical-align: top;\n",
              "    }\n",
              "\n",
              "    .dataframe thead th {\n",
              "        text-align: right;\n",
              "    }\n",
              "</style>\n",
              "<table border=\"1\" class=\"dataframe\">\n",
              "  <thead>\n",
              "    <tr style=\"text-align: right;\">\n",
              "      <th></th>\n",
              "      <th>documents</th>\n",
              "    </tr>\n",
              "  </thead>\n",
              "  <tbody>\n",
              "    <tr>\n",
              "      <th>0</th>\n",
              "      <td>He is a good dog.</td>\n",
              "    </tr>\n",
              "    <tr>\n",
              "      <th>1</th>\n",
              "      <td>The dog is too lazy.</td>\n",
              "    </tr>\n",
              "    <tr>\n",
              "      <th>2</th>\n",
              "      <td>That is a brown cat.</td>\n",
              "    </tr>\n",
              "    <tr>\n",
              "      <th>3</th>\n",
              "      <td>The cat is very active.</td>\n",
              "    </tr>\n",
              "    <tr>\n",
              "      <th>4</th>\n",
              "      <td>I have brown cat and dog.</td>\n",
              "    </tr>\n",
              "  </tbody>\n",
              "</table>\n",
              "</div>"
            ],
            "text/plain": [
              "                   documents\n",
              "0          He is a good dog.\n",
              "1       The dog is too lazy.\n",
              "2       That is a brown cat.\n",
              "3    The cat is very active.\n",
              "4  I have brown cat and dog."
            ]
          },
          "metadata": {},
          "execution_count": 2
        }
      ]
    },
    {
      "cell_type": "code",
      "metadata": {
        "id": "wUxTyXEcbabc",
        "colab": {
          "base_uri": "https://localhost:8080/",
          "height": 204
        },
        "outputId": "45e6bf04-31fb-4d28-937a-7cdaa1194774"
      },
      "source": [
        "# Preprocessing\n",
        "df['clean_documents'] = df['documents'].str.replace(\"[^a-zA-Z#]\", \" \")\n",
        "df['clean_documents'] = df['clean_documents'].fillna('').apply(lambda x: ' '.join([w for w in x.split() if len(w)>2]))\n",
        "df['clean_documents'] = df['clean_documents'].fillna('').apply(lambda x: x.lower())\n",
        "\n",
        "df.head()"
      ],
      "execution_count": 3,
      "outputs": [
        {
          "output_type": "execute_result",
          "data": {
            "text/html": [
              "<div>\n",
              "<style scoped>\n",
              "    .dataframe tbody tr th:only-of-type {\n",
              "        vertical-align: middle;\n",
              "    }\n",
              "\n",
              "    .dataframe tbody tr th {\n",
              "        vertical-align: top;\n",
              "    }\n",
              "\n",
              "    .dataframe thead th {\n",
              "        text-align: right;\n",
              "    }\n",
              "</style>\n",
              "<table border=\"1\" class=\"dataframe\">\n",
              "  <thead>\n",
              "    <tr style=\"text-align: right;\">\n",
              "      <th></th>\n",
              "      <th>documents</th>\n",
              "      <th>clean_documents</th>\n",
              "    </tr>\n",
              "  </thead>\n",
              "  <tbody>\n",
              "    <tr>\n",
              "      <th>0</th>\n",
              "      <td>He is a good dog.</td>\n",
              "      <td>good dog</td>\n",
              "    </tr>\n",
              "    <tr>\n",
              "      <th>1</th>\n",
              "      <td>The dog is too lazy.</td>\n",
              "      <td>the dog too lazy</td>\n",
              "    </tr>\n",
              "    <tr>\n",
              "      <th>2</th>\n",
              "      <td>That is a brown cat.</td>\n",
              "      <td>that brown cat</td>\n",
              "    </tr>\n",
              "    <tr>\n",
              "      <th>3</th>\n",
              "      <td>The cat is very active.</td>\n",
              "      <td>the cat very active</td>\n",
              "    </tr>\n",
              "    <tr>\n",
              "      <th>4</th>\n",
              "      <td>I have brown cat and dog.</td>\n",
              "      <td>have brown cat and dog</td>\n",
              "    </tr>\n",
              "  </tbody>\n",
              "</table>\n",
              "</div>"
            ],
            "text/plain": [
              "                   documents         clean_documents\n",
              "0          He is a good dog.                good dog\n",
              "1       The dog is too lazy.        the dog too lazy\n",
              "2       That is a brown cat.          that brown cat\n",
              "3    The cat is very active.     the cat very active\n",
              "4  I have brown cat and dog.  have brown cat and dog"
            ]
          },
          "metadata": {},
          "execution_count": 3
        }
      ]
    },
    {
      "cell_type": "code",
      "metadata": {
        "colab": {
          "base_uri": "https://localhost:8080/"
        },
        "id": "kJmD2fs0OB1U",
        "outputId": "411ff157-b878-4f40-c82c-835dcbf2007c"
      },
      "source": [
        "import nltk \n",
        "nltk.download('stopwords') \n",
        "from nltk.corpus import stopwords \n",
        "stop_words = stopwords.words('english')"
      ],
      "execution_count": 4,
      "outputs": [
        {
          "output_type": "stream",
          "name": "stdout",
          "text": [
            "[nltk_data] Downloading package stopwords to /root/nltk_data...\n",
            "[nltk_data]   Package stopwords is already up-to-date!\n"
          ]
        }
      ]
    },
    {
      "cell_type": "code",
      "metadata": {
        "id": "oAh-g-Zvbwfq"
      },
      "source": [
        "# tokenization\n",
        "tokenized_doc = df['clean_documents'].fillna('').apply(lambda x: x.split())\n",
        "\n",
        "# remove stop-words\n",
        "\n",
        "#tokenized_doc = tokenized_doc.apply(lambda x: [itemstop_words = stopwords.words('english') for item in x if item not in stop_words])\n",
        "# remove stop-words \n",
        "tokenized_doc = tokenized_doc.apply(lambda x: [item for item in x if item not in stop_words]) \n",
        "# de-tokenization\n",
        "detokenized_doc = []\n",
        "for i in range(len(df)):\n",
        "    t = ' '.join(tokenized_doc[i])\n",
        "    detokenized_doc.append(t)\n",
        "\n",
        "df['clean_documents'] = detokenized_doc\n"
      ],
      "execution_count": 5,
      "outputs": []
    },
    {
      "cell_type": "code",
      "metadata": {
        "id": "blwhwUPyiEc5",
        "colab": {
          "base_uri": "https://localhost:8080/",
          "height": 204
        },
        "outputId": "a3c5e5e3-c627-408c-a639-264745b264d2"
      },
      "source": [
        "df.head()"
      ],
      "execution_count": 6,
      "outputs": [
        {
          "output_type": "execute_result",
          "data": {
            "text/html": [
              "<div>\n",
              "<style scoped>\n",
              "    .dataframe tbody tr th:only-of-type {\n",
              "        vertical-align: middle;\n",
              "    }\n",
              "\n",
              "    .dataframe tbody tr th {\n",
              "        vertical-align: top;\n",
              "    }\n",
              "\n",
              "    .dataframe thead th {\n",
              "        text-align: right;\n",
              "    }\n",
              "</style>\n",
              "<table border=\"1\" class=\"dataframe\">\n",
              "  <thead>\n",
              "    <tr style=\"text-align: right;\">\n",
              "      <th></th>\n",
              "      <th>documents</th>\n",
              "      <th>clean_documents</th>\n",
              "    </tr>\n",
              "  </thead>\n",
              "  <tbody>\n",
              "    <tr>\n",
              "      <th>0</th>\n",
              "      <td>He is a good dog.</td>\n",
              "      <td>good dog</td>\n",
              "    </tr>\n",
              "    <tr>\n",
              "      <th>1</th>\n",
              "      <td>The dog is too lazy.</td>\n",
              "      <td>dog lazy</td>\n",
              "    </tr>\n",
              "    <tr>\n",
              "      <th>2</th>\n",
              "      <td>That is a brown cat.</td>\n",
              "      <td>brown cat</td>\n",
              "    </tr>\n",
              "    <tr>\n",
              "      <th>3</th>\n",
              "      <td>The cat is very active.</td>\n",
              "      <td>cat active</td>\n",
              "    </tr>\n",
              "    <tr>\n",
              "      <th>4</th>\n",
              "      <td>I have brown cat and dog.</td>\n",
              "      <td>brown cat dog</td>\n",
              "    </tr>\n",
              "  </tbody>\n",
              "</table>\n",
              "</div>"
            ],
            "text/plain": [
              "                   documents clean_documents\n",
              "0          He is a good dog.        good dog\n",
              "1       The dog is too lazy.        dog lazy\n",
              "2       That is a brown cat.       brown cat\n",
              "3    The cat is very active.      cat active\n",
              "4  I have brown cat and dog.   brown cat dog"
            ]
          },
          "metadata": {},
          "execution_count": 6
        }
      ]
    },
    {
      "cell_type": "code",
      "metadata": {
        "id": "jbyV4FVViHWg",
        "colab": {
          "base_uri": "https://localhost:8080/"
        },
        "outputId": "119a54f5-42ec-4af8-c864-7458108ee641"
      },
      "source": [
        "# TF-IDF vector\n",
        "vectorizer = TfidfVectorizer(stop_words='english', smooth_idf=True)\n",
        "X = vectorizer.fit_transform(df['clean_documents'])\n",
        "X.toarray()\n"
      ],
      "execution_count": 7,
      "outputs": [
        {
          "output_type": "execute_result",
          "data": {
            "text/plain": [
              "array([[0.        , 0.        , 0.        , 0.55645052, 0.83088075,\n",
              "        0.        ],\n",
              "       [0.        , 0.        , 0.        , 0.55645052, 0.        ,\n",
              "        0.83088075],\n",
              "       [0.        , 0.76944707, 0.63871058, 0.        , 0.        ,\n",
              "        0.        ],\n",
              "       [0.83088075, 0.        , 0.55645052, 0.        , 0.        ,\n",
              "        0.        ],\n",
              "       [0.        , 0.64846263, 0.53828256, 0.53828256, 0.        ,\n",
              "        0.        ]])"
            ]
          },
          "metadata": {},
          "execution_count": 7
        }
      ]
    },
    {
      "cell_type": "code",
      "metadata": {
        "id": "_o2W2SKJLj1B",
        "colab": {
          "base_uri": "https://localhost:8080/"
        },
        "outputId": "a64b7a97-5487-49c6-9065-5d4a2f973382"
      },
      "source": [
        "X.shape \n",
        "#A56   U(5,5). S()"
      ],
      "execution_count": 8,
      "outputs": [
        {
          "output_type": "execute_result",
          "data": {
            "text/plain": [
              "(5, 6)"
            ]
          },
          "metadata": {},
          "execution_count": 8
        }
      ]
    },
    {
      "cell_type": "code",
      "metadata": {
        "id": "-zN-Q4IGlj2i"
      },
      "source": [
        "# SVD represent documents and terms in vectors \n",
        "svd_model = TruncatedSVD(n_components=2, algorithm='randomized', n_iter=100, random_state=122)\n",
        "lsa = svd_model.fit_transform(X)\n"
      ],
      "execution_count": 9,
      "outputs": []
    },
    {
      "cell_type": "code",
      "metadata": {
        "id": "rBK9p0Wulkw4",
        "colab": {
          "base_uri": "https://localhost:8080/",
          "height": 204
        },
        "outputId": "f77225b8-582a-4162-8ac9-cea3ad1f440e"
      },
      "source": [
        "#Documents - Topic vector\n",
        "pd.options.display.float_format = '{:,.16f}'.format\n",
        "topic_encoded_df = pd.DataFrame(lsa, columns = [\"topic_1\", \"topic_2\"])\n",
        "topic_encoded_df[\"documents\"] = df['clean_documents']\n",
        "display(topic_encoded_df[[\"documents\", \"topic_1\", \"topic_2\"]])\n"
      ],
      "execution_count": 10,
      "outputs": [
        {
          "output_type": "display_data",
          "data": {
            "text/html": [
              "<div>\n",
              "<style scoped>\n",
              "    .dataframe tbody tr th:only-of-type {\n",
              "        vertical-align: middle;\n",
              "    }\n",
              "\n",
              "    .dataframe tbody tr th {\n",
              "        vertical-align: top;\n",
              "    }\n",
              "\n",
              "    .dataframe thead th {\n",
              "        text-align: right;\n",
              "    }\n",
              "</style>\n",
              "<table border=\"1\" class=\"dataframe\">\n",
              "  <thead>\n",
              "    <tr style=\"text-align: right;\">\n",
              "      <th></th>\n",
              "      <th>documents</th>\n",
              "      <th>topic_1</th>\n",
              "      <th>topic_2</th>\n",
              "    </tr>\n",
              "  </thead>\n",
              "  <tbody>\n",
              "    <tr>\n",
              "      <th>0</th>\n",
              "      <td>good dog</td>\n",
              "      <td>0.3413834191239963</td>\n",
              "      <td>0.7199781067501040</td>\n",
              "    </tr>\n",
              "    <tr>\n",
              "      <th>1</th>\n",
              "      <td>dog lazy</td>\n",
              "      <td>0.3413834191239966</td>\n",
              "      <td>0.7199781067501028</td>\n",
              "    </tr>\n",
              "    <tr>\n",
              "      <th>2</th>\n",
              "      <td>brown cat</td>\n",
              "      <td>0.8609490919302167</td>\n",
              "      <td>-0.3659836550739515</td>\n",
              "    </tr>\n",
              "    <tr>\n",
              "      <th>3</th>\n",
              "      <td>cat active</td>\n",
              "      <td>0.5166658991993207</td>\n",
              "      <td>-0.3850046207843261</td>\n",
              "    </tr>\n",
              "    <tr>\n",
              "      <th>4</th>\n",
              "      <td>brown cat dog</td>\n",
              "      <td>0.9494117370834869</td>\n",
              "      <td>0.0236302940661148</td>\n",
              "    </tr>\n",
              "  </tbody>\n",
              "</table>\n",
              "</div>"
            ],
            "text/plain": [
              "       documents            topic_1             topic_2\n",
              "0       good dog 0.3413834191239963  0.7199781067501040\n",
              "1       dog lazy 0.3413834191239966  0.7199781067501028\n",
              "2      brown cat 0.8609490919302167 -0.3659836550739515\n",
              "3     cat active 0.5166658991993207 -0.3850046207843261\n",
              "4  brown cat dog 0.9494117370834869  0.0236302940661148"
            ]
          },
          "metadata": {}
        }
      ]
    },
    {
      "cell_type": "code",
      "metadata": {
        "id": "77yIqTbemFk3",
        "colab": {
          "base_uri": "https://localhost:8080/"
        },
        "outputId": "4cfd8cfb-6152-43bf-8a7d-2df8f38f05d4"
      },
      "source": [
        "# Features or words used as features \n",
        "dictionary = vectorizer.get_feature_names()"
      ],
      "execution_count": 11,
      "outputs": [
        {
          "output_type": "stream",
          "name": "stderr",
          "text": [
            "/usr/local/lib/python3.7/dist-packages/sklearn/utils/deprecation.py:87: FutureWarning: Function get_feature_names is deprecated; get_feature_names is deprecated in 1.0 and will be removed in 1.2. Please use get_feature_names_out instead.\n",
            "  warnings.warn(msg, category=FutureWarning)\n"
          ]
        }
      ]
    },
    {
      "cell_type": "code",
      "metadata": {
        "id": "SN2uU8AQmX-k",
        "colab": {
          "base_uri": "https://localhost:8080/"
        },
        "outputId": "13569c62-2292-42b6-847e-68282cf359c2"
      },
      "source": [
        "dictionary"
      ],
      "execution_count": 12,
      "outputs": [
        {
          "output_type": "execute_result",
          "data": {
            "text/plain": [
              "['active', 'brown', 'cat', 'dog', 'good', 'lazy']"
            ]
          },
          "metadata": {},
          "execution_count": 12
        }
      ]
    },
    {
      "cell_type": "code",
      "metadata": {
        "id": "ndd5hK6wmbXV"
      },
      "source": [
        "# Term-Topic matrix\n",
        "encoding_matrix = pd.DataFrame(svd_model.components_, index = [\"topic_1\",\"topic_2\"], columns = (dictionary)).T\n"
      ],
      "execution_count": 13,
      "outputs": []
    },
    {
      "cell_type": "code",
      "metadata": {
        "id": "1pTPu0xdmjAp",
        "colab": {
          "base_uri": "https://localhost:8080/",
          "height": 235
        },
        "outputId": "17c472fe-c42e-4201-88d8-531d026e683b"
      },
      "source": [
        "encoding_matrix"
      ],
      "execution_count": 14,
      "outputs": [
        {
          "output_type": "execute_result",
          "data": {
            "text/html": [
              "<div>\n",
              "<style scoped>\n",
              "    .dataframe tbody tr th:only-of-type {\n",
              "        vertical-align: middle;\n",
              "    }\n",
              "\n",
              "    .dataframe tbody tr th {\n",
              "        vertical-align: top;\n",
              "    }\n",
              "\n",
              "    .dataframe thead th {\n",
              "        text-align: right;\n",
              "    }\n",
              "</style>\n",
              "<table border=\"1\" class=\"dataframe\">\n",
              "  <thead>\n",
              "    <tr style=\"text-align: right;\">\n",
              "      <th></th>\n",
              "      <th>topic_1</th>\n",
              "      <th>topic_2</th>\n",
              "    </tr>\n",
              "  </thead>\n",
              "  <tbody>\n",
              "    <tr>\n",
              "      <th>active</th>\n",
              "      <td>0.2003541259081108</td>\n",
              "      <td>-0.2424408501618362</td>\n",
              "    </tr>\n",
              "    <tr>\n",
              "      <th>brown</th>\n",
              "      <td>0.5965117122287049</td>\n",
              "      <td>-0.2018098984872580</td>\n",
              "    </tr>\n",
              "    <tr>\n",
              "      <th>cat</th>\n",
              "      <td>0.6293380994160952</td>\n",
              "      <td>-0.3298859088715317</td>\n",
              "    </tr>\n",
              "    <tr>\n",
              "      <th>dog</th>\n",
              "      <td>0.4158307960649448</td>\n",
              "      <td>0.6169033286639758</td>\n",
              "    </tr>\n",
              "    <tr>\n",
              "      <th>good</th>\n",
              "      <td>0.1323826028466491</td>\n",
              "      <td>0.4533766476433699</td>\n",
              "    </tr>\n",
              "    <tr>\n",
              "      <th>lazy</th>\n",
              "      <td>0.1323826028466496</td>\n",
              "      <td>0.4533766476433685</td>\n",
              "    </tr>\n",
              "  </tbody>\n",
              "</table>\n",
              "</div>"
            ],
            "text/plain": [
              "                  topic_1             topic_2\n",
              "active 0.2003541259081108 -0.2424408501618362\n",
              "brown  0.5965117122287049 -0.2018098984872580\n",
              "cat    0.6293380994160952 -0.3298859088715317\n",
              "dog    0.4158307960649448  0.6169033286639758\n",
              "good   0.1323826028466491  0.4533766476433699\n",
              "lazy   0.1323826028466496  0.4533766476433685"
            ]
          },
          "metadata": {},
          "execution_count": 14
        }
      ]
    },
    {
      "cell_type": "code",
      "metadata": {
        "id": "UzYKwZsA_b1-"
      },
      "source": [
        ""
      ],
      "execution_count": 14,
      "outputs": []
    }
  ]
}