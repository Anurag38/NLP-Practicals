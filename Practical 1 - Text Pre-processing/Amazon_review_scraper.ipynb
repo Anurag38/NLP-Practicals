{
 "cells": [
  {
   "cell_type": "code",
   "execution_count": 207,
   "id": "689d5f6f-e0be-4745-9e4a-d4c0ce739971",
   "metadata": {},
   "outputs": [],
   "source": [
    "import pandas as pd\n",
    "import requests\n",
    "from bs4 import BeautifulSoup"
   ]
  },
  {
   "cell_type": "code",
   "execution_count": 208,
   "id": "ffced7c0-756c-48bc-b4fe-c8d5161f9477",
   "metadata": {},
   "outputs": [
    {
     "name": "stdout",
     "output_type": "stream",
     "text": [
      "https://www.amazon.in/s?k=logitech+keyboard+and+mouse+combo\n"
     ]
    }
   ],
   "source": [
    "search_query=\"logitech+keyboard+and+mouse+combo\"\n",
    "base_url=\"https://www.amazon.in/s?k=\"\n",
    "url=base_url+search_query\n",
    "print(url)"
   ]
  },
  {
   "cell_type": "code",
   "execution_count": 109,
   "id": "7729c1c7-190b-4bed-9360-bff0143cc7fb",
   "metadata": {},
   "outputs": [],
   "source": [
    "header={'User-Agent': 'Mozilla/5.0 (Windows NT 10.0; Win64; x64) AppleWebKit/537.36 (KHTML, like Gecko) Chrome/77.0.3865.90 Safari/537.36','referer':'https://www.amazon.com/s?k=redmi+note+10+pro&crid=18G3A5WZHFYWR&sprefix=redmi+note+10%2Caps%2C417&ref=nb_sb_ss_ts-doa-p_1_13'}"
   ]
  },
  {
   "cell_type": "code",
   "execution_count": 110,
   "id": "319cbd43-48d6-4b49-add0-c790b58cbdc6",
   "metadata": {},
   "outputs": [
    {
     "data": {
      "text/plain": [
       "200"
      ]
     },
     "execution_count": 110,
     "metadata": {},
     "output_type": "execute_result"
    }
   ],
   "source": [
    "search_response=requests.get(url,headers=header)\n",
    "search_response.status_code"
   ]
  },
  {
   "cell_type": "markdown",
   "id": "dc3dbcc9-6750-4da0-8dd0-cd1d6f1e719c",
   "metadata": {},
   "source": [
    "## Getting the content of the page"
   ]
  },
  {
   "cell_type": "code",
   "execution_count": 111,
   "id": "56f87a74-8c61-4d14-9a19-bc4b527bfbf0",
   "metadata": {},
   "outputs": [],
   "source": [
    "cookie={} \n",
    "def getAmazonSearch(search_query):\n",
    "    url=\"https://www.amazon.com/s?k=\"+search_query\n",
    "    print(url)\n",
    "    page=requests.get(url,headers=header)\n",
    "    if page.status_code==200:\n",
    "        return page\n",
    "    else:\n",
    "        return \"Error\""
   ]
  },
  {
   "cell_type": "markdown",
   "id": "9e5310ce-15e9-4841-815c-cec35bfe8076",
   "metadata": {},
   "source": [
    "## Getting the content of each product from their respective pages using the data-asin attribute(unique) "
   ]
  },
  {
   "cell_type": "code",
   "execution_count": 112,
   "id": "225d3c61-32df-451c-b524-6a7449504836",
   "metadata": {},
   "outputs": [],
   "source": [
    "def Searchasin(asin):\n",
    "    url=\"https://www.amazon.com/dp/\"+asin\n",
    "    print(url)\n",
    "    page=requests.get(url,cookies=cookie,headers=header)\n",
    "    if page.status_code==200:\n",
    "        return page\n",
    "    else:\n",
    "        return \"Error\""
   ]
  },
  {
   "cell_type": "markdown",
   "id": "7fa8e43a-75c4-48f1-8d72-f1ff65aee2b5",
   "metadata": {},
   "source": [
    "## See all review link"
   ]
  },
  {
   "cell_type": "code",
   "execution_count": 113,
   "id": "70bce5bb-549f-4d8f-8391-50f8b1cd41dd",
   "metadata": {},
   "outputs": [],
   "source": [
    "def Searchreviews(review_link):\n",
    "    url=\"https://www.amazon.com\"+review_link\n",
    "    print(url)\n",
    "    page=requests.get(url,cookies=cookie,headers=header)\n",
    "    if page.status_code==200:\n",
    "        return page\n",
    "    else:\n",
    "        return \"Error\""
   ]
  },
  {
   "cell_type": "markdown",
   "id": "f8401ea5-eb6f-4edc-b7a7-5fd139ca4c8a",
   "metadata": {},
   "source": [
    "## Individual product extraction"
   ]
  },
  {
   "cell_type": "code",
   "execution_count": 114,
   "id": "d8b35d2c-7ab5-4c2e-910a-841c3c40f537",
   "metadata": {},
   "outputs": [
    {
     "name": "stdout",
     "output_type": "stream",
     "text": [
      "https://www.amazon.com/s?k=logitech+keyboard+and+mouse+combo\n"
     ]
    }
   ],
   "source": [
    "product_names=[]\n",
    "response=getAmazonSearch('logitech+keyboard+and+mouse+combo')\n",
    "soup=BeautifulSoup(response.content)\n",
    "for i in soup.findAll(\"span\",{'class':'a-size-medium a-color-base a-text-normal'}): # the tag which is common for all the names of products\n",
    "    product_names.append(i.text) #adding the product names to the list"
   ]
  },
  {
   "cell_type": "code",
   "execution_count": 115,
   "id": "59c5e9ea-7d06-46e9-87a9-9f30dd598277",
   "metadata": {},
   "outputs": [
    {
     "data": {
      "text/plain": [
       "['Amazon Basics Wireless Computer Keyboard and Mouse Combo - Full Size - US Layout (QWERTY)',\n",
       " 'Wireless Keyboard and Mouse, WisFox Full-Size Wireless Mouse and Keyboard Combo, 2.4GHz Silent USB Wireless Keyboard Mouse Combo for PC Desktops Computer, Laptops, Windows (Black)',\n",
       " 'Logitech MK270 Wireless Keyboard and Mouse Combo - Keyboard and Mouse Included, Long Battery Life',\n",
       " 'Logitech MK570 Wireless Wave Ergonomic Keyboard and Mouse Combo',\n",
       " 'Logitech MK345 Wireless Combo Full-Sized Keyboard with Palm Rest and Comfortable Right-Handed Mouse - Black',\n",
       " 'Logitech MK335 Wireless Keyboard and Mouse Combo - Black/Silver',\n",
       " 'Logitech Desktop MK120 Durable, Comfortable, USB Mouse and Keyboard Combo',\n",
       " 'Logitech MK295 Wireless Mouse & Keyboard Combo with SilentTouch Technology, Full Numpad, Advanced Optical Tracking, Lag-Free Wireless, 90% Less Noise - Graphite',\n",
       " 'Logitech MK550 Wireless Wave Keyboard and Mouse Combo - Includes Keyboard and Mouse, Long Battery Life, Ergonomic Wave Design - Black (Discontinued by Manufacturer)',\n",
       " 'Logitech MK235 Wireless Keyboard and Mouse',\n",
       " 'Wireless Keyboard and Mouse Combo, Ultra-Thin 2.4G USB Full Size Keyboard and Mouse Set, Cute 110 Keys Keyboard for PC, Notebook, MacBook, Tablet, Laptop, Windows System (Grey Colorful)',\n",
       " 'Logitech MK850 Performance Wireless Keyboard and Mouse Combo',\n",
       " 'Logitech Media Combo MK200 Full-Size Keyboard and High-Definition Optical Mouse',\n",
       " 'Logitech MK270 Wireless Keyboard and Mouse Combo — Keyboard and Mouse Included, Long Battery life',\n",
       " 'Logitech MK520 Wireless Keyboard and Mouse Combo — Keyboard and Mouse, Long Battery Life, Secure 2.4GHz Connectivity',\n",
       " 'Wireless Keyboard and Mouse Combo Silent, RATEL 2.4GHz Ultra-Thin Full Sized Wireless Keyboard Mouse Set with USB Receiver for Computer, Desktop, PC, Notebook, Laptop (Black)',\n",
       " 'Logitech MK540 Advanced Wireless Keyboard with Wireless Mouse Combo — Full Size Keyboard and Mouse, Long Battery Life, Caps Lock Indicator Light, Hot Keys, Secure 2.4GHz Connectivity (MK540)',\n",
       " 'Logitech MX Master 3 Advanced Wireless Mouse - Graphite & Ergo K860 Wireless Ergonomic Keyboard with Wrist Rest - Split Keyboard Layout for Windows/Mac, Bluetooth or USB Connectivity',\n",
       " 'Logitech MK540 Advanced Wireless Keyboard and Wireless M310 Mouse Combo — Full Size Keyboard and Mouse, Long Battery Life, Caps Lock Indicator Light, Hot Keys, Secure 2.4GHz Connectivity (MK540)',\n",
       " 'Logitech Wireless Desktop MK710 Keyboard & Mouse',\n",
       " 'Macally USB Wired Keyboard and Mouse Combo for Mac and PC - Save Space and Enhance Workflow - Compact Keyboard with 78 Slim Keys and Quiet Click Mouse - Sleek USB Keyboard and Mouse Wired',\n",
       " 'Brookstone Wireless Mouse & Keyboard Bundle- 2 in 1 Desktop Combo with Full-Sized, Low-Profile Keyboard and Mouse with Scroll Wheel (Mac and PC Compatible) (Standard Keyboard & Mouse)']"
      ]
     },
     "execution_count": 115,
     "metadata": {},
     "output_type": "execute_result"
    }
   ],
   "source": [
    "product_names"
   ]
  },
  {
   "cell_type": "code",
   "execution_count": 116,
   "id": "9a07f091-0819-48db-a4d2-9df239f41e3f",
   "metadata": {},
   "outputs": [
    {
     "data": {
      "text/plain": [
       "22"
      ]
     },
     "execution_count": 116,
     "metadata": {},
     "output_type": "execute_result"
    }
   ],
   "source": [
    "len(product_names)"
   ]
  },
  {
   "cell_type": "markdown",
   "id": "844de7b1-604c-4479-90c1-2a1781dfb133",
   "metadata": {},
   "source": [
    "## Getting the individual product's data-asin number"
   ]
  },
  {
   "cell_type": "code",
   "execution_count": 117,
   "id": "ed27ef1e-0f47-4795-a481-0173fe349f02",
   "metadata": {},
   "outputs": [
    {
     "name": "stdout",
     "output_type": "stream",
     "text": [
      "https://www.amazon.com/s?k=logitech+keyboard+and+mouse+combo\n"
     ]
    }
   ],
   "source": [
    "data_asin=[]\n",
    "response=getAmazonSearch(search_query)\n",
    "soup=BeautifulSoup(response.content)\n",
    "for i in soup.findAll(\"div\",{'class':\"s-result-item s-asin sg-col-0-of-12 sg-col-16-of-20 sg-col sg-col-12-of-16\"}):\n",
    "    data_asin.append(i['data-asin'])"
   ]
  },
  {
   "cell_type": "code",
   "execution_count": 118,
   "id": "91b13495-0e7e-4726-966c-14431a1bfb1f",
   "metadata": {},
   "outputs": [
    {
     "data": {
      "text/plain": [
       "['B079JLY5M5',\n",
       " 'B0725X7NSJ',\n",
       " 'B00QXT5T3U',\n",
       " 'B072JX77X6',\n",
       " 'B003NREDC8',\n",
       " 'B089KV4YYX',\n",
       " 'B003VAHYNC',\n",
       " 'B01AROOL12',\n",
       " 'B07VD4Q84X',\n",
       " 'B01NAVO5PF',\n",
       " 'B003NR874S',\n",
       " 'B00BP5KOPA',\n",
       " 'B003VANO7C',\n",
       " 'B07K2KPSBQ',\n",
       " 'B08HYV33XJ',\n",
       " 'B07NLHW3D6']"
      ]
     },
     "execution_count": 118,
     "metadata": {},
     "output_type": "execute_result"
    }
   ],
   "source": [
    "data_asin"
   ]
  },
  {
   "cell_type": "code",
   "execution_count": 119,
   "id": "8d3d3370-5562-4141-8e44-058680163093",
   "metadata": {},
   "outputs": [
    {
     "data": {
      "text/plain": [
       "16"
      ]
     },
     "execution_count": 119,
     "metadata": {},
     "output_type": "execute_result"
    }
   ],
   "source": [
    "len(data_asin)"
   ]
  },
  {
   "cell_type": "markdown",
   "id": "e2d8ce9e-6426-4c7b-971b-c2114da069a3",
   "metadata": {},
   "source": [
    "## Passing the data-asin number to get to the see all review page"
   ]
  },
  {
   "cell_type": "code",
   "execution_count": 120,
   "id": "c3c463a5-3f4a-4968-8d0d-608d4675eb43",
   "metadata": {},
   "outputs": [
    {
     "name": "stdout",
     "output_type": "stream",
     "text": [
      "https://www.amazon.com/dp/B079JLY5M5\n",
      "https://www.amazon.com/dp/B0725X7NSJ\n",
      "https://www.amazon.com/dp/B00QXT5T3U\n",
      "https://www.amazon.com/dp/B072JX77X6\n",
      "https://www.amazon.com/dp/B003NREDC8\n",
      "https://www.amazon.com/dp/B089KV4YYX\n",
      "https://www.amazon.com/dp/B003VAHYNC\n",
      "https://www.amazon.com/dp/B01AROOL12\n",
      "https://www.amazon.com/dp/B07VD4Q84X\n",
      "https://www.amazon.com/dp/B01NAVO5PF\n",
      "https://www.amazon.com/dp/B003NR874S\n",
      "https://www.amazon.com/dp/B00BP5KOPA\n",
      "https://www.amazon.com/dp/B003VANO7C\n",
      "https://www.amazon.com/dp/B07K2KPSBQ\n",
      "https://www.amazon.com/dp/B08HYV33XJ\n",
      "https://www.amazon.com/dp/B07NLHW3D6\n"
     ]
    }
   ],
   "source": [
    "link=[]\n",
    "for i in range(len(data_asin)):\n",
    "    response=Searchasin(data_asin[i])\n",
    "    soup=BeautifulSoup(response.content)\n",
    "    for i in soup.findAll(\"a\",{'data-hook':\"see-all-reviews-link-foot\"}):\n",
    "        link.append(i['href'])"
   ]
  },
  {
   "cell_type": "code",
   "execution_count": 121,
   "id": "ec322e0a-e457-4e6b-8149-5aa173f97b94",
   "metadata": {},
   "outputs": [
    {
     "data": {
      "text/plain": [
       "['/Logitech-MK270-Wireless-Keyboard-Mouse/product-reviews/B079JLY5M5/ref=cm_cr_dp_d_show_all_btm?ie=UTF8&reviewerType=all_reviews',\n",
       " '/Logitech-MK270-Wireless-Keyboard-Mouse/product-reviews/B079JLY5M5/ref=cm_cr_dp_d_show_all_btm?ie=UTF8&reviewerType=all_reviews',\n",
       " '/Logitech-Comfort-Wireless-Keyboard-Optical/product-reviews/B0725X7NSJ/ref=cm_cr_dp_d_show_all_btm?ie=UTF8&reviewerType=all_reviews',\n",
       " '/Logitech-Comfort-Wireless-Keyboard-Optical/product-reviews/B0725X7NSJ/ref=cm_cr_dp_d_show_all_btm?ie=UTF8&reviewerType=all_reviews',\n",
       " '/Logitech-MK345-Wireless-Combo-Right-Handed/product-reviews/B00QXT5T3U/ref=cm_cr_dp_d_show_all_btm?ie=UTF8&reviewerType=all_reviews',\n",
       " '/Logitech-MK345-Wireless-Combo-Right-Handed/product-reviews/B00QXT5T3U/ref=cm_cr_dp_d_show_all_btm?ie=UTF8&reviewerType=all_reviews',\n",
       " '/Logitech-13004-MK335/product-reviews/B072JX77X6/ref=cm_cr_dp_d_show_all_btm?ie=UTF8&reviewerType=all_reviews',\n",
       " '/Logitech-13004-MK335/product-reviews/B072JX77X6/ref=cm_cr_dp_d_show_all_btm?ie=UTF8&reviewerType=all_reviews',\n",
       " '/Logitech-Desktop-Durable-Comfortable-keyboard/product-reviews/B003NREDC8/ref=cm_cr_dp_d_show_all_btm?ie=UTF8&reviewerType=all_reviews',\n",
       " '/Logitech-Desktop-Durable-Comfortable-keyboard/product-reviews/B003NREDC8/ref=cm_cr_dp_d_show_all_btm?ie=UTF8&reviewerType=all_reviews',\n",
       " '/Logitech-Wireless-Keyboard-SilentTouch-Technology/product-reviews/B089KV4YYX/ref=cm_cr_dp_d_show_all_btm?ie=UTF8&reviewerType=all_reviews',\n",
       " '/Logitech-Wireless-Keyboard-SilentTouch-Technology/product-reviews/B089KV4YYX/ref=cm_cr_dp_d_show_all_btm?ie=UTF8&reviewerType=all_reviews',\n",
       " '/Logitech-MK550-Wireless-Keyboard-Mouse/product-reviews/B003VAHYNC/ref=cm_cr_dp_d_show_all_btm?ie=UTF8&reviewerType=all_reviews',\n",
       " '/Logitech-MK550-Wireless-Keyboard-Mouse/product-reviews/B003VAHYNC/ref=cm_cr_dp_d_show_all_btm?ie=UTF8&reviewerType=all_reviews',\n",
       " '/Logitech-MK235-Wireless-Keyboard-Mouse/product-reviews/B01AROOL12/ref=cm_cr_dp_d_show_all_btm?ie=UTF8&reviewerType=all_reviews',\n",
       " '/Logitech-MK235-Wireless-Keyboard-Mouse/product-reviews/B01AROOL12/ref=cm_cr_dp_d_show_all_btm?ie=UTF8&reviewerType=all_reviews',\n",
       " '/Logitech-MK470-Slim-Wireless-Combo/product-reviews/B07VD4Q84X/ref=cm_cr_dp_d_show_all_btm?ie=UTF8&reviewerType=all_reviews',\n",
       " '/Logitech-MK470-Slim-Wireless-Combo/product-reviews/B07VD4Q84X/ref=cm_cr_dp_d_show_all_btm?ie=UTF8&reviewerType=all_reviews',\n",
       " '/Logitech-MK850-Performance-Wireless-Keyboard/product-reviews/B01NAVO5PF/ref=cm_cr_dp_d_show_all_btm?ie=UTF8&reviewerType=all_reviews',\n",
       " '/Logitech-MK850-Performance-Wireless-Keyboard/product-reviews/B01NAVO5PF/ref=cm_cr_dp_d_show_all_btm?ie=UTF8&reviewerType=all_reviews',\n",
       " '/Logitech-Full-Size-Keyboard-High-Definition-Optical/product-reviews/B003NR874S/ref=cm_cr_dp_d_show_all_btm?ie=UTF8&reviewerType=all_reviews',\n",
       " '/Logitech-Full-Size-Keyboard-High-Definition-Optical/product-reviews/B003NR874S/ref=cm_cr_dp_d_show_all_btm?ie=UTF8&reviewerType=all_reviews',\n",
       " '/Logitech-MK270-Wireless-Keyboard-Mouse/product-reviews/B00BP5KOPA/ref=cm_cr_dp_d_show_all_btm?ie=UTF8&reviewerType=all_reviews',\n",
       " '/Logitech-MK270-Wireless-Keyboard-Mouse/product-reviews/B00BP5KOPA/ref=cm_cr_dp_d_show_all_btm?ie=UTF8&reviewerType=all_reviews',\n",
       " '/Logitech-MK520-Wireless-Keyboard-Mouse/product-reviews/B003VANO7C/ref=cm_cr_dp_d_show_all_btm?ie=UTF8&reviewerType=all_reviews',\n",
       " '/Logitech-MK520-Wireless-Keyboard-Mouse/product-reviews/B003VANO7C/ref=cm_cr_dp_d_show_all_btm?ie=UTF8&reviewerType=all_reviews',\n",
       " '/Logitech-S120-Stereo-Speakers-Pack/product-reviews/B07K2KPSBQ/ref=cm_cr_dp_d_show_all_btm?ie=UTF8&reviewerType=all_reviews',\n",
       " '/Logitech-Master-Advanced-Wireless-Mouse/product-reviews/B08HYV33XJ/ref=cm_cr_dp_d_show_all_btm?ie=UTF8&reviewerType=all_reviews',\n",
       " '/Logitech-Master-Advanced-Wireless-Mouse/product-reviews/B08HYV33XJ/ref=cm_cr_dp_d_show_all_btm?ie=UTF8&reviewerType=all_reviews',\n",
       " '/Logitech-Powered-Multimedia-Stereo-Speakers/product-reviews/B07NLHW3D6/ref=cm_cr_dp_d_show_all_btm?ie=UTF8&reviewerType=all_reviews']"
      ]
     },
     "execution_count": 121,
     "metadata": {},
     "output_type": "execute_result"
    }
   ],
   "source": [
    "link"
   ]
  },
  {
   "cell_type": "code",
   "execution_count": 122,
   "id": "52b28d15-de54-4a76-97cd-1a61be272876",
   "metadata": {},
   "outputs": [
    {
     "name": "stdout",
     "output_type": "stream",
     "text": [
      "https://www.amazon.com/Logitech-MK270-Wireless-Keyboard-Mouse/product-reviews/B079JLY5M5/ref=cm_cr_dp_d_show_all_btm?ie=UTF8&reviewerType=all_reviews&pageNumber=0\n",
      "https://www.amazon.com/Logitech-MK270-Wireless-Keyboard-Mouse/product-reviews/B079JLY5M5/ref=cm_cr_dp_d_show_all_btm?ie=UTF8&reviewerType=all_reviews&pageNumber=1\n",
      "https://www.amazon.com/Logitech-MK270-Wireless-Keyboard-Mouse/product-reviews/B079JLY5M5/ref=cm_cr_dp_d_show_all_btm?ie=UTF8&reviewerType=all_reviews&pageNumber=0\n",
      "https://www.amazon.com/Logitech-MK270-Wireless-Keyboard-Mouse/product-reviews/B079JLY5M5/ref=cm_cr_dp_d_show_all_btm?ie=UTF8&reviewerType=all_reviews&pageNumber=1\n",
      "https://www.amazon.com/Logitech-Comfort-Wireless-Keyboard-Optical/product-reviews/B0725X7NSJ/ref=cm_cr_dp_d_show_all_btm?ie=UTF8&reviewerType=all_reviews&pageNumber=0\n",
      "https://www.amazon.com/Logitech-Comfort-Wireless-Keyboard-Optical/product-reviews/B0725X7NSJ/ref=cm_cr_dp_d_show_all_btm?ie=UTF8&reviewerType=all_reviews&pageNumber=1\n",
      "https://www.amazon.com/Logitech-Comfort-Wireless-Keyboard-Optical/product-reviews/B0725X7NSJ/ref=cm_cr_dp_d_show_all_btm?ie=UTF8&reviewerType=all_reviews&pageNumber=0\n",
      "https://www.amazon.com/Logitech-Comfort-Wireless-Keyboard-Optical/product-reviews/B0725X7NSJ/ref=cm_cr_dp_d_show_all_btm?ie=UTF8&reviewerType=all_reviews&pageNumber=1\n",
      "https://www.amazon.com/Logitech-MK345-Wireless-Combo-Right-Handed/product-reviews/B00QXT5T3U/ref=cm_cr_dp_d_show_all_btm?ie=UTF8&reviewerType=all_reviews&pageNumber=0\n",
      "https://www.amazon.com/Logitech-MK345-Wireless-Combo-Right-Handed/product-reviews/B00QXT5T3U/ref=cm_cr_dp_d_show_all_btm?ie=UTF8&reviewerType=all_reviews&pageNumber=1\n",
      "https://www.amazon.com/Logitech-MK345-Wireless-Combo-Right-Handed/product-reviews/B00QXT5T3U/ref=cm_cr_dp_d_show_all_btm?ie=UTF8&reviewerType=all_reviews&pageNumber=0\n",
      "https://www.amazon.com/Logitech-MK345-Wireless-Combo-Right-Handed/product-reviews/B00QXT5T3U/ref=cm_cr_dp_d_show_all_btm?ie=UTF8&reviewerType=all_reviews&pageNumber=1\n",
      "https://www.amazon.com/Logitech-13004-MK335/product-reviews/B072JX77X6/ref=cm_cr_dp_d_show_all_btm?ie=UTF8&reviewerType=all_reviews&pageNumber=0\n",
      "https://www.amazon.com/Logitech-13004-MK335/product-reviews/B072JX77X6/ref=cm_cr_dp_d_show_all_btm?ie=UTF8&reviewerType=all_reviews&pageNumber=1\n",
      "https://www.amazon.com/Logitech-13004-MK335/product-reviews/B072JX77X6/ref=cm_cr_dp_d_show_all_btm?ie=UTF8&reviewerType=all_reviews&pageNumber=0\n",
      "https://www.amazon.com/Logitech-13004-MK335/product-reviews/B072JX77X6/ref=cm_cr_dp_d_show_all_btm?ie=UTF8&reviewerType=all_reviews&pageNumber=1\n",
      "https://www.amazon.com/Logitech-Desktop-Durable-Comfortable-keyboard/product-reviews/B003NREDC8/ref=cm_cr_dp_d_show_all_btm?ie=UTF8&reviewerType=all_reviews&pageNumber=0\n",
      "https://www.amazon.com/Logitech-Desktop-Durable-Comfortable-keyboard/product-reviews/B003NREDC8/ref=cm_cr_dp_d_show_all_btm?ie=UTF8&reviewerType=all_reviews&pageNumber=1\n",
      "https://www.amazon.com/Logitech-Desktop-Durable-Comfortable-keyboard/product-reviews/B003NREDC8/ref=cm_cr_dp_d_show_all_btm?ie=UTF8&reviewerType=all_reviews&pageNumber=0\n",
      "https://www.amazon.com/Logitech-Desktop-Durable-Comfortable-keyboard/product-reviews/B003NREDC8/ref=cm_cr_dp_d_show_all_btm?ie=UTF8&reviewerType=all_reviews&pageNumber=1\n",
      "https://www.amazon.com/Logitech-Wireless-Keyboard-SilentTouch-Technology/product-reviews/B089KV4YYX/ref=cm_cr_dp_d_show_all_btm?ie=UTF8&reviewerType=all_reviews&pageNumber=0\n",
      "https://www.amazon.com/Logitech-Wireless-Keyboard-SilentTouch-Technology/product-reviews/B089KV4YYX/ref=cm_cr_dp_d_show_all_btm?ie=UTF8&reviewerType=all_reviews&pageNumber=1\n",
      "https://www.amazon.com/Logitech-Wireless-Keyboard-SilentTouch-Technology/product-reviews/B089KV4YYX/ref=cm_cr_dp_d_show_all_btm?ie=UTF8&reviewerType=all_reviews&pageNumber=0\n",
      "https://www.amazon.com/Logitech-Wireless-Keyboard-SilentTouch-Technology/product-reviews/B089KV4YYX/ref=cm_cr_dp_d_show_all_btm?ie=UTF8&reviewerType=all_reviews&pageNumber=1\n",
      "https://www.amazon.com/Logitech-MK550-Wireless-Keyboard-Mouse/product-reviews/B003VAHYNC/ref=cm_cr_dp_d_show_all_btm?ie=UTF8&reviewerType=all_reviews&pageNumber=0\n",
      "https://www.amazon.com/Logitech-MK550-Wireless-Keyboard-Mouse/product-reviews/B003VAHYNC/ref=cm_cr_dp_d_show_all_btm?ie=UTF8&reviewerType=all_reviews&pageNumber=1\n",
      "https://www.amazon.com/Logitech-MK550-Wireless-Keyboard-Mouse/product-reviews/B003VAHYNC/ref=cm_cr_dp_d_show_all_btm?ie=UTF8&reviewerType=all_reviews&pageNumber=0\n",
      "https://www.amazon.com/Logitech-MK550-Wireless-Keyboard-Mouse/product-reviews/B003VAHYNC/ref=cm_cr_dp_d_show_all_btm?ie=UTF8&reviewerType=all_reviews&pageNumber=1\n",
      "https://www.amazon.com/Logitech-MK235-Wireless-Keyboard-Mouse/product-reviews/B01AROOL12/ref=cm_cr_dp_d_show_all_btm?ie=UTF8&reviewerType=all_reviews&pageNumber=0\n",
      "https://www.amazon.com/Logitech-MK235-Wireless-Keyboard-Mouse/product-reviews/B01AROOL12/ref=cm_cr_dp_d_show_all_btm?ie=UTF8&reviewerType=all_reviews&pageNumber=1\n",
      "https://www.amazon.com/Logitech-MK235-Wireless-Keyboard-Mouse/product-reviews/B01AROOL12/ref=cm_cr_dp_d_show_all_btm?ie=UTF8&reviewerType=all_reviews&pageNumber=0\n",
      "https://www.amazon.com/Logitech-MK235-Wireless-Keyboard-Mouse/product-reviews/B01AROOL12/ref=cm_cr_dp_d_show_all_btm?ie=UTF8&reviewerType=all_reviews&pageNumber=1\n",
      "https://www.amazon.com/Logitech-MK470-Slim-Wireless-Combo/product-reviews/B07VD4Q84X/ref=cm_cr_dp_d_show_all_btm?ie=UTF8&reviewerType=all_reviews&pageNumber=0\n",
      "https://www.amazon.com/Logitech-MK470-Slim-Wireless-Combo/product-reviews/B07VD4Q84X/ref=cm_cr_dp_d_show_all_btm?ie=UTF8&reviewerType=all_reviews&pageNumber=1\n",
      "https://www.amazon.com/Logitech-MK470-Slim-Wireless-Combo/product-reviews/B07VD4Q84X/ref=cm_cr_dp_d_show_all_btm?ie=UTF8&reviewerType=all_reviews&pageNumber=0\n",
      "https://www.amazon.com/Logitech-MK470-Slim-Wireless-Combo/product-reviews/B07VD4Q84X/ref=cm_cr_dp_d_show_all_btm?ie=UTF8&reviewerType=all_reviews&pageNumber=1\n",
      "https://www.amazon.com/Logitech-MK850-Performance-Wireless-Keyboard/product-reviews/B01NAVO5PF/ref=cm_cr_dp_d_show_all_btm?ie=UTF8&reviewerType=all_reviews&pageNumber=0\n",
      "https://www.amazon.com/Logitech-MK850-Performance-Wireless-Keyboard/product-reviews/B01NAVO5PF/ref=cm_cr_dp_d_show_all_btm?ie=UTF8&reviewerType=all_reviews&pageNumber=1\n",
      "https://www.amazon.com/Logitech-MK850-Performance-Wireless-Keyboard/product-reviews/B01NAVO5PF/ref=cm_cr_dp_d_show_all_btm?ie=UTF8&reviewerType=all_reviews&pageNumber=0\n",
      "https://www.amazon.com/Logitech-MK850-Performance-Wireless-Keyboard/product-reviews/B01NAVO5PF/ref=cm_cr_dp_d_show_all_btm?ie=UTF8&reviewerType=all_reviews&pageNumber=1\n",
      "https://www.amazon.com/Logitech-Full-Size-Keyboard-High-Definition-Optical/product-reviews/B003NR874S/ref=cm_cr_dp_d_show_all_btm?ie=UTF8&reviewerType=all_reviews&pageNumber=0\n",
      "https://www.amazon.com/Logitech-Full-Size-Keyboard-High-Definition-Optical/product-reviews/B003NR874S/ref=cm_cr_dp_d_show_all_btm?ie=UTF8&reviewerType=all_reviews&pageNumber=1\n",
      "https://www.amazon.com/Logitech-Full-Size-Keyboard-High-Definition-Optical/product-reviews/B003NR874S/ref=cm_cr_dp_d_show_all_btm?ie=UTF8&reviewerType=all_reviews&pageNumber=0\n",
      "https://www.amazon.com/Logitech-Full-Size-Keyboard-High-Definition-Optical/product-reviews/B003NR874S/ref=cm_cr_dp_d_show_all_btm?ie=UTF8&reviewerType=all_reviews&pageNumber=1\n",
      "https://www.amazon.com/Logitech-MK270-Wireless-Keyboard-Mouse/product-reviews/B00BP5KOPA/ref=cm_cr_dp_d_show_all_btm?ie=UTF8&reviewerType=all_reviews&pageNumber=0\n",
      "https://www.amazon.com/Logitech-MK270-Wireless-Keyboard-Mouse/product-reviews/B00BP5KOPA/ref=cm_cr_dp_d_show_all_btm?ie=UTF8&reviewerType=all_reviews&pageNumber=1\n",
      "https://www.amazon.com/Logitech-MK270-Wireless-Keyboard-Mouse/product-reviews/B00BP5KOPA/ref=cm_cr_dp_d_show_all_btm?ie=UTF8&reviewerType=all_reviews&pageNumber=0\n",
      "https://www.amazon.com/Logitech-MK270-Wireless-Keyboard-Mouse/product-reviews/B00BP5KOPA/ref=cm_cr_dp_d_show_all_btm?ie=UTF8&reviewerType=all_reviews&pageNumber=1\n",
      "https://www.amazon.com/Logitech-MK520-Wireless-Keyboard-Mouse/product-reviews/B003VANO7C/ref=cm_cr_dp_d_show_all_btm?ie=UTF8&reviewerType=all_reviews&pageNumber=0\n",
      "https://www.amazon.com/Logitech-MK520-Wireless-Keyboard-Mouse/product-reviews/B003VANO7C/ref=cm_cr_dp_d_show_all_btm?ie=UTF8&reviewerType=all_reviews&pageNumber=1\n",
      "https://www.amazon.com/Logitech-MK520-Wireless-Keyboard-Mouse/product-reviews/B003VANO7C/ref=cm_cr_dp_d_show_all_btm?ie=UTF8&reviewerType=all_reviews&pageNumber=0\n",
      "https://www.amazon.com/Logitech-MK520-Wireless-Keyboard-Mouse/product-reviews/B003VANO7C/ref=cm_cr_dp_d_show_all_btm?ie=UTF8&reviewerType=all_reviews&pageNumber=1\n",
      "https://www.amazon.com/Logitech-S120-Stereo-Speakers-Pack/product-reviews/B07K2KPSBQ/ref=cm_cr_dp_d_show_all_btm?ie=UTF8&reviewerType=all_reviews&pageNumber=0\n",
      "https://www.amazon.com/Logitech-S120-Stereo-Speakers-Pack/product-reviews/B07K2KPSBQ/ref=cm_cr_dp_d_show_all_btm?ie=UTF8&reviewerType=all_reviews&pageNumber=1\n",
      "https://www.amazon.com/Logitech-Master-Advanced-Wireless-Mouse/product-reviews/B08HYV33XJ/ref=cm_cr_dp_d_show_all_btm?ie=UTF8&reviewerType=all_reviews&pageNumber=0\n",
      "https://www.amazon.com/Logitech-Master-Advanced-Wireless-Mouse/product-reviews/B08HYV33XJ/ref=cm_cr_dp_d_show_all_btm?ie=UTF8&reviewerType=all_reviews&pageNumber=1\n",
      "https://www.amazon.com/Logitech-Master-Advanced-Wireless-Mouse/product-reviews/B08HYV33XJ/ref=cm_cr_dp_d_show_all_btm?ie=UTF8&reviewerType=all_reviews&pageNumber=0\n",
      "https://www.amazon.com/Logitech-Master-Advanced-Wireless-Mouse/product-reviews/B08HYV33XJ/ref=cm_cr_dp_d_show_all_btm?ie=UTF8&reviewerType=all_reviews&pageNumber=1\n",
      "https://www.amazon.com/Logitech-Powered-Multimedia-Stereo-Speakers/product-reviews/B07NLHW3D6/ref=cm_cr_dp_d_show_all_btm?ie=UTF8&reviewerType=all_reviews&pageNumber=0\n",
      "https://www.amazon.com/Logitech-Powered-Multimedia-Stereo-Speakers/product-reviews/B07NLHW3D6/ref=cm_cr_dp_d_show_all_btm?ie=UTF8&reviewerType=all_reviews&pageNumber=1\n"
     ]
    }
   ],
   "source": [
    "reviews=[]\n",
    "for j in range(len(link)):\n",
    "    for k in range(2):\n",
    "        response=Searchreviews(link[j]+'&pageNumber='+str(k))\n",
    "        soup=BeautifulSoup(response.content)\n",
    "        for i in soup.findAll(\"span\",{'data-hook':\"review-body\"}):\n",
    "            reviews.append(i.text)"
   ]
  },
  {
   "cell_type": "code",
   "execution_count": 123,
   "id": "66a83abe-00f3-4c95-95d0-8ac1f7361f81",
   "metadata": {},
   "outputs": [
    {
     "data": {
      "text/plain": [
       "580"
      ]
     },
     "execution_count": 123,
     "metadata": {},
     "output_type": "execute_result"
    }
   ],
   "source": [
    "len(reviews)"
   ]
  },
  {
   "cell_type": "markdown",
   "id": "51a6621a-ec3c-4bb0-bd1f-6e43a5a6361c",
   "metadata": {},
   "source": [
    "## Getting the reviews into a json file"
   ]
  },
  {
   "cell_type": "markdown",
   "id": "cca3dfe3-a673-4a9f-8ea1-4d8d1ad05310",
   "metadata": {},
   "source": [
    "# Currently markdown change to code\n",
    "import json\n",
    "json_file = json.dumps(reviews)\n",
    "json_file"
   ]
  },
  {
   "cell_type": "markdown",
   "id": "8a168d5a-f191-40f3-a479-4f693796b1d5",
   "metadata": {},
   "source": [
    "## Saving the reviews in a json file"
   ]
  },
  {
   "cell_type": "code",
   "execution_count": 125,
   "id": "a6c500b0-6cc7-424f-a0d1-9157b77fcbbe",
   "metadata": {},
   "outputs": [],
   "source": [
    "with open(\"amazon.json\", \"w\") as outfile:\n",
    "    outfile.write(json_file)"
   ]
  },
  {
   "cell_type": "markdown",
   "id": "a04d174b-d8b7-416d-8bcf-35bd5e4b9e4f",
   "metadata": {},
   "source": [
    "## Saving the reviews in a csv file"
   ]
  },
  {
   "cell_type": "code",
   "execution_count": 209,
   "id": "6743118d-1f69-4428-a897-8de7465dfdfe",
   "metadata": {},
   "outputs": [
    {
     "data": {
      "text/html": [
       "<div>\n",
       "<style scoped>\n",
       "    .dataframe tbody tr th:only-of-type {\n",
       "        vertical-align: middle;\n",
       "    }\n",
       "\n",
       "    .dataframe tbody tr th {\n",
       "        vertical-align: top;\n",
       "    }\n",
       "\n",
       "    .dataframe thead th {\n",
       "        text-align: right;\n",
       "    }\n",
       "</style>\n",
       "<table border=\"1\" class=\"dataframe\">\n",
       "  <thead>\n",
       "    <tr style=\"text-align: right;\">\n",
       "      <th></th>\n",
       "      <th>0</th>\n",
       "    </tr>\n",
       "  </thead>\n",
       "  <tbody>\n",
       "    <tr>\n",
       "      <th>0</th>\n",
       "      <td>\\n\\n  Logitech in their infinite wisdom has dr...</td>\n",
       "    </tr>\n",
       "    <tr>\n",
       "      <th>1</th>\n",
       "      <td>\\n\\n  **UPDATE** A couple of weeks later, I ha...</td>\n",
       "    </tr>\n",
       "    <tr>\n",
       "      <th>2</th>\n",
       "      <td>\\n\\n  I have loved this keyboard. When the spa...</td>\n",
       "    </tr>\n",
       "    <tr>\n",
       "      <th>3</th>\n",
       "      <td>\\n\\n  I already had one of these and am using ...</td>\n",
       "    </tr>\n",
       "    <tr>\n",
       "      <th>4</th>\n",
       "      <td>\\n\\n  User must install Logitech's control cen...</td>\n",
       "    </tr>\n",
       "  </tbody>\n",
       "</table>\n",
       "</div>"
      ],
      "text/plain": [
       "                                                   0\n",
       "0  \\n\\n  Logitech in their infinite wisdom has dr...\n",
       "1  \\n\\n  **UPDATE** A couple of weeks later, I ha...\n",
       "2  \\n\\n  I have loved this keyboard. When the spa...\n",
       "3  \\n\\n  I already had one of these and am using ...\n",
       "4  \\n\\n  User must install Logitech's control cen..."
      ]
     },
     "execution_count": 209,
     "metadata": {},
     "output_type": "execute_result"
    }
   ],
   "source": [
    "import pandas as pd\n",
    "df = pd.read_json(\"amazon.json\")\n",
    "df.to_csv(\"amazon_review.csv\")\n",
    "df.head()"
   ]
  },
  {
   "cell_type": "code",
   "execution_count": null,
   "id": "d62a91e5-66ff-4377-90fd-12efd319c391",
   "metadata": {},
   "outputs": [],
   "source": []
  },
  {
   "cell_type": "code",
   "execution_count": 210,
   "id": "72350065-01c1-423e-a847-e6813b4d27ba",
   "metadata": {},
   "outputs": [],
   "source": [
    "import nltk\n",
    "#nltk.download()"
   ]
  },
  {
   "cell_type": "code",
   "execution_count": 211,
   "id": "b200cc68-f4ca-413c-88d6-b8859ccdb427",
   "metadata": {},
   "outputs": [
    {
     "data": {
      "text/html": [
       "<div>\n",
       "<style scoped>\n",
       "    .dataframe tbody tr th:only-of-type {\n",
       "        vertical-align: middle;\n",
       "    }\n",
       "\n",
       "    .dataframe tbody tr th {\n",
       "        vertical-align: top;\n",
       "    }\n",
       "\n",
       "    .dataframe thead th {\n",
       "        text-align: right;\n",
       "    }\n",
       "</style>\n",
       "<table border=\"1\" class=\"dataframe\">\n",
       "  <thead>\n",
       "    <tr style=\"text-align: right;\">\n",
       "      <th></th>\n",
       "      <th>reviews</th>\n",
       "    </tr>\n",
       "  </thead>\n",
       "  <tbody>\n",
       "    <tr>\n",
       "      <th>0</th>\n",
       "      <td>Logitech in their infinite wisdom has droppe...</td>\n",
       "    </tr>\n",
       "    <tr>\n",
       "      <th>1</th>\n",
       "      <td>**UPDATE** A couple of weeks later, I have a...</td>\n",
       "    </tr>\n",
       "    <tr>\n",
       "      <th>2</th>\n",
       "      <td>I have loved this keyboard. When the space b...</td>\n",
       "    </tr>\n",
       "    <tr>\n",
       "      <th>3</th>\n",
       "      <td>I already had one of these and am using it o...</td>\n",
       "    </tr>\n",
       "    <tr>\n",
       "      <th>4</th>\n",
       "      <td>User must install Logitech's control center ...</td>\n",
       "    </tr>\n",
       "    <tr>\n",
       "      <th>...</th>\n",
       "      <td>...</td>\n",
       "    </tr>\n",
       "    <tr>\n",
       "      <th>575</th>\n",
       "      <td>Early on I noticed that the tracking was fau...</td>\n",
       "    </tr>\n",
       "    <tr>\n",
       "      <th>576</th>\n",
       "      <td>Keys are not as easy to push as in other log...</td>\n",
       "    </tr>\n",
       "    <tr>\n",
       "      <th>577</th>\n",
       "      <td>It is very pleasant having a nice clean new ...</td>\n",
       "    </tr>\n",
       "    <tr>\n",
       "      <th>578</th>\n",
       "      <td>Early on I noticed that the tracking was fau...</td>\n",
       "    </tr>\n",
       "    <tr>\n",
       "      <th>579</th>\n",
       "      <td>Keys are not as easy to push as in other log...</td>\n",
       "    </tr>\n",
       "  </tbody>\n",
       "</table>\n",
       "<p>580 rows × 1 columns</p>\n",
       "</div>"
      ],
      "text/plain": [
       "                                               reviews\n",
       "0      Logitech in their infinite wisdom has droppe...\n",
       "1      **UPDATE** A couple of weeks later, I have a...\n",
       "2      I have loved this keyboard. When the space b...\n",
       "3      I already had one of these and am using it o...\n",
       "4      User must install Logitech's control center ...\n",
       "..                                                 ...\n",
       "575    Early on I noticed that the tracking was fau...\n",
       "576    Keys are not as easy to push as in other log...\n",
       "577    It is very pleasant having a nice clean new ...\n",
       "578    Early on I noticed that the tracking was fau...\n",
       "579    Keys are not as easy to push as in other log...\n",
       "\n",
       "[580 rows x 1 columns]"
      ]
     },
     "execution_count": 211,
     "metadata": {},
     "output_type": "execute_result"
    }
   ],
   "source": [
    "df = df.replace('\\n','', regex=True)\n",
    "df.fillna(\"Not Available\")\n",
    "df.rename(columns={0: 'reviews'})"
   ]
  },
  {
   "cell_type": "markdown",
   "id": "d6dc3b79-4155-4c87-b178-1c2fd7e9e361",
   "metadata": {},
   "source": [
    "## Tokenizing"
   ]
  },
  {
   "cell_type": "code",
   "execution_count": 212,
   "id": "b9156230-9877-4c47-97a7-f9ae28020c94",
   "metadata": {},
   "outputs": [],
   "source": [
    "from nltk.tokenize import word_tokenize, RegexpTokenizer"
   ]
  },
  {
   "cell_type": "code",
   "execution_count": 213,
   "id": "3f5a73df-6642-4509-93d3-a7941cad34db",
   "metadata": {},
   "outputs": [
    {
     "data": {
      "text/plain": [
       "['logitech',\n",
       " 'in',\n",
       " 'their',\n",
       " 'infinite',\n",
       " 'wisdom',\n",
       " 'has',\n",
       " 'dropped',\n",
       " 'the',\n",
       " 'unifying',\n",
       " 'dongle',\n",
       " 'from',\n",
       " 'this',\n",
       " 'product',\n",
       " 'instead',\n",
       " 'you',\n",
       " 'get',\n",
       " 'a',\n",
       " 'single',\n",
       " 'dongle',\n",
       " 'that']"
      ]
     },
     "execution_count": 213,
     "metadata": {},
     "output_type": "execute_result"
    }
   ],
   "source": [
    "words = []\n",
    "for i in df[0]:\n",
    "    tokenizer = RegexpTokenizer(r'\\w+')\n",
    "    word = tokenizer.tokenize(i)\n",
    "    words.extend(word)\n",
    "words = [x.lower() for x in words]\n",
    "words[:20]"
   ]
  },
  {
   "cell_type": "markdown",
   "id": "1b15fd39-8f34-4813-a97d-a78accc76da1",
   "metadata": {},
   "source": [
    "unique_words = []\n",
    "for i in frequency:\n",
    "    unique_words.append(i)\n",
    "\n",
    "print(unique_words[:20])\n",
    "len(unique_words)"
   ]
  },
  {
   "cell_type": "markdown",
   "id": "4869daaf-97d6-4d45-a028-12fcd0759182",
   "metadata": {},
   "source": [
    "## Lemmatizing"
   ]
  },
  {
   "cell_type": "markdown",
   "id": "f1bf9efd-5c5d-4638-8f32-67e895f95af8",
   "metadata": {},
   "source": [
    "from nltk import WordNetLemmatizer\n",
    "lemmatizer = WordNetLemmatizer()\n",
    "lem_word = []\n",
    "for i in words: \n",
    "    lem_word.append(lemmatizer.lemmatize(i))\n",
    "\n",
    "lem = [lem_word]\n",
    "print(lem)"
   ]
  },
  {
   "cell_type": "markdown",
   "id": "792c2e01-d407-480a-b30b-52574f8d6d17",
   "metadata": {},
   "source": [
    "## Creating N-grams"
   ]
  },
  {
   "cell_type": "code",
   "execution_count": 215,
   "id": "f5d40ef6-5eba-47c9-9e61-4f821ee95846",
   "metadata": {},
   "outputs": [],
   "source": [
    "from nltk import bigrams, trigrams\n",
    "from collections import Counter, defaultdict"
   ]
  },
  {
   "cell_type": "markdown",
   "id": "cdda88c7-66b5-4eb5-92d7-4b2afa734a7c",
   "metadata": {},
   "source": [
    "### Unigram model"
   ]
  },
  {
   "cell_type": "code",
   "execution_count": 216,
   "id": "9450e4da-124c-4cd5-afba-c2a63dd91845",
   "metadata": {},
   "outputs": [
    {
     "data": {
      "text/plain": [
       "FreqDist({'the': 7796, 'i': 4680, 'and': 3682, 'a': 3540, 'to': 3536, 'it': 3054, 'is': 2350, 'keyboard': 2222, 'this': 1926, 'mouse': 1750, ...})"
      ]
     },
     "execution_count": 216,
     "metadata": {},
     "output_type": "execute_result"
    }
   ],
   "source": [
    "from nltk import FreqDist\n",
    "frequency = FreqDist(words)\n",
    "frequency"
   ]
  },
  {
   "cell_type": "code",
   "execution_count": 232,
   "id": "9a25c072-7afb-4250-86eb-1d97c8e7e545",
   "metadata": {},
   "outputs": [],
   "source": [
    "uni = {w1: 0 for i in lem for w1 in i  }"
   ]
  },
  {
   "cell_type": "markdown",
   "id": "c796102f-e7dd-4a16-9b2e-5febba3a5ab0",
   "metadata": {},
   "source": [
    "for sentence in lem:\n",
    "    for w1 in sentence:\n",
    "        uni[w1] += 1 #counting each word's freq\n",
    "print(uni)"
   ]
  },
  {
   "cell_type": "markdown",
   "id": "efa56402-5cc4-4bf3-8111-ff790f213aff",
   "metadata": {},
   "source": [
    "total_count = float(sum(uni.values()))\n",
    "for w1 in uni:\n",
    "    uni[w1] /= total_count\n",
    "uni"
   ]
  },
  {
   "cell_type": "markdown",
   "id": "8be9a05a-030d-43f6-9b10-97d9c83bd786",
   "metadata": {},
   "source": [
    "model={k: v for k, v in sorted(uni.items(), key=lambda item: item[1],reverse=True)}\n",
    "model"
   ]
  },
  {
   "cell_type": "markdown",
   "id": "1a570636-9a31-4736-a05d-d94a68156e6c",
   "metadata": {},
   "source": [
    "### Bigram model"
   ]
  },
  {
   "cell_type": "code",
   "execution_count": 152,
   "id": "b6dd1238-5942-48f8-907e-bce86df31760",
   "metadata": {},
   "outputs": [
    {
     "data": {
      "text/plain": [
       "[('logitech', 'in'),\n",
       " ('in', 'their'),\n",
       " ('their', 'infinite'),\n",
       " ('infinite', 'wisdom'),\n",
       " ('wisdom', 'ha'),\n",
       " ('ha', 'dropped'),\n",
       " ('dropped', 'the'),\n",
       " ('the', 'unifying'),\n",
       " ('unifying', 'dongle'),\n",
       " ('dongle', 'from')]"
      ]
     },
     "execution_count": 152,
     "metadata": {},
     "output_type": "execute_result"
    }
   ],
   "source": [
    "bigs = list(bigrams(lem_word))\n",
    "bigs[:10]"
   ]
  },
  {
   "cell_type": "code",
   "execution_count": 153,
   "id": "310a60aa-728d-4310-a0cc-6f5a493446fc",
   "metadata": {},
   "outputs": [],
   "source": [
    "# Create a placeholder for model\n",
    "bi = defaultdict(lambda: defaultdict(lambda: 0))"
   ]
  },
  {
   "cell_type": "code",
   "execution_count": 154,
   "id": "2a441a98-fe0d-4edf-bd6a-ff30b16e79c3",
   "metadata": {},
   "outputs": [],
   "source": [
    "# Count frequency of co-occurance\n",
    "for sentence in lem:\n",
    "    for w1, w2 in bigrams(sentence, pad_right=True, pad_left=True):\n",
    "        bi[(w1)][w2] += 1"
   ]
  },
  {
   "cell_type": "code",
   "execution_count": 155,
   "id": "98ec8f9d-7ae2-423f-92e5-5d5659673372",
   "metadata": {},
   "outputs": [],
   "source": [
    "# Let's transform the counts to probabilities\n",
    "for w1 in bi:\n",
    "    total_count = float(sum(bi[w1].values()))\n",
    "    for w2 in bi[w1]:\n",
    "        bi[w1][w2] /= total_count"
   ]
  },
  {
   "cell_type": "code",
   "execution_count": 156,
   "id": "ea400604-6d39-47d3-8b2f-db04c852f7dd",
   "metadata": {},
   "outputs": [
    {
     "data": {
      "text/plain": [
       "{'from': 0.05405405405405406,\n",
       " 'that': 0.13513513513513514,\n",
       " 'and': 0.08108108108108109,\n",
       " 'make': 0.02702702702702703,\n",
       " 'is': 0.05405405405405406,\n",
       " 'wa': 0.05405405405405406,\n",
       " 'differently': 0.02702702702702703,\n",
       " 'so': 0.02702702702702703,\n",
       " 'i': 0.08108108108108109,\n",
       " 'into': 0.02702702702702703,\n",
       " 'in': 0.08108108108108109,\n",
       " 'associated': 0.02702702702702703,\n",
       " 'for': 0.05405405405405406,\n",
       " 'kit': 0.02702702702702703,\n",
       " 'would': 0.02702702702702703,\n",
       " 'affixed': 0.02702702702702703,\n",
       " 'though': 0.02702702702702703,\n",
       " 'since': 0.02702702702702703,\n",
       " 'two': 0.02702702702702703,\n",
       " 'to': 0.02702702702702703,\n",
       " 'but': 0.02702702702702703,\n",
       " 'remove': 0.02702702702702703,\n",
       " 'over': 0.02702702702702703}"
      ]
     },
     "execution_count": 156,
     "metadata": {},
     "output_type": "execute_result"
    }
   ],
   "source": [
    "dict(bi[\"dongle\"])"
   ]
  },
  {
   "cell_type": "markdown",
   "id": "57f4c40e-8639-4d69-94a7-9c282a8f9820",
   "metadata": {},
   "source": [
    "### Trigram model"
   ]
  },
  {
   "cell_type": "code",
   "execution_count": 157,
   "id": "ec1b3398-d1f2-461d-a311-6416cb62328d",
   "metadata": {},
   "outputs": [
    {
     "data": {
      "text/plain": [
       "[('logitech', 'in', 'their'),\n",
       " ('in', 'their', 'infinite'),\n",
       " ('their', 'infinite', 'wisdom'),\n",
       " ('infinite', 'wisdom', 'ha'),\n",
       " ('wisdom', 'ha', 'dropped'),\n",
       " ('ha', 'dropped', 'the'),\n",
       " ('dropped', 'the', 'unifying'),\n",
       " ('the', 'unifying', 'dongle'),\n",
       " ('unifying', 'dongle', 'from'),\n",
       " ('dongle', 'from', 'this')]"
      ]
     },
     "execution_count": 157,
     "metadata": {},
     "output_type": "execute_result"
    }
   ],
   "source": [
    "trigs = list(trigrams(lem_word))\n",
    "trigs[:10]"
   ]
  },
  {
   "cell_type": "code",
   "execution_count": 158,
   "id": "1e5d748a-981d-47f9-bbf4-ac592cee201b",
   "metadata": {},
   "outputs": [],
   "source": [
    "# Create a placeholder for model\n",
    "tri = defaultdict(lambda: defaultdict(lambda: 0))"
   ]
  },
  {
   "cell_type": "code",
   "execution_count": 159,
   "id": "e11566c5-f235-4d1c-8521-7c710a33ccab",
   "metadata": {},
   "outputs": [],
   "source": [
    "# Count frequency of co-occurance\n",
    "for sentence in lem:\n",
    "    for w1, w2, w3 in trigrams(sentence, pad_right=True, pad_left=True):\n",
    "        tri[(w1, w2)][w3] += 1"
   ]
  },
  {
   "cell_type": "code",
   "execution_count": 160,
   "id": "0465d66f-aaac-46bb-bd99-e7fd4f4a96d3",
   "metadata": {},
   "outputs": [],
   "source": [
    "# Let's transform the counts to probabilities\n",
    "for w1_w2 in tri:\n",
    "    total_count = float(sum(tri[w1_w2].values()))\n",
    "    for w3 in tri[w1_w2]:\n",
    "        tri[w1_w2][w3] /= total_count"
   ]
  },
  {
   "cell_type": "code",
   "execution_count": 161,
   "id": "e647a624-df7f-4ab8-9e7f-ed71f16e427b",
   "metadata": {},
   "outputs": [
    {
     "data": {
      "text/plain": [
       "{'pointer': 0.2, 'cannot': 0.2, 'wireless': 0.2, 'so': 0.2, 'and': 0.2}"
      ]
     },
     "execution_count": 161,
     "metadata": {},
     "output_type": "execute_result"
    }
   ],
   "source": [
    "dict(tri[\"new\",\"mouse\"])"
   ]
  },
  {
   "cell_type": "code",
   "execution_count": null,
   "id": "a316ee88-3661-4f47-9886-22fddb3b7c60",
   "metadata": {},
   "outputs": [],
   "source": []
  },
  {
   "cell_type": "code",
   "execution_count": 177,
   "id": "544facd7-7e5f-40d2-bb29-3b34acc8ee05",
   "metadata": {},
   "outputs": [
    {
     "data": {
      "text/plain": [
       "['logitech',\n",
       " 'in',\n",
       " 'their',\n",
       " 'infinite',\n",
       " 'wisdom',\n",
       " 'ha',\n",
       " 'dropped',\n",
       " 'the',\n",
       " 'unifying',\n",
       " 'dongle']"
      ]
     },
     "execution_count": 177,
     "metadata": {},
     "output_type": "execute_result"
    }
   ],
   "source": [
    "sentence[:10]"
   ]
  },
  {
   "cell_type": "markdown",
   "id": "f396bb10-575f-448f-a5c2-bd399d49ee60",
   "metadata": {},
   "source": [
    "lem"
   ]
  },
  {
   "cell_type": "code",
   "execution_count": null,
   "id": "d3a055da-4035-4fac-b4ce-3d9d96322114",
   "metadata": {},
   "outputs": [],
   "source": []
  },
  {
   "cell_type": "code",
   "execution_count": 168,
   "id": "c98917b3-1c67-4e34-99dc-21558418e3ec",
   "metadata": {},
   "outputs": [],
   "source": []
  },
  {
   "cell_type": "code",
   "execution_count": null,
   "id": "831879b2-96f2-41e2-8967-a32b17e8243e",
   "metadata": {},
   "outputs": [],
   "source": []
  },
  {
   "cell_type": "code",
   "execution_count": null,
   "id": "fb270734-fbf0-4ca8-80a2-73c1866fb872",
   "metadata": {},
   "outputs": [],
   "source": []
  },
  {
   "cell_type": "code",
   "execution_count": null,
   "id": "82a5f52c-700e-44eb-9cff-3ce8355ccceb",
   "metadata": {},
   "outputs": [],
   "source": []
  },
  {
   "cell_type": "code",
   "execution_count": null,
   "id": "fe40bac3-7b5d-4c87-b2a7-b77f7060d51b",
   "metadata": {},
   "outputs": [],
   "source": []
  },
  {
   "cell_type": "markdown",
   "id": "7f522b3a-37f8-43f1-b69a-57b98bb92f2f",
   "metadata": {},
   "source": [
    "## Unigram for ajit singh thakor"
   ]
  },
  {
   "cell_type": "code",
   "execution_count": 198,
   "id": "95018a77-1f7d-46b7-afb7-f7e9a982112c",
   "metadata": {},
   "outputs": [],
   "source": [
    "string = \"ajit singh thakor makes good tea\""
   ]
  },
  {
   "cell_type": "code",
   "execution_count": 199,
   "id": "baac54ce-c394-4292-a504-a790c742eab1",
   "metadata": {},
   "outputs": [
    {
     "name": "stdout",
     "output_type": "stream",
     "text": [
      "['ajit singh thakor makes good tea']\n"
     ]
    }
   ],
   "source": [
    "wakya = nltk.sent_tokenize(string)\n",
    "print(wakya)"
   ]
  },
  {
   "cell_type": "code",
   "execution_count": 221,
   "id": "114e2b10-4af8-4402-9553-8c179e7f202d",
   "metadata": {},
   "outputs": [
    {
     "name": "stdout",
     "output_type": "stream",
     "text": [
      "6\n"
     ]
    }
   ],
   "source": [
    "shabd = nltk.word_tokenize(string)\n",
    "print(len(shabd))"
   ]
  },
  {
   "cell_type": "code",
   "execution_count": 223,
   "id": "f054fc81-f30e-4de0-913c-6a52981ae116",
   "metadata": {},
   "outputs": [
    {
     "name": "stdout",
     "output_type": "stream",
     "text": [
      "['ajit', 'singh', 'thakor', 'makes', 'good', 'tea']\n"
     ]
    }
   ],
   "source": [
    "print(shabd)"
   ]
  },
  {
   "cell_type": "code",
   "execution_count": 229,
   "id": "bacb255f-5778-4940-8aec-4c833808fca5",
   "metadata": {},
   "outputs": [
    {
     "name": "stdout",
     "output_type": "stream",
     "text": [
      "ajit\n",
      "singh\n",
      "thakor\n",
      "makes\n",
      "good\n",
      "tea\n"
     ]
    }
   ],
   "source": [
    "for i in [shabd]:\n",
    "    for j in i:\n",
    "        print(j)"
   ]
  },
  {
   "cell_type": "code",
   "execution_count": 224,
   "id": "5abf5d9d-05c1-4b73-aa7b-15b71bacfe85",
   "metadata": {},
   "outputs": [
    {
     "data": {
      "text/plain": [
       "{'ajit': 0, 'singh': 0, 'thakor': 0, 'makes': 0, 'good': 0, 'tea': 0}"
      ]
     },
     "execution_count": 224,
     "metadata": {},
     "output_type": "execute_result"
    }
   ],
   "source": [
    "uni = {w1: 0 for i in [shabd] for w1 in i  }\n",
    "uni"
   ]
  },
  {
   "cell_type": "code",
   "execution_count": 203,
   "id": "1e3d28a4-6e03-42fc-9e04-48d58bc0b65c",
   "metadata": {},
   "outputs": [
    {
     "name": "stdout",
     "output_type": "stream",
     "text": [
      "{'ajit': 1, 'singh': 1, 'thakor': 1, 'makes': 1, 'good': 1, 'tea': 1}\n"
     ]
    }
   ],
   "source": [
    "for sentence in [shabd]:\n",
    "    for w1 in sentence:\n",
    "        uni[w1] += 1 #counting each word's freq\n",
    "print(uni)"
   ]
  },
  {
   "cell_type": "code",
   "execution_count": 231,
   "id": "2f9b2884-28d6-4bfb-bdf5-60949cc0e271",
   "metadata": {},
   "outputs": [
    {
     "data": {
      "text/plain": [
       "dict_values([0, 0, 0, 0, 0, 0])"
      ]
     },
     "execution_count": 231,
     "metadata": {},
     "output_type": "execute_result"
    }
   ],
   "source": [
    "uni.values()"
   ]
  },
  {
   "cell_type": "code",
   "execution_count": 230,
   "id": "4eb74a0c-2826-41b5-a5d5-85237ddb4f84",
   "metadata": {},
   "outputs": [
    {
     "ename": "ZeroDivisionError",
     "evalue": "float division by zero",
     "output_type": "error",
     "traceback": [
      "\u001b[1;31m---------------------------------------------------------------------------\u001b[0m",
      "\u001b[1;31mZeroDivisionError\u001b[0m                         Traceback (most recent call last)",
      "\u001b[1;32m<ipython-input-230-b5674308ce29>\u001b[0m in \u001b[0;36m<module>\u001b[1;34m\u001b[0m\n\u001b[0;32m      1\u001b[0m \u001b[0mtotal_count\u001b[0m \u001b[1;33m=\u001b[0m \u001b[0mfloat\u001b[0m\u001b[1;33m(\u001b[0m\u001b[0msum\u001b[0m\u001b[1;33m(\u001b[0m\u001b[0muni\u001b[0m\u001b[1;33m.\u001b[0m\u001b[0mvalues\u001b[0m\u001b[1;33m(\u001b[0m\u001b[1;33m)\u001b[0m\u001b[1;33m)\u001b[0m\u001b[1;33m)\u001b[0m\u001b[1;33m\u001b[0m\u001b[1;33m\u001b[0m\u001b[0m\n\u001b[0;32m      2\u001b[0m \u001b[1;32mfor\u001b[0m \u001b[0mw1\u001b[0m \u001b[1;32min\u001b[0m \u001b[0muni\u001b[0m\u001b[1;33m:\u001b[0m\u001b[1;33m\u001b[0m\u001b[1;33m\u001b[0m\u001b[0m\n\u001b[1;32m----> 3\u001b[1;33m     \u001b[0muni\u001b[0m\u001b[1;33m[\u001b[0m\u001b[0mw1\u001b[0m\u001b[1;33m]\u001b[0m \u001b[1;33m/=\u001b[0m \u001b[0mtotal_count\u001b[0m\u001b[1;33m\u001b[0m\u001b[1;33m\u001b[0m\u001b[0m\n\u001b[0m\u001b[0;32m      4\u001b[0m \u001b[0muni\u001b[0m\u001b[1;33m\u001b[0m\u001b[1;33m\u001b[0m\u001b[0m\n",
      "\u001b[1;31mZeroDivisionError\u001b[0m: float division by zero"
     ]
    }
   ],
   "source": [
    "total_count = float(sum(uni.values()))\n",
    "for w1 in uni:\n",
    "    uni[w1] /= total_count\n",
    "uni"
   ]
  },
  {
   "cell_type": "code",
   "execution_count": null,
   "id": "ce8621ef-1ca1-40bc-b40d-76dbfae0869d",
   "metadata": {},
   "outputs": [],
   "source": []
  },
  {
   "cell_type": "markdown",
   "id": "15a5e48b-f184-4489-9182-90c88954817e",
   "metadata": {},
   "source": [
    "## Bigram for ajit singh thakor"
   ]
  },
  {
   "cell_type": "code",
   "execution_count": 175,
   "id": "cdcb645b-3b0b-4736-be29-074f69f754df",
   "metadata": {},
   "outputs": [],
   "source": [
    "bigrams_ajit = list(bigrams(words))"
   ]
  },
  {
   "cell_type": "code",
   "execution_count": 176,
   "id": "7a8e6752-6eda-45db-92b4-953a63f3c739",
   "metadata": {},
   "outputs": [
    {
     "data": {
      "text/plain": [
       "[('ajit', 'singh'),\n",
       " ('singh', 'thakor'),\n",
       " ('thakor', 'makes'),\n",
       " ('makes', 'good'),\n",
       " ('good', 'tea')]"
      ]
     },
     "execution_count": 176,
     "metadata": {},
     "output_type": "execute_result"
    }
   ],
   "source": [
    "bigrams_ajit"
   ]
  },
  {
   "cell_type": "code",
   "execution_count": 180,
   "id": "20019f50-084a-44eb-9455-527e707ac756",
   "metadata": {},
   "outputs": [],
   "source": [
    "# Count frequency of co-occurance\n",
    "for sentence in [words]:\n",
    "    for w1, w2 in bigrams(sentence, pad_right=True, pad_left=True):\n",
    "        bi[(w1)][w2] += 1"
   ]
  },
  {
   "cell_type": "code",
   "execution_count": 181,
   "id": "d4549c8a-08b8-4fb1-8e78-e24a1ea8b8f8",
   "metadata": {},
   "outputs": [],
   "source": [
    "# Let's transform the counts to probabilities\n",
    "for w1 in bi:\n",
    "    total_count = float(sum(bi[w1].values()))\n",
    "    for w2 in bi[w1]:\n",
    "        bi[w1][w2] /= total_count"
   ]
  },
  {
   "cell_type": "code",
   "execution_count": 182,
   "id": "37f32b7d-246b-4127-8165-99d544fdfce7",
   "metadata": {},
   "outputs": [
    {
     "data": {
      "text/plain": [
       "{'singh': 1.0}"
      ]
     },
     "execution_count": 182,
     "metadata": {},
     "output_type": "execute_result"
    }
   ],
   "source": [
    "dict(bi[\"ajit\"])"
   ]
  },
  {
   "cell_type": "code",
   "execution_count": 183,
   "id": "fd333837-a066-47f2-8f46-c9b60e733259",
   "metadata": {},
   "outputs": [
    {
     "data": {
      "text/plain": [
       "{}"
      ]
     },
     "execution_count": 183,
     "metadata": {},
     "output_type": "execute_result"
    }
   ],
   "source": [
    "dict(tri[\"ajit\", \"tea\"])"
   ]
  },
  {
   "cell_type": "code",
   "execution_count": null,
   "id": "86658b9a-0bbe-4c4a-8da9-3d8b67fbc89b",
   "metadata": {},
   "outputs": [],
   "source": []
  }
 ],
 "metadata": {
  "kernelspec": {
   "display_name": "Python 3",
   "language": "python",
   "name": "python3"
  },
  "language_info": {
   "codemirror_mode": {
    "name": "ipython",
    "version": 3
   },
   "file_extension": ".py",
   "mimetype": "text/x-python",
   "name": "python",
   "nbconvert_exporter": "python",
   "pygments_lexer": "ipython3",
   "version": "3.8.8"
  }
 },
 "nbformat": 4,
 "nbformat_minor": 5
}
