{
  "nbformat": 4,
  "nbformat_minor": 0,
  "metadata": {
    "colab": {
      "name": "Text Pre-processing.ipynb",
      "provenance": [],
      "authorship_tag": "ABX9TyNLxBJMa041nErzpDQtdSvn",
      "include_colab_link": true
    },
    "kernelspec": {
      "name": "python3",
      "display_name": "Python 3"
    },
    "language_info": {
      "name": "python"
    }
  },
  "cells": [
    {
      "cell_type": "markdown",
      "metadata": {
        "id": "view-in-github",
        "colab_type": "text"
      },
      "source": [
        "<a href=\"https://colab.research.google.com/github/Anurag38/NLP-Practicals/blob/main/Practical%201%20-%20Text%20Pre-processing/text_Pre_processing.ipynb\" target=\"_parent\"><img src=\"https://colab.research.google.com/assets/colab-badge.svg\" alt=\"Open In Colab\"/></a>"
      ]
    },
    {
      "cell_type": "code",
      "metadata": {
        "id": "689d5f6f-e0be-4745-9e4a-d4c0ce739971"
      },
      "source": [
        "import pandas as pd\n",
        "import requests\n",
        "from bs4 import BeautifulSoup"
      ],
      "execution_count": null,
      "outputs": []
    },
    {
      "cell_type": "code",
      "metadata": {
        "id": "ffced7c0-756c-48bc-b4fe-c8d5161f9477",
        "outputId": "1408b6e7-388e-4c0e-db13-3e13a09f925a"
      },
      "source": [
        "search_query=\"logitech+keyboard+and+mouse+combo\"\n",
        "base_url=\"https://www.amazon.in/s?k=\"\n",
        "url=base_url+search_query\n",
        "print(url)"
      ],
      "execution_count": null,
      "outputs": [
        {
          "name": "stdout",
          "output_type": "stream",
          "text": [
            "https://www.amazon.in/s?k=logitech+keyboard+and+mouse+combo\n"
          ]
        }
      ]
    },
    {
      "cell_type": "code",
      "metadata": {
        "id": "7729c1c7-190b-4bed-9360-bff0143cc7fb"
      },
      "source": [
        "header={'User-Agent': 'Mozilla/5.0 (Windows NT 10.0; Win64; x64) AppleWebKit/537.36 (KHTML, like Gecko) Chrome/77.0.3865.90 Safari/537.36','referer':'https://www.amazon.com/s?k=redmi+note+10+pro&crid=18G3A5WZHFYWR&sprefix=redmi+note+10%2Caps%2C417&ref=nb_sb_ss_ts-doa-p_1_13'}"
      ],
      "execution_count": null,
      "outputs": []
    },
    {
      "cell_type": "code",
      "metadata": {
        "id": "319cbd43-48d6-4b49-add0-c790b58cbdc6",
        "outputId": "9ace646c-a924-4ebd-b113-ed9ba88c2137"
      },
      "source": [
        "search_response=requests.get(url,headers=header)\n",
        "search_response.status_code"
      ],
      "execution_count": null,
      "outputs": [
        {
          "data": {
            "text/plain": [
              "200"
            ]
          },
          "execution_count": 110,
          "metadata": {},
          "output_type": "execute_result"
        }
      ]
    },
    {
      "cell_type": "markdown",
      "metadata": {
        "id": "dc3dbcc9-6750-4da0-8dd0-cd1d6f1e719c"
      },
      "source": [
        "## Getting the content of the page"
      ]
    },
    {
      "cell_type": "code",
      "metadata": {
        "id": "56f87a74-8c61-4d14-9a19-bc4b527bfbf0"
      },
      "source": [
        "cookie={} \n",
        "def getAmazonSearch(search_query):\n",
        "    url=\"https://www.amazon.com/s?k=\"+search_query\n",
        "    print(url)\n",
        "    page=requests.get(url,headers=header)\n",
        "    if page.status_code==200:\n",
        "        return page\n",
        "    else:\n",
        "        return \"Error\""
      ],
      "execution_count": null,
      "outputs": []
    },
    {
      "cell_type": "markdown",
      "metadata": {
        "id": "9e5310ce-15e9-4841-815c-cec35bfe8076"
      },
      "source": [
        "## Getting the content of each product from their respective pages using the data-asin attribute(unique) "
      ]
    },
    {
      "cell_type": "code",
      "metadata": {
        "id": "225d3c61-32df-451c-b524-6a7449504836"
      },
      "source": [
        "def Searchasin(asin):\n",
        "    url=\"https://www.amazon.com/dp/\"+asin\n",
        "    print(url)\n",
        "    page=requests.get(url,cookies=cookie,headers=header)\n",
        "    if page.status_code==200:\n",
        "        return page\n",
        "    else:\n",
        "        return \"Error\""
      ],
      "execution_count": null,
      "outputs": []
    },
    {
      "cell_type": "markdown",
      "metadata": {
        "id": "7fa8e43a-75c4-48f1-8d72-f1ff65aee2b5"
      },
      "source": [
        "## See all review link"
      ]
    },
    {
      "cell_type": "code",
      "metadata": {
        "id": "70bce5bb-549f-4d8f-8391-50f8b1cd41dd"
      },
      "source": [
        "def Searchreviews(review_link):\n",
        "    url=\"https://www.amazon.com\"+review_link\n",
        "    print(url)\n",
        "    page=requests.get(url,cookies=cookie,headers=header)\n",
        "    if page.status_code==200:\n",
        "        return page\n",
        "    else:\n",
        "        return \"Error\""
      ],
      "execution_count": null,
      "outputs": []
    },
    {
      "cell_type": "markdown",
      "metadata": {
        "id": "f8401ea5-eb6f-4edc-b7a7-5fd139ca4c8a"
      },
      "source": [
        "## Individual product extraction"
      ]
    },
    {
      "cell_type": "code",
      "metadata": {
        "id": "d8b35d2c-7ab5-4c2e-910a-841c3c40f537",
        "outputId": "ccc619d6-88ed-4e3f-8f89-3976d335862b"
      },
      "source": [
        "product_names=[]\n",
        "response=getAmazonSearch('logitech+keyboard+and+mouse+combo')\n",
        "soup=BeautifulSoup(response.content)\n",
        "for i in soup.findAll(\"span\",{'class':'a-size-medium a-color-base a-text-normal'}): # the tag which is common for all the names of products\n",
        "    product_names.append(i.text) #adding the product names to the list"
      ],
      "execution_count": null,
      "outputs": [
        {
          "name": "stdout",
          "output_type": "stream",
          "text": [
            "https://www.amazon.com/s?k=logitech+keyboard+and+mouse+combo\n"
          ]
        }
      ]
    },
    {
      "cell_type": "code",
      "metadata": {
        "id": "59c5e9ea-7d06-46e9-87a9-9f30dd598277",
        "outputId": "26f40fbc-66e6-4dca-eb85-0568ce1a086b"
      },
      "source": [
        "product_names"
      ],
      "execution_count": null,
      "outputs": [
        {
          "data": {
            "text/plain": [
              "['Amazon Basics Wireless Computer Keyboard and Mouse Combo - Full Size - US Layout (QWERTY)',\n",
              " 'Wireless Keyboard and Mouse, WisFox Full-Size Wireless Mouse and Keyboard Combo, 2.4GHz Silent USB Wireless Keyboard Mouse Combo for PC Desktops Computer, Laptops, Windows (Black)',\n",
              " 'Logitech MK270 Wireless Keyboard and Mouse Combo - Keyboard and Mouse Included, Long Battery Life',\n",
              " 'Logitech MK570 Wireless Wave Ergonomic Keyboard and Mouse Combo',\n",
              " 'Logitech MK345 Wireless Combo Full-Sized Keyboard with Palm Rest and Comfortable Right-Handed Mouse - Black',\n",
              " 'Logitech MK335 Wireless Keyboard and Mouse Combo - Black/Silver',\n",
              " 'Logitech Desktop MK120 Durable, Comfortable, USB Mouse and Keyboard Combo',\n",
              " 'Logitech MK295 Wireless Mouse & Keyboard Combo with SilentTouch Technology, Full Numpad, Advanced Optical Tracking, Lag-Free Wireless, 90% Less Noise - Graphite',\n",
              " 'Logitech MK550 Wireless Wave Keyboard and Mouse Combo - Includes Keyboard and Mouse, Long Battery Life, Ergonomic Wave Design - Black (Discontinued by Manufacturer)',\n",
              " 'Logitech MK235 Wireless Keyboard and Mouse',\n",
              " 'Wireless Keyboard and Mouse Combo, Ultra-Thin 2.4G USB Full Size Keyboard and Mouse Set, Cute 110 Keys Keyboard for PC, Notebook, MacBook, Tablet, Laptop, Windows System (Grey Colorful)',\n",
              " 'Logitech MK850 Performance Wireless Keyboard and Mouse Combo',\n",
              " 'Logitech Media Combo MK200 Full-Size Keyboard and High-Definition Optical Mouse',\n",
              " 'Logitech MK270 Wireless Keyboard and Mouse Combo — Keyboard and Mouse Included, Long Battery life',\n",
              " 'Logitech MK520 Wireless Keyboard and Mouse Combo — Keyboard and Mouse, Long Battery Life, Secure 2.4GHz Connectivity',\n",
              " 'Wireless Keyboard and Mouse Combo Silent, RATEL 2.4GHz Ultra-Thin Full Sized Wireless Keyboard Mouse Set with USB Receiver for Computer, Desktop, PC, Notebook, Laptop (Black)',\n",
              " 'Logitech MK540 Advanced Wireless Keyboard with Wireless Mouse Combo — Full Size Keyboard and Mouse, Long Battery Life, Caps Lock Indicator Light, Hot Keys, Secure 2.4GHz Connectivity (MK540)',\n",
              " 'Logitech MX Master 3 Advanced Wireless Mouse - Graphite & Ergo K860 Wireless Ergonomic Keyboard with Wrist Rest - Split Keyboard Layout for Windows/Mac, Bluetooth or USB Connectivity',\n",
              " 'Logitech MK540 Advanced Wireless Keyboard and Wireless M310 Mouse Combo — Full Size Keyboard and Mouse, Long Battery Life, Caps Lock Indicator Light, Hot Keys, Secure 2.4GHz Connectivity (MK540)',\n",
              " 'Logitech Wireless Desktop MK710 Keyboard & Mouse',\n",
              " 'Macally USB Wired Keyboard and Mouse Combo for Mac and PC - Save Space and Enhance Workflow - Compact Keyboard with 78 Slim Keys and Quiet Click Mouse - Sleek USB Keyboard and Mouse Wired',\n",
              " 'Brookstone Wireless Mouse & Keyboard Bundle- 2 in 1 Desktop Combo with Full-Sized, Low-Profile Keyboard and Mouse with Scroll Wheel (Mac and PC Compatible) (Standard Keyboard & Mouse)']"
            ]
          },
          "execution_count": 115,
          "metadata": {},
          "output_type": "execute_result"
        }
      ]
    },
    {
      "cell_type": "code",
      "metadata": {
        "id": "9a07f091-0819-48db-a4d2-9df239f41e3f",
        "outputId": "b512428c-d31c-4273-a1d4-37d9f1d749c2"
      },
      "source": [
        "len(product_names)"
      ],
      "execution_count": null,
      "outputs": [
        {
          "data": {
            "text/plain": [
              "22"
            ]
          },
          "execution_count": 116,
          "metadata": {},
          "output_type": "execute_result"
        }
      ]
    },
    {
      "cell_type": "markdown",
      "metadata": {
        "id": "844de7b1-604c-4479-90c1-2a1781dfb133"
      },
      "source": [
        "## Getting the individual product's data-asin number"
      ]
    },
    {
      "cell_type": "code",
      "metadata": {
        "id": "ed27ef1e-0f47-4795-a481-0173fe349f02",
        "outputId": "47b371ec-bdce-4b95-adb8-9523cba1af49"
      },
      "source": [
        "data_asin=[]\n",
        "response=getAmazonSearch(search_query)\n",
        "soup=BeautifulSoup(response.content)\n",
        "for i in soup.findAll(\"div\",{'class':\"s-result-item s-asin sg-col-0-of-12 sg-col-16-of-20 sg-col sg-col-12-of-16\"}):\n",
        "    data_asin.append(i['data-asin'])"
      ],
      "execution_count": null,
      "outputs": [
        {
          "name": "stdout",
          "output_type": "stream",
          "text": [
            "https://www.amazon.com/s?k=logitech+keyboard+and+mouse+combo\n"
          ]
        }
      ]
    },
    {
      "cell_type": "code",
      "metadata": {
        "id": "91b13495-0e7e-4726-966c-14431a1bfb1f",
        "outputId": "7056b443-080c-4852-806e-748ce4852c3d"
      },
      "source": [
        "data_asin"
      ],
      "execution_count": null,
      "outputs": [
        {
          "data": {
            "text/plain": [
              "['B079JLY5M5',\n",
              " 'B0725X7NSJ',\n",
              " 'B00QXT5T3U',\n",
              " 'B072JX77X6',\n",
              " 'B003NREDC8',\n",
              " 'B089KV4YYX',\n",
              " 'B003VAHYNC',\n",
              " 'B01AROOL12',\n",
              " 'B07VD4Q84X',\n",
              " 'B01NAVO5PF',\n",
              " 'B003NR874S',\n",
              " 'B00BP5KOPA',\n",
              " 'B003VANO7C',\n",
              " 'B07K2KPSBQ',\n",
              " 'B08HYV33XJ',\n",
              " 'B07NLHW3D6']"
            ]
          },
          "execution_count": 118,
          "metadata": {},
          "output_type": "execute_result"
        }
      ]
    },
    {
      "cell_type": "code",
      "metadata": {
        "id": "8d3d3370-5562-4141-8e44-058680163093",
        "outputId": "b2dbfb41-fd99-47f9-a12a-ab72435fc8a2"
      },
      "source": [
        "len(data_asin)"
      ],
      "execution_count": null,
      "outputs": [
        {
          "data": {
            "text/plain": [
              "16"
            ]
          },
          "execution_count": 119,
          "metadata": {},
          "output_type": "execute_result"
        }
      ]
    },
    {
      "cell_type": "markdown",
      "metadata": {
        "id": "e2d8ce9e-6426-4c7b-971b-c2114da069a3"
      },
      "source": [
        "## Passing the data-asin number to get to the see all review page"
      ]
    },
    {
      "cell_type": "code",
      "metadata": {
        "id": "c3c463a5-3f4a-4968-8d0d-608d4675eb43",
        "outputId": "207be9ee-0624-4a37-c1c5-f3db71fd38d7"
      },
      "source": [
        "link=[]\n",
        "for i in range(len(data_asin)):\n",
        "    response=Searchasin(data_asin[i])\n",
        "    soup=BeautifulSoup(response.content)\n",
        "    for i in soup.findAll(\"a\",{'data-hook':\"see-all-reviews-link-foot\"}):\n",
        "        link.append(i['href'])"
      ],
      "execution_count": null,
      "outputs": [
        {
          "name": "stdout",
          "output_type": "stream",
          "text": [
            "https://www.amazon.com/dp/B079JLY5M5\n",
            "https://www.amazon.com/dp/B0725X7NSJ\n",
            "https://www.amazon.com/dp/B00QXT5T3U\n",
            "https://www.amazon.com/dp/B072JX77X6\n",
            "https://www.amazon.com/dp/B003NREDC8\n",
            "https://www.amazon.com/dp/B089KV4YYX\n",
            "https://www.amazon.com/dp/B003VAHYNC\n",
            "https://www.amazon.com/dp/B01AROOL12\n",
            "https://www.amazon.com/dp/B07VD4Q84X\n",
            "https://www.amazon.com/dp/B01NAVO5PF\n",
            "https://www.amazon.com/dp/B003NR874S\n",
            "https://www.amazon.com/dp/B00BP5KOPA\n",
            "https://www.amazon.com/dp/B003VANO7C\n",
            "https://www.amazon.com/dp/B07K2KPSBQ\n",
            "https://www.amazon.com/dp/B08HYV33XJ\n",
            "https://www.amazon.com/dp/B07NLHW3D6\n"
          ]
        }
      ]
    },
    {
      "cell_type": "code",
      "metadata": {
        "id": "ec322e0a-e457-4e6b-8149-5aa173f97b94",
        "outputId": "41d5c445-2b3c-48b6-e2d0-8003eed1541a"
      },
      "source": [
        "link"
      ],
      "execution_count": null,
      "outputs": [
        {
          "data": {
            "text/plain": [
              "['/Logitech-MK270-Wireless-Keyboard-Mouse/product-reviews/B079JLY5M5/ref=cm_cr_dp_d_show_all_btm?ie=UTF8&reviewerType=all_reviews',\n",
              " '/Logitech-MK270-Wireless-Keyboard-Mouse/product-reviews/B079JLY5M5/ref=cm_cr_dp_d_show_all_btm?ie=UTF8&reviewerType=all_reviews',\n",
              " '/Logitech-Comfort-Wireless-Keyboard-Optical/product-reviews/B0725X7NSJ/ref=cm_cr_dp_d_show_all_btm?ie=UTF8&reviewerType=all_reviews',\n",
              " '/Logitech-Comfort-Wireless-Keyboard-Optical/product-reviews/B0725X7NSJ/ref=cm_cr_dp_d_show_all_btm?ie=UTF8&reviewerType=all_reviews',\n",
              " '/Logitech-MK345-Wireless-Combo-Right-Handed/product-reviews/B00QXT5T3U/ref=cm_cr_dp_d_show_all_btm?ie=UTF8&reviewerType=all_reviews',\n",
              " '/Logitech-MK345-Wireless-Combo-Right-Handed/product-reviews/B00QXT5T3U/ref=cm_cr_dp_d_show_all_btm?ie=UTF8&reviewerType=all_reviews',\n",
              " '/Logitech-13004-MK335/product-reviews/B072JX77X6/ref=cm_cr_dp_d_show_all_btm?ie=UTF8&reviewerType=all_reviews',\n",
              " '/Logitech-13004-MK335/product-reviews/B072JX77X6/ref=cm_cr_dp_d_show_all_btm?ie=UTF8&reviewerType=all_reviews',\n",
              " '/Logitech-Desktop-Durable-Comfortable-keyboard/product-reviews/B003NREDC8/ref=cm_cr_dp_d_show_all_btm?ie=UTF8&reviewerType=all_reviews',\n",
              " '/Logitech-Desktop-Durable-Comfortable-keyboard/product-reviews/B003NREDC8/ref=cm_cr_dp_d_show_all_btm?ie=UTF8&reviewerType=all_reviews',\n",
              " '/Logitech-Wireless-Keyboard-SilentTouch-Technology/product-reviews/B089KV4YYX/ref=cm_cr_dp_d_show_all_btm?ie=UTF8&reviewerType=all_reviews',\n",
              " '/Logitech-Wireless-Keyboard-SilentTouch-Technology/product-reviews/B089KV4YYX/ref=cm_cr_dp_d_show_all_btm?ie=UTF8&reviewerType=all_reviews',\n",
              " '/Logitech-MK550-Wireless-Keyboard-Mouse/product-reviews/B003VAHYNC/ref=cm_cr_dp_d_show_all_btm?ie=UTF8&reviewerType=all_reviews',\n",
              " '/Logitech-MK550-Wireless-Keyboard-Mouse/product-reviews/B003VAHYNC/ref=cm_cr_dp_d_show_all_btm?ie=UTF8&reviewerType=all_reviews',\n",
              " '/Logitech-MK235-Wireless-Keyboard-Mouse/product-reviews/B01AROOL12/ref=cm_cr_dp_d_show_all_btm?ie=UTF8&reviewerType=all_reviews',\n",
              " '/Logitech-MK235-Wireless-Keyboard-Mouse/product-reviews/B01AROOL12/ref=cm_cr_dp_d_show_all_btm?ie=UTF8&reviewerType=all_reviews',\n",
              " '/Logitech-MK470-Slim-Wireless-Combo/product-reviews/B07VD4Q84X/ref=cm_cr_dp_d_show_all_btm?ie=UTF8&reviewerType=all_reviews',\n",
              " '/Logitech-MK470-Slim-Wireless-Combo/product-reviews/B07VD4Q84X/ref=cm_cr_dp_d_show_all_btm?ie=UTF8&reviewerType=all_reviews',\n",
              " '/Logitech-MK850-Performance-Wireless-Keyboard/product-reviews/B01NAVO5PF/ref=cm_cr_dp_d_show_all_btm?ie=UTF8&reviewerType=all_reviews',\n",
              " '/Logitech-MK850-Performance-Wireless-Keyboard/product-reviews/B01NAVO5PF/ref=cm_cr_dp_d_show_all_btm?ie=UTF8&reviewerType=all_reviews',\n",
              " '/Logitech-Full-Size-Keyboard-High-Definition-Optical/product-reviews/B003NR874S/ref=cm_cr_dp_d_show_all_btm?ie=UTF8&reviewerType=all_reviews',\n",
              " '/Logitech-Full-Size-Keyboard-High-Definition-Optical/product-reviews/B003NR874S/ref=cm_cr_dp_d_show_all_btm?ie=UTF8&reviewerType=all_reviews',\n",
              " '/Logitech-MK270-Wireless-Keyboard-Mouse/product-reviews/B00BP5KOPA/ref=cm_cr_dp_d_show_all_btm?ie=UTF8&reviewerType=all_reviews',\n",
              " '/Logitech-MK270-Wireless-Keyboard-Mouse/product-reviews/B00BP5KOPA/ref=cm_cr_dp_d_show_all_btm?ie=UTF8&reviewerType=all_reviews',\n",
              " '/Logitech-MK520-Wireless-Keyboard-Mouse/product-reviews/B003VANO7C/ref=cm_cr_dp_d_show_all_btm?ie=UTF8&reviewerType=all_reviews',\n",
              " '/Logitech-MK520-Wireless-Keyboard-Mouse/product-reviews/B003VANO7C/ref=cm_cr_dp_d_show_all_btm?ie=UTF8&reviewerType=all_reviews',\n",
              " '/Logitech-S120-Stereo-Speakers-Pack/product-reviews/B07K2KPSBQ/ref=cm_cr_dp_d_show_all_btm?ie=UTF8&reviewerType=all_reviews',\n",
              " '/Logitech-Master-Advanced-Wireless-Mouse/product-reviews/B08HYV33XJ/ref=cm_cr_dp_d_show_all_btm?ie=UTF8&reviewerType=all_reviews',\n",
              " '/Logitech-Master-Advanced-Wireless-Mouse/product-reviews/B08HYV33XJ/ref=cm_cr_dp_d_show_all_btm?ie=UTF8&reviewerType=all_reviews',\n",
              " '/Logitech-Powered-Multimedia-Stereo-Speakers/product-reviews/B07NLHW3D6/ref=cm_cr_dp_d_show_all_btm?ie=UTF8&reviewerType=all_reviews']"
            ]
          },
          "execution_count": 121,
          "metadata": {},
          "output_type": "execute_result"
        }
      ]
    },
    {
      "cell_type": "code",
      "metadata": {
        "id": "52b28d15-de54-4a76-97cd-1a61be272876",
        "outputId": "3a89182f-1b57-4637-ff3c-77191b69307f"
      },
      "source": [
        "reviews=[]\n",
        "for j in range(len(link)):\n",
        "    for k in range(2):\n",
        "        response=Searchreviews(link[j]+'&pageNumber='+str(k))\n",
        "        soup=BeautifulSoup(response.content)\n",
        "        for i in soup.findAll(\"span\",{'data-hook':\"review-body\"}):\n",
        "            reviews.append(i.text)"
      ],
      "execution_count": null,
      "outputs": [
        {
          "name": "stdout",
          "output_type": "stream",
          "text": [
            "https://www.amazon.com/Logitech-MK270-Wireless-Keyboard-Mouse/product-reviews/B079JLY5M5/ref=cm_cr_dp_d_show_all_btm?ie=UTF8&reviewerType=all_reviews&pageNumber=0\n",
            "https://www.amazon.com/Logitech-MK270-Wireless-Keyboard-Mouse/product-reviews/B079JLY5M5/ref=cm_cr_dp_d_show_all_btm?ie=UTF8&reviewerType=all_reviews&pageNumber=1\n",
            "https://www.amazon.com/Logitech-MK270-Wireless-Keyboard-Mouse/product-reviews/B079JLY5M5/ref=cm_cr_dp_d_show_all_btm?ie=UTF8&reviewerType=all_reviews&pageNumber=0\n",
            "https://www.amazon.com/Logitech-MK270-Wireless-Keyboard-Mouse/product-reviews/B079JLY5M5/ref=cm_cr_dp_d_show_all_btm?ie=UTF8&reviewerType=all_reviews&pageNumber=1\n",
            "https://www.amazon.com/Logitech-Comfort-Wireless-Keyboard-Optical/product-reviews/B0725X7NSJ/ref=cm_cr_dp_d_show_all_btm?ie=UTF8&reviewerType=all_reviews&pageNumber=0\n",
            "https://www.amazon.com/Logitech-Comfort-Wireless-Keyboard-Optical/product-reviews/B0725X7NSJ/ref=cm_cr_dp_d_show_all_btm?ie=UTF8&reviewerType=all_reviews&pageNumber=1\n",
            "https://www.amazon.com/Logitech-Comfort-Wireless-Keyboard-Optical/product-reviews/B0725X7NSJ/ref=cm_cr_dp_d_show_all_btm?ie=UTF8&reviewerType=all_reviews&pageNumber=0\n",
            "https://www.amazon.com/Logitech-Comfort-Wireless-Keyboard-Optical/product-reviews/B0725X7NSJ/ref=cm_cr_dp_d_show_all_btm?ie=UTF8&reviewerType=all_reviews&pageNumber=1\n",
            "https://www.amazon.com/Logitech-MK345-Wireless-Combo-Right-Handed/product-reviews/B00QXT5T3U/ref=cm_cr_dp_d_show_all_btm?ie=UTF8&reviewerType=all_reviews&pageNumber=0\n",
            "https://www.amazon.com/Logitech-MK345-Wireless-Combo-Right-Handed/product-reviews/B00QXT5T3U/ref=cm_cr_dp_d_show_all_btm?ie=UTF8&reviewerType=all_reviews&pageNumber=1\n",
            "https://www.amazon.com/Logitech-MK345-Wireless-Combo-Right-Handed/product-reviews/B00QXT5T3U/ref=cm_cr_dp_d_show_all_btm?ie=UTF8&reviewerType=all_reviews&pageNumber=0\n",
            "https://www.amazon.com/Logitech-MK345-Wireless-Combo-Right-Handed/product-reviews/B00QXT5T3U/ref=cm_cr_dp_d_show_all_btm?ie=UTF8&reviewerType=all_reviews&pageNumber=1\n",
            "https://www.amazon.com/Logitech-13004-MK335/product-reviews/B072JX77X6/ref=cm_cr_dp_d_show_all_btm?ie=UTF8&reviewerType=all_reviews&pageNumber=0\n",
            "https://www.amazon.com/Logitech-13004-MK335/product-reviews/B072JX77X6/ref=cm_cr_dp_d_show_all_btm?ie=UTF8&reviewerType=all_reviews&pageNumber=1\n",
            "https://www.amazon.com/Logitech-13004-MK335/product-reviews/B072JX77X6/ref=cm_cr_dp_d_show_all_btm?ie=UTF8&reviewerType=all_reviews&pageNumber=0\n",
            "https://www.amazon.com/Logitech-13004-MK335/product-reviews/B072JX77X6/ref=cm_cr_dp_d_show_all_btm?ie=UTF8&reviewerType=all_reviews&pageNumber=1\n",
            "https://www.amazon.com/Logitech-Desktop-Durable-Comfortable-keyboard/product-reviews/B003NREDC8/ref=cm_cr_dp_d_show_all_btm?ie=UTF8&reviewerType=all_reviews&pageNumber=0\n",
            "https://www.amazon.com/Logitech-Desktop-Durable-Comfortable-keyboard/product-reviews/B003NREDC8/ref=cm_cr_dp_d_show_all_btm?ie=UTF8&reviewerType=all_reviews&pageNumber=1\n",
            "https://www.amazon.com/Logitech-Desktop-Durable-Comfortable-keyboard/product-reviews/B003NREDC8/ref=cm_cr_dp_d_show_all_btm?ie=UTF8&reviewerType=all_reviews&pageNumber=0\n",
            "https://www.amazon.com/Logitech-Desktop-Durable-Comfortable-keyboard/product-reviews/B003NREDC8/ref=cm_cr_dp_d_show_all_btm?ie=UTF8&reviewerType=all_reviews&pageNumber=1\n",
            "https://www.amazon.com/Logitech-Wireless-Keyboard-SilentTouch-Technology/product-reviews/B089KV4YYX/ref=cm_cr_dp_d_show_all_btm?ie=UTF8&reviewerType=all_reviews&pageNumber=0\n",
            "https://www.amazon.com/Logitech-Wireless-Keyboard-SilentTouch-Technology/product-reviews/B089KV4YYX/ref=cm_cr_dp_d_show_all_btm?ie=UTF8&reviewerType=all_reviews&pageNumber=1\n",
            "https://www.amazon.com/Logitech-Wireless-Keyboard-SilentTouch-Technology/product-reviews/B089KV4YYX/ref=cm_cr_dp_d_show_all_btm?ie=UTF8&reviewerType=all_reviews&pageNumber=0\n",
            "https://www.amazon.com/Logitech-Wireless-Keyboard-SilentTouch-Technology/product-reviews/B089KV4YYX/ref=cm_cr_dp_d_show_all_btm?ie=UTF8&reviewerType=all_reviews&pageNumber=1\n",
            "https://www.amazon.com/Logitech-MK550-Wireless-Keyboard-Mouse/product-reviews/B003VAHYNC/ref=cm_cr_dp_d_show_all_btm?ie=UTF8&reviewerType=all_reviews&pageNumber=0\n",
            "https://www.amazon.com/Logitech-MK550-Wireless-Keyboard-Mouse/product-reviews/B003VAHYNC/ref=cm_cr_dp_d_show_all_btm?ie=UTF8&reviewerType=all_reviews&pageNumber=1\n",
            "https://www.amazon.com/Logitech-MK550-Wireless-Keyboard-Mouse/product-reviews/B003VAHYNC/ref=cm_cr_dp_d_show_all_btm?ie=UTF8&reviewerType=all_reviews&pageNumber=0\n",
            "https://www.amazon.com/Logitech-MK550-Wireless-Keyboard-Mouse/product-reviews/B003VAHYNC/ref=cm_cr_dp_d_show_all_btm?ie=UTF8&reviewerType=all_reviews&pageNumber=1\n",
            "https://www.amazon.com/Logitech-MK235-Wireless-Keyboard-Mouse/product-reviews/B01AROOL12/ref=cm_cr_dp_d_show_all_btm?ie=UTF8&reviewerType=all_reviews&pageNumber=0\n",
            "https://www.amazon.com/Logitech-MK235-Wireless-Keyboard-Mouse/product-reviews/B01AROOL12/ref=cm_cr_dp_d_show_all_btm?ie=UTF8&reviewerType=all_reviews&pageNumber=1\n",
            "https://www.amazon.com/Logitech-MK235-Wireless-Keyboard-Mouse/product-reviews/B01AROOL12/ref=cm_cr_dp_d_show_all_btm?ie=UTF8&reviewerType=all_reviews&pageNumber=0\n",
            "https://www.amazon.com/Logitech-MK235-Wireless-Keyboard-Mouse/product-reviews/B01AROOL12/ref=cm_cr_dp_d_show_all_btm?ie=UTF8&reviewerType=all_reviews&pageNumber=1\n",
            "https://www.amazon.com/Logitech-MK470-Slim-Wireless-Combo/product-reviews/B07VD4Q84X/ref=cm_cr_dp_d_show_all_btm?ie=UTF8&reviewerType=all_reviews&pageNumber=0\n",
            "https://www.amazon.com/Logitech-MK470-Slim-Wireless-Combo/product-reviews/B07VD4Q84X/ref=cm_cr_dp_d_show_all_btm?ie=UTF8&reviewerType=all_reviews&pageNumber=1\n",
            "https://www.amazon.com/Logitech-MK470-Slim-Wireless-Combo/product-reviews/B07VD4Q84X/ref=cm_cr_dp_d_show_all_btm?ie=UTF8&reviewerType=all_reviews&pageNumber=0\n",
            "https://www.amazon.com/Logitech-MK470-Slim-Wireless-Combo/product-reviews/B07VD4Q84X/ref=cm_cr_dp_d_show_all_btm?ie=UTF8&reviewerType=all_reviews&pageNumber=1\n",
            "https://www.amazon.com/Logitech-MK850-Performance-Wireless-Keyboard/product-reviews/B01NAVO5PF/ref=cm_cr_dp_d_show_all_btm?ie=UTF8&reviewerType=all_reviews&pageNumber=0\n",
            "https://www.amazon.com/Logitech-MK850-Performance-Wireless-Keyboard/product-reviews/B01NAVO5PF/ref=cm_cr_dp_d_show_all_btm?ie=UTF8&reviewerType=all_reviews&pageNumber=1\n",
            "https://www.amazon.com/Logitech-MK850-Performance-Wireless-Keyboard/product-reviews/B01NAVO5PF/ref=cm_cr_dp_d_show_all_btm?ie=UTF8&reviewerType=all_reviews&pageNumber=0\n",
            "https://www.amazon.com/Logitech-MK850-Performance-Wireless-Keyboard/product-reviews/B01NAVO5PF/ref=cm_cr_dp_d_show_all_btm?ie=UTF8&reviewerType=all_reviews&pageNumber=1\n",
            "https://www.amazon.com/Logitech-Full-Size-Keyboard-High-Definition-Optical/product-reviews/B003NR874S/ref=cm_cr_dp_d_show_all_btm?ie=UTF8&reviewerType=all_reviews&pageNumber=0\n",
            "https://www.amazon.com/Logitech-Full-Size-Keyboard-High-Definition-Optical/product-reviews/B003NR874S/ref=cm_cr_dp_d_show_all_btm?ie=UTF8&reviewerType=all_reviews&pageNumber=1\n",
            "https://www.amazon.com/Logitech-Full-Size-Keyboard-High-Definition-Optical/product-reviews/B003NR874S/ref=cm_cr_dp_d_show_all_btm?ie=UTF8&reviewerType=all_reviews&pageNumber=0\n",
            "https://www.amazon.com/Logitech-Full-Size-Keyboard-High-Definition-Optical/product-reviews/B003NR874S/ref=cm_cr_dp_d_show_all_btm?ie=UTF8&reviewerType=all_reviews&pageNumber=1\n",
            "https://www.amazon.com/Logitech-MK270-Wireless-Keyboard-Mouse/product-reviews/B00BP5KOPA/ref=cm_cr_dp_d_show_all_btm?ie=UTF8&reviewerType=all_reviews&pageNumber=0\n",
            "https://www.amazon.com/Logitech-MK270-Wireless-Keyboard-Mouse/product-reviews/B00BP5KOPA/ref=cm_cr_dp_d_show_all_btm?ie=UTF8&reviewerType=all_reviews&pageNumber=1\n",
            "https://www.amazon.com/Logitech-MK270-Wireless-Keyboard-Mouse/product-reviews/B00BP5KOPA/ref=cm_cr_dp_d_show_all_btm?ie=UTF8&reviewerType=all_reviews&pageNumber=0\n",
            "https://www.amazon.com/Logitech-MK270-Wireless-Keyboard-Mouse/product-reviews/B00BP5KOPA/ref=cm_cr_dp_d_show_all_btm?ie=UTF8&reviewerType=all_reviews&pageNumber=1\n",
            "https://www.amazon.com/Logitech-MK520-Wireless-Keyboard-Mouse/product-reviews/B003VANO7C/ref=cm_cr_dp_d_show_all_btm?ie=UTF8&reviewerType=all_reviews&pageNumber=0\n",
            "https://www.amazon.com/Logitech-MK520-Wireless-Keyboard-Mouse/product-reviews/B003VANO7C/ref=cm_cr_dp_d_show_all_btm?ie=UTF8&reviewerType=all_reviews&pageNumber=1\n",
            "https://www.amazon.com/Logitech-MK520-Wireless-Keyboard-Mouse/product-reviews/B003VANO7C/ref=cm_cr_dp_d_show_all_btm?ie=UTF8&reviewerType=all_reviews&pageNumber=0\n",
            "https://www.amazon.com/Logitech-MK520-Wireless-Keyboard-Mouse/product-reviews/B003VANO7C/ref=cm_cr_dp_d_show_all_btm?ie=UTF8&reviewerType=all_reviews&pageNumber=1\n",
            "https://www.amazon.com/Logitech-S120-Stereo-Speakers-Pack/product-reviews/B07K2KPSBQ/ref=cm_cr_dp_d_show_all_btm?ie=UTF8&reviewerType=all_reviews&pageNumber=0\n",
            "https://www.amazon.com/Logitech-S120-Stereo-Speakers-Pack/product-reviews/B07K2KPSBQ/ref=cm_cr_dp_d_show_all_btm?ie=UTF8&reviewerType=all_reviews&pageNumber=1\n",
            "https://www.amazon.com/Logitech-Master-Advanced-Wireless-Mouse/product-reviews/B08HYV33XJ/ref=cm_cr_dp_d_show_all_btm?ie=UTF8&reviewerType=all_reviews&pageNumber=0\n",
            "https://www.amazon.com/Logitech-Master-Advanced-Wireless-Mouse/product-reviews/B08HYV33XJ/ref=cm_cr_dp_d_show_all_btm?ie=UTF8&reviewerType=all_reviews&pageNumber=1\n",
            "https://www.amazon.com/Logitech-Master-Advanced-Wireless-Mouse/product-reviews/B08HYV33XJ/ref=cm_cr_dp_d_show_all_btm?ie=UTF8&reviewerType=all_reviews&pageNumber=0\n",
            "https://www.amazon.com/Logitech-Master-Advanced-Wireless-Mouse/product-reviews/B08HYV33XJ/ref=cm_cr_dp_d_show_all_btm?ie=UTF8&reviewerType=all_reviews&pageNumber=1\n",
            "https://www.amazon.com/Logitech-Powered-Multimedia-Stereo-Speakers/product-reviews/B07NLHW3D6/ref=cm_cr_dp_d_show_all_btm?ie=UTF8&reviewerType=all_reviews&pageNumber=0\n",
            "https://www.amazon.com/Logitech-Powered-Multimedia-Stereo-Speakers/product-reviews/B07NLHW3D6/ref=cm_cr_dp_d_show_all_btm?ie=UTF8&reviewerType=all_reviews&pageNumber=1\n"
          ]
        }
      ]
    },
    {
      "cell_type": "code",
      "metadata": {
        "id": "66a83abe-00f3-4c95-95d0-8ac1f7361f81",
        "outputId": "2eca8f16-f898-486a-b5eb-fdd2804bee5b"
      },
      "source": [
        "len(reviews)"
      ],
      "execution_count": null,
      "outputs": [
        {
          "data": {
            "text/plain": [
              "580"
            ]
          },
          "execution_count": 123,
          "metadata": {},
          "output_type": "execute_result"
        }
      ]
    },
    {
      "cell_type": "markdown",
      "metadata": {
        "id": "51a6621a-ec3c-4bb0-bd1f-6e43a5a6361c"
      },
      "source": [
        "## Getting the reviews into a json file"
      ]
    },
    {
      "cell_type": "markdown",
      "metadata": {
        "id": "cca3dfe3-a673-4a9f-8ea1-4d8d1ad05310"
      },
      "source": [
        "# Currently markdown change to code\n",
        "import json\n",
        "json_file = json.dumps(reviews)\n",
        "json_file"
      ]
    },
    {
      "cell_type": "markdown",
      "metadata": {
        "id": "8a168d5a-f191-40f3-a479-4f693796b1d5"
      },
      "source": [
        "## Saving the reviews in a json file"
      ]
    },
    {
      "cell_type": "code",
      "metadata": {
        "id": "a6c500b0-6cc7-424f-a0d1-9157b77fcbbe"
      },
      "source": [
        "with open(\"amazon.json\", \"w\") as outfile:\n",
        "    outfile.write(json_file)"
      ],
      "execution_count": null,
      "outputs": []
    },
    {
      "cell_type": "markdown",
      "metadata": {
        "id": "a04d174b-d8b7-416d-8bcf-35bd5e4b9e4f"
      },
      "source": [
        "## Saving the reviews in a csv file"
      ]
    },
    {
      "cell_type": "code",
      "metadata": {
        "id": "6743118d-1f69-4428-a897-8de7465dfdfe",
        "outputId": "38dd0841-4bac-4bc6-dd0c-a67e68dec82c"
      },
      "source": [
        "import pandas as pd\n",
        "df = pd.read_json(\"amazon.json\")\n",
        "df.to_csv(\"amazon_review.csv\")\n",
        "df.head()"
      ],
      "execution_count": null,
      "outputs": [
        {
          "data": {
            "text/html": [
              "<div>\n",
              "<style scoped>\n",
              "    .dataframe tbody tr th:only-of-type {\n",
              "        vertical-align: middle;\n",
              "    }\n",
              "\n",
              "    .dataframe tbody tr th {\n",
              "        vertical-align: top;\n",
              "    }\n",
              "\n",
              "    .dataframe thead th {\n",
              "        text-align: right;\n",
              "    }\n",
              "</style>\n",
              "<table border=\"1\" class=\"dataframe\">\n",
              "  <thead>\n",
              "    <tr style=\"text-align: right;\">\n",
              "      <th></th>\n",
              "      <th>0</th>\n",
              "    </tr>\n",
              "  </thead>\n",
              "  <tbody>\n",
              "    <tr>\n",
              "      <th>0</th>\n",
              "      <td>\\n\\n  Logitech in their infinite wisdom has dr...</td>\n",
              "    </tr>\n",
              "    <tr>\n",
              "      <th>1</th>\n",
              "      <td>\\n\\n  **UPDATE** A couple of weeks later, I ha...</td>\n",
              "    </tr>\n",
              "    <tr>\n",
              "      <th>2</th>\n",
              "      <td>\\n\\n  I have loved this keyboard. When the spa...</td>\n",
              "    </tr>\n",
              "    <tr>\n",
              "      <th>3</th>\n",
              "      <td>\\n\\n  I already had one of these and am using ...</td>\n",
              "    </tr>\n",
              "    <tr>\n",
              "      <th>4</th>\n",
              "      <td>\\n\\n  User must install Logitech's control cen...</td>\n",
              "    </tr>\n",
              "  </tbody>\n",
              "</table>\n",
              "</div>"
            ],
            "text/plain": [
              "                                                   0\n",
              "0  \\n\\n  Logitech in their infinite wisdom has dr...\n",
              "1  \\n\\n  **UPDATE** A couple of weeks later, I ha...\n",
              "2  \\n\\n  I have loved this keyboard. When the spa...\n",
              "3  \\n\\n  I already had one of these and am using ...\n",
              "4  \\n\\n  User must install Logitech's control cen..."
            ]
          },
          "execution_count": 209,
          "metadata": {},
          "output_type": "execute_result"
        }
      ]
    },
    {
      "cell_type": "code",
      "metadata": {
        "id": "d62a91e5-66ff-4377-90fd-12efd319c391"
      },
      "source": [
        ""
      ],
      "execution_count": null,
      "outputs": []
    },
    {
      "cell_type": "code",
      "metadata": {
        "id": "72350065-01c1-423e-a847-e6813b4d27ba"
      },
      "source": [
        "import nltk\n",
        "#nltk.download()"
      ],
      "execution_count": null,
      "outputs": []
    },
    {
      "cell_type": "code",
      "metadata": {
        "id": "b200cc68-f4ca-413c-88d6-b8859ccdb427",
        "outputId": "f085d8d5-9829-4254-a4ac-2fa14823a095"
      },
      "source": [
        "df = df.replace('\\n','', regex=True)\n",
        "df.fillna(\"Not Available\")\n",
        "df.rename(columns={0: 'reviews'})"
      ],
      "execution_count": null,
      "outputs": [
        {
          "data": {
            "text/html": [
              "<div>\n",
              "<style scoped>\n",
              "    .dataframe tbody tr th:only-of-type {\n",
              "        vertical-align: middle;\n",
              "    }\n",
              "\n",
              "    .dataframe tbody tr th {\n",
              "        vertical-align: top;\n",
              "    }\n",
              "\n",
              "    .dataframe thead th {\n",
              "        text-align: right;\n",
              "    }\n",
              "</style>\n",
              "<table border=\"1\" class=\"dataframe\">\n",
              "  <thead>\n",
              "    <tr style=\"text-align: right;\">\n",
              "      <th></th>\n",
              "      <th>reviews</th>\n",
              "    </tr>\n",
              "  </thead>\n",
              "  <tbody>\n",
              "    <tr>\n",
              "      <th>0</th>\n",
              "      <td>Logitech in their infinite wisdom has droppe...</td>\n",
              "    </tr>\n",
              "    <tr>\n",
              "      <th>1</th>\n",
              "      <td>**UPDATE** A couple of weeks later, I have a...</td>\n",
              "    </tr>\n",
              "    <tr>\n",
              "      <th>2</th>\n",
              "      <td>I have loved this keyboard. When the space b...</td>\n",
              "    </tr>\n",
              "    <tr>\n",
              "      <th>3</th>\n",
              "      <td>I already had one of these and am using it o...</td>\n",
              "    </tr>\n",
              "    <tr>\n",
              "      <th>4</th>\n",
              "      <td>User must install Logitech's control center ...</td>\n",
              "    </tr>\n",
              "    <tr>\n",
              "      <th>...</th>\n",
              "      <td>...</td>\n",
              "    </tr>\n",
              "    <tr>\n",
              "      <th>575</th>\n",
              "      <td>Early on I noticed that the tracking was fau...</td>\n",
              "    </tr>\n",
              "    <tr>\n",
              "      <th>576</th>\n",
              "      <td>Keys are not as easy to push as in other log...</td>\n",
              "    </tr>\n",
              "    <tr>\n",
              "      <th>577</th>\n",
              "      <td>It is very pleasant having a nice clean new ...</td>\n",
              "    </tr>\n",
              "    <tr>\n",
              "      <th>578</th>\n",
              "      <td>Early on I noticed that the tracking was fau...</td>\n",
              "    </tr>\n",
              "    <tr>\n",
              "      <th>579</th>\n",
              "      <td>Keys are not as easy to push as in other log...</td>\n",
              "    </tr>\n",
              "  </tbody>\n",
              "</table>\n",
              "<p>580 rows × 1 columns</p>\n",
              "</div>"
            ],
            "text/plain": [
              "                                               reviews\n",
              "0      Logitech in their infinite wisdom has droppe...\n",
              "1      **UPDATE** A couple of weeks later, I have a...\n",
              "2      I have loved this keyboard. When the space b...\n",
              "3      I already had one of these and am using it o...\n",
              "4      User must install Logitech's control center ...\n",
              "..                                                 ...\n",
              "575    Early on I noticed that the tracking was fau...\n",
              "576    Keys are not as easy to push as in other log...\n",
              "577    It is very pleasant having a nice clean new ...\n",
              "578    Early on I noticed that the tracking was fau...\n",
              "579    Keys are not as easy to push as in other log...\n",
              "\n",
              "[580 rows x 1 columns]"
            ]
          },
          "execution_count": 211,
          "metadata": {},
          "output_type": "execute_result"
        }
      ]
    },
    {
      "cell_type": "markdown",
      "metadata": {
        "id": "d6dc3b79-4155-4c87-b178-1c2fd7e9e361"
      },
      "source": [
        "## Tokenizing"
      ]
    },
    {
      "cell_type": "code",
      "metadata": {
        "id": "b9156230-9877-4c47-97a7-f9ae28020c94"
      },
      "source": [
        "from nltk.tokenize import word_tokenize, RegexpTokenizer"
      ],
      "execution_count": null,
      "outputs": []
    },
    {
      "cell_type": "code",
      "metadata": {
        "id": "3f5a73df-6642-4509-93d3-a7941cad34db",
        "outputId": "a0fb22fd-9322-4173-98d7-a3ce0fc2f12c"
      },
      "source": [
        "words = []\n",
        "for i in df[0]:\n",
        "    tokenizer = RegexpTokenizer(r'\\w+')\n",
        "    word = tokenizer.tokenize(i)\n",
        "    words.extend(word)\n",
        "words = [x.lower() for x in words]\n",
        "words[:20]"
      ],
      "execution_count": null,
      "outputs": [
        {
          "data": {
            "text/plain": [
              "['logitech',\n",
              " 'in',\n",
              " 'their',\n",
              " 'infinite',\n",
              " 'wisdom',\n",
              " 'has',\n",
              " 'dropped',\n",
              " 'the',\n",
              " 'unifying',\n",
              " 'dongle',\n",
              " 'from',\n",
              " 'this',\n",
              " 'product',\n",
              " 'instead',\n",
              " 'you',\n",
              " 'get',\n",
              " 'a',\n",
              " 'single',\n",
              " 'dongle',\n",
              " 'that']"
            ]
          },
          "execution_count": 213,
          "metadata": {},
          "output_type": "execute_result"
        }
      ]
    },
    {
      "cell_type": "markdown",
      "metadata": {
        "id": "1b15fd39-8f34-4813-a97d-a78accc76da1"
      },
      "source": [
        "unique_words = []\n",
        "for i in frequency:\n",
        "    unique_words.append(i)\n",
        "\n",
        "print(unique_words[:20])\n",
        "len(unique_words)"
      ]
    },
    {
      "cell_type": "markdown",
      "metadata": {
        "id": "4869daaf-97d6-4d45-a028-12fcd0759182"
      },
      "source": [
        "## Lemmatizing"
      ]
    },
    {
      "cell_type": "markdown",
      "metadata": {
        "id": "f1bf9efd-5c5d-4638-8f32-67e895f95af8"
      },
      "source": [
        "from nltk import WordNetLemmatizer\n",
        "lemmatizer = WordNetLemmatizer()\n",
        "lem_word = []\n",
        "for i in words: \n",
        "    lem_word.append(lemmatizer.lemmatize(i))\n",
        "\n",
        "lem = [lem_word]\n",
        "print(lem)"
      ]
    }
  ]
}